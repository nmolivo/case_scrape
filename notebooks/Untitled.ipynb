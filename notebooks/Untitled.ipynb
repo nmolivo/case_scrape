{
 "cells": [
  {
   "cell_type": "code",
   "execution_count": null,
   "metadata": {},
   "outputs": [],
   "source": [
    "492405"
   ]
  },
  {
   "cell_type": "code",
   "execution_count": null,
   "metadata": {},
   "outputs": [],
   "source": [
    "https://chromedriver.chromium.org/"
   ]
  },
  {
   "cell_type": "code",
   "execution_count": null,
   "metadata": {},
   "outputs": [],
   "source": [
    "def check_for "
   ]
  },
  {
   "cell_type": "code",
   "execution_count": null,
   "metadata": {},
   "outputs": [],
   "source": [
    "def search_case_number(driver, case_number) -> webdriver.Chrome:\n",
    "    \"\"\"upon landing on the search page, this function will navigate the agreement and then enter a case \n",
    "    number to search criminal records and click the submit button.\n",
    "    Be sure to already be on the case search page when you run this function.\"\"\"\n",
    "    WebDriverWait(driver, 10).until(\n",
    "        EC.element_to_be_clickable((By.XPATH, \"//*[(@id = 'SheetContentPlaceHolder_rbCrCase')]\"))).click()\n",
    "    driver.implicitly_wait(2)\n",
    "    \n",
    "    if len(driver.find_elements(By.ID, \"SheetContentPlaceHolder_btnYes\")) > 0:\n",
    "        WebDriverWait(driver, 10).until(EC.element_to_be_clickable((By.ID, \"SheetContentPlaceHolder_btnYes\"))).click()\n",
    "        WebDriverWait(driver, 10).until(EC.element_to_be_clickable((By.XPATH, \"//*[(@id = 'SheetContentPlaceHolder_rbCrCase')]\"))).click()\n",
    "        driver.implicitly_wait(3)\n",
    "\n",
    "    text_box = driver.find_element(By.XPATH, \"//input[(@type = 'text')]\")\n",
    "    text_box.clear()\n",
    "    text_box.send_keys(case_number)\n",
    "    WebDriverWait(driver, 10).until(EC.element_to_be_clickable((By.ID, \"SheetContentPlaceHolder_criminalCaseSearch_btnSubmitCase\"))).click()\n",
    "    driver.implicitly_wait(random.randint(4,15))"
   ]
  }
 ],
 "metadata": {
  "kernelspec": {
   "display_name": "cuya-courts",
   "language": "python",
   "name": "cuya-courts"
  },
  "language_info": {
   "codemirror_mode": {
    "name": "ipython",
    "version": 3
   },
   "file_extension": ".py",
   "mimetype": "text/x-python",
   "name": "python",
   "nbconvert_exporter": "python",
   "pygments_lexer": "ipython3",
   "version": "3.8.5"
  }
 },
 "nbformat": 4,
 "nbformat_minor": 4
}
