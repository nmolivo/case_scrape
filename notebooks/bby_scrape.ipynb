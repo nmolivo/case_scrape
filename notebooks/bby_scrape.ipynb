{
 "cells": [
  {
   "cell_type": "code",
   "execution_count": 7,
   "metadata": {},
   "outputs": [],
   "source": [
    "import sys"
   ]
  },
  {
   "cell_type": "code",
   "execution_count": 8,
   "metadata": {},
   "outputs": [
    {
     "name": "stdout",
     "output_type": "stream",
     "text": [
      "['/Users/nmolivo/Documents/Repos/case_scrape/notebooks', '/Library/Frameworks/Python.framework/Versions/3.10/lib/python310.zip', '/Library/Frameworks/Python.framework/Versions/3.10/lib/python3.10', '/Library/Frameworks/Python.framework/Versions/3.10/lib/python3.10/lib-dynload', '', '/Users/nmolivo/Documents/Repos/case_scrape/.venv/lib/python3.10/site-packages', '/Users/nmolivo/Documents/Repos/case_scrape']\n"
     ]
    }
   ],
   "source": [
    "print(sys.path)"
   ]
  },
  {
   "cell_type": "code",
   "execution_count": 9,
   "metadata": {},
   "outputs": [],
   "source": [
    "sys.path.append(\"/Users/nmolivo/Documents/Repos/case_scrape\")"
   ]
  },
  {
   "cell_type": "code",
   "execution_count": 10,
   "metadata": {},
   "outputs": [],
   "source": [
    "import os\n",
    "import pandas as pd\n",
    "from sqlalchemy import create_engine\n",
    "from sqlalchemy.orm import Session, sessionmaker, scoped_session\n",
    "from chromedriver_py import binary_path\n",
    "from datetime import datetime\n",
    "from selenium import webdriver\n",
    "from selenium.webdriver.chrome.options import Options\n",
    "from selenium.webdriver.chrome.webdriver import WebDriver\n",
    "from selenium.webdriver.common.by import By\n",
    "from selenium.webdriver.common.keys import Keys\n",
    "from selenium.common.exceptions import TimeoutException, WebDriverException#, NoSuchElementException\n",
    "from selenium.webdriver.support.ui import WebDriverWait, Select\n",
    "from selenium.webdriver.support import expected_conditions as EC\n",
    "from sqlalchemy.util.compat import contextmanager\n",
    "import random\n",
    "from typing import Tuple\n",
    "from selenium import webdriver\n",
    "from webdriver_manager.chrome import ChromeDriverManager\n",
    "from selenium.webdriver.chrome.service import Service as ChromeService\n",
    "\n",
    "from case_scrape.models import Base\n",
    "from case_scrape.db.db_config import DBConfig\n",
    "from case_scrape import models"
   ]
  },
  {
   "cell_type": "code",
   "execution_count": 13,
   "metadata": {},
   "outputs": [
    {
     "ename": "TimeoutException",
     "evalue": "Message: \nStacktrace:\n0   chromedriver                        0x000000010b327fa8 chromedriver + 4886440\n1   chromedriver                        0x000000010b2a5643 chromedriver + 4351555\n2   chromedriver                        0x000000010aef3b27 chromedriver + 477991\n3   chromedriver                        0x000000010af3876c chromedriver + 759660\n4   chromedriver                        0x000000010af389c1 chromedriver + 760257\n5   chromedriver                        0x000000010af7c204 chromedriver + 1036804\n6   chromedriver                        0x000000010af5e5fd chromedriver + 914941\n7   chromedriver                        0x000000010af795fe chromedriver + 1025534\n8   chromedriver                        0x000000010af5e3a3 chromedriver + 914339\n9   chromedriver                        0x000000010af2857f chromedriver + 693631\n10  chromedriver                        0x000000010af29b1e chromedriver + 699166\n11  chromedriver                        0x000000010b2f4b9e chromedriver + 4676510\n12  chromedriver                        0x000000010b2f991e chromedriver + 4696350\n13  chromedriver                        0x000000010b30119f chromedriver + 4727199\n14  chromedriver                        0x000000010b2fa81a chromedriver + 4700186\n15  chromedriver                        0x000000010b2cda62 chromedriver + 4516450\n16  chromedriver                        0x000000010b3198c8 chromedriver + 4827336\n17  chromedriver                        0x000000010b319a45 chromedriver + 4827717\n18  chromedriver                        0x000000010b32f7ef chromedriver + 4917231\n19  libsystem_pthread.dylib             0x00007ff8100f8259 _pthread_start + 125\n20  libsystem_pthread.dylib             0x00007ff8100f3c7b thread_start + 15\n",
     "output_type": "error",
     "traceback": [
      "\u001b[0;31m---------------------------------------------------------------------------\u001b[0m",
      "\u001b[0;31mTimeoutException\u001b[0m                          Traceback (most recent call last)",
      "Cell \u001b[0;32mIn [13], line 1\u001b[0m\n\u001b[0;32m----> 1\u001b[0m \u001b[39mfrom\u001b[39;00m \u001b[39mcase_scrape\u001b[39;00m\u001b[39m.\u001b[39;00m\u001b[39mscripts\u001b[39;00m\u001b[39m.\u001b[39;00m\u001b[39mweb_scrape\u001b[39;00m \u001b[39mimport\u001b[39;00m \u001b[39m*\u001b[39m\n",
      "File \u001b[0;32m~/Documents/Repos/case_scrape/case_scrape/scripts/web_scrape.py:559\u001b[0m\n\u001b[1;32m    555\u001b[0m session \u001b[39m=\u001b[39m Session()\n\u001b[1;32m    556\u001b[0m driver \u001b[39m=\u001b[39m webdriver\u001b[39m.\u001b[39mChrome(\n\u001b[1;32m    557\u001b[0m     options\u001b[39m=\u001b[39mopts, service\u001b[39m=\u001b[39mChromeService(ChromeDriverManager()\u001b[39m.\u001b[39minstall())\n\u001b[1;32m    558\u001b[0m )\n\u001b[0;32m--> 559\u001b[0m driver \u001b[39m=\u001b[39m search_case_number(driver, case_no_str)\n\u001b[1;32m    560\u001b[0m data_elems \u001b[39m=\u001b[39m driver\u001b[39m.\u001b[39mfind_elements(\n\u001b[1;32m    561\u001b[0m     By\u001b[39m.\u001b[39mXPATH, \u001b[39m\"\u001b[39m\u001b[39m//*[(@id=\u001b[39m\u001b[39m'\u001b[39m\u001b[39mSheetContentPlaceHolder_ctl00_gvCaseResults\u001b[39m\u001b[39m'\u001b[39m\u001b[39m)]//*[@href]\u001b[39m\u001b[39m\"\u001b[39m\n\u001b[1;32m    562\u001b[0m )\n\u001b[1;32m    563\u001b[0m \u001b[39mif\u001b[39;00m \u001b[39mlen\u001b[39m(data_elems) \u001b[39m>\u001b[39m \u001b[39m0\u001b[39m:\n",
      "File \u001b[0;32m~/Documents/Repos/case_scrape/case_scrape/scripts/web_scrape.py:90\u001b[0m, in \u001b[0;36msearch_case_number\u001b[0;34m(driver, case_number)\u001b[0m\n\u001b[1;32m     88\u001b[0m driver\u001b[39m.\u001b[39mget(\u001b[39m\"\u001b[39m\u001b[39mhttps://cpdocket.cp.cuyahogacounty.us/Search.aspx\u001b[39m\u001b[39m\"\u001b[39m)\n\u001b[1;32m     89\u001b[0m driver \u001b[39m=\u001b[39m check_tos(driver)\n\u001b[0;32m---> 90\u001b[0m WebDriverWait(driver, \u001b[39m10\u001b[39;49m)\u001b[39m.\u001b[39;49muntil(\n\u001b[1;32m     91\u001b[0m     EC\u001b[39m.\u001b[39;49melement_to_be_clickable(\n\u001b[1;32m     92\u001b[0m         (By\u001b[39m.\u001b[39;49mXPATH, \u001b[39m\"\u001b[39;49m\u001b[39m//*[(@id = \u001b[39;49m\u001b[39m'\u001b[39;49m\u001b[39mSheetContentPlaceHolder_rbCrCase\u001b[39;49m\u001b[39m'\u001b[39;49m\u001b[39m)]\u001b[39;49m\u001b[39m\"\u001b[39;49m)\n\u001b[1;32m     93\u001b[0m     )\n\u001b[1;32m     94\u001b[0m )\u001b[39m.\u001b[39mclick()\n\u001b[1;32m     95\u001b[0m driver\u001b[39m.\u001b[39mimplicitly_wait(\u001b[39m2\u001b[39m)\n\u001b[1;32m     97\u001b[0m \u001b[39mif\u001b[39;00m \u001b[39mlen\u001b[39m(driver\u001b[39m.\u001b[39mfind_elements(By\u001b[39m.\u001b[39mID, \u001b[39m\"\u001b[39m\u001b[39mSheetContentPlaceHolder_btnYes\u001b[39m\u001b[39m\"\u001b[39m)) \u001b[39m>\u001b[39m \u001b[39m0\u001b[39m:\n",
      "File \u001b[0;32m~/Documents/Repos/case_scrape/.venv/lib/python3.10/site-packages/selenium/webdriver/support/wait.py:90\u001b[0m, in \u001b[0;36mWebDriverWait.until\u001b[0;34m(self, method, message)\u001b[0m\n\u001b[1;32m     88\u001b[0m     \u001b[39mif\u001b[39;00m time\u001b[39m.\u001b[39mmonotonic() \u001b[39m>\u001b[39m end_time:\n\u001b[1;32m     89\u001b[0m         \u001b[39mbreak\u001b[39;00m\n\u001b[0;32m---> 90\u001b[0m \u001b[39mraise\u001b[39;00m TimeoutException(message, screen, stacktrace)\n",
      "\u001b[0;31mTimeoutException\u001b[0m: Message: \nStacktrace:\n0   chromedriver                        0x000000010b327fa8 chromedriver + 4886440\n1   chromedriver                        0x000000010b2a5643 chromedriver + 4351555\n2   chromedriver                        0x000000010aef3b27 chromedriver + 477991\n3   chromedriver                        0x000000010af3876c chromedriver + 759660\n4   chromedriver                        0x000000010af389c1 chromedriver + 760257\n5   chromedriver                        0x000000010af7c204 chromedriver + 1036804\n6   chromedriver                        0x000000010af5e5fd chromedriver + 914941\n7   chromedriver                        0x000000010af795fe chromedriver + 1025534\n8   chromedriver                        0x000000010af5e3a3 chromedriver + 914339\n9   chromedriver                        0x000000010af2857f chromedriver + 693631\n10  chromedriver                        0x000000010af29b1e chromedriver + 699166\n11  chromedriver                        0x000000010b2f4b9e chromedriver + 4676510\n12  chromedriver                        0x000000010b2f991e chromedriver + 4696350\n13  chromedriver                        0x000000010b30119f chromedriver + 4727199\n14  chromedriver                        0x000000010b2fa81a chromedriver + 4700186\n15  chromedriver                        0x000000010b2cda62 chromedriver + 4516450\n16  chromedriver                        0x000000010b3198c8 chromedriver + 4827336\n17  chromedriver                        0x000000010b319a45 chromedriver + 4827717\n18  chromedriver                        0x000000010b32f7ef chromedriver + 4917231\n19  libsystem_pthread.dylib             0x00007ff8100f8259 _pthread_start + 125\n20  libsystem_pthread.dylib             0x00007ff8100f3c7b thread_start + 15\n"
     ]
    }
   ],
   "source": [
    "from case_scrape.scripts.web_scrape import *"
   ]
  },
  {
   "cell_type": "code",
   "execution_count": null,
   "metadata": {},
   "outputs": [],
   "source": [
    "opts = Options()\n",
    "# opts.headless = True\n",
    "service = ChromeService(executable_path = ChromeDriverManager().install())\n",
    "driver = webdriver.Chrome(options = opts, service=service)"
   ]
  },
  {
   "cell_type": "markdown",
   "metadata": {},
   "source": []
  },
  {
   "cell_type": "code",
   "execution_count": 7,
   "metadata": {},
   "outputs": [],
   "source": [
    "case_no_str = \"655783\""
   ]
  },
  {
   "cell_type": "code",
   "execution_count": 8,
   "metadata": {},
   "outputs": [],
   "source": [
    "driver.get(\"https://cpdocket.cp.cuyahogacounty.us/Search.aspx\")\n"
   ]
  },
  {
   "cell_type": "code",
   "execution_count": 9,
   "metadata": {},
   "outputs": [],
   "source": [
    "driver = search_case_number(driver, case_no_str)"
   ]
  },
  {
   "cell_type": "code",
   "execution_count": 10,
   "metadata": {},
   "outputs": [],
   "source": [
    "driver, case_number = fetch_case_summary(session, driver)"
   ]
  },
  {
   "cell_type": "code",
   "execution_count": 11,
   "metadata": {},
   "outputs": [],
   "source": [
    "driver, charge_df = get_table(\n",
    "        driver,\n",
    "        case_number,\n",
    "        header_xpath=\"//table[(@id = 'SheetContentPlaceHolder_caseCharges_gvCharges')]//th\",\n",
    "        data_xpath=\"//table[(@id = 'SheetContentPlaceHolder_caseCharges_gvCharges')]//td\",\n",
    "    )"
   ]
  },
  {
   "cell_type": "code",
   "execution_count": 12,
   "metadata": {},
   "outputs": [
    {
     "data": {
      "text/html": [
       "<div>\n",
       "<style scoped>\n",
       "    .dataframe tbody tr th:only-of-type {\n",
       "        vertical-align: middle;\n",
       "    }\n",
       "\n",
       "    .dataframe tbody tr th {\n",
       "        vertical-align: top;\n",
       "    }\n",
       "\n",
       "    .dataframe thead th {\n",
       "        text-align: right;\n",
       "    }\n",
       "</style>\n",
       "<table border=\"1\" class=\"dataframe\">\n",
       "  <thead>\n",
       "    <tr style=\"text-align: right;\">\n",
       "      <th></th>\n",
       "      <th>TYPE</th>\n",
       "      <th>STATUTE</th>\n",
       "      <th>CHARGE DESCRIPTION</th>\n",
       "      <th>DISPOSITION</th>\n",
       "      <th>CASE_NUMBER</th>\n",
       "    </tr>\n",
       "  </thead>\n",
       "  <tbody>\n",
       "    <tr>\n",
       "      <th>0</th>\n",
       "      <td>INDICT</td>\n",
       "      <td>2911.13.A</td>\n",
       "      <td>BREAKING AND ENTERING</td>\n",
       "      <td>PLD GLTY- N/C - IND @ P/T</td>\n",
       "      <td>CR-21-655783-A</td>\n",
       "    </tr>\n",
       "    <tr>\n",
       "      <th>1</th>\n",
       "      <td>INDICT</td>\n",
       "      <td>2909.05.B(1)(B)</td>\n",
       "      <td>VANDALISM</td>\n",
       "      <td>PLD GLTY- N/C - IND @ P/T</td>\n",
       "      <td>CR-21-655783-A</td>\n",
       "    </tr>\n",
       "    <tr>\n",
       "      <th>2</th>\n",
       "      <td>INDICT</td>\n",
       "      <td>2913.02.A(1)</td>\n",
       "      <td>THEFT; AGGRAVATED THEFT</td>\n",
       "      <td>NOLLE</td>\n",
       "      <td>CR-21-655783-A</td>\n",
       "    </tr>\n",
       "    <tr>\n",
       "      <th>3</th>\n",
       "      <td>INDICT</td>\n",
       "      <td>2921.31.A</td>\n",
       "      <td>OBSTRUCTING OFFICIAL BUSINESS</td>\n",
       "      <td>NOLLE</td>\n",
       "      <td>CR-21-655783-A</td>\n",
       "    </tr>\n",
       "  </tbody>\n",
       "</table>\n",
       "</div>"
      ],
      "text/plain": [
       "     TYPE          STATUTE             CHARGE DESCRIPTION  \\\n",
       "0  INDICT        2911.13.A          BREAKING AND ENTERING   \n",
       "1  INDICT  2909.05.B(1)(B)                      VANDALISM   \n",
       "2  INDICT     2913.02.A(1)        THEFT; AGGRAVATED THEFT   \n",
       "3  INDICT        2921.31.A  OBSTRUCTING OFFICIAL BUSINESS   \n",
       "\n",
       "                 DISPOSITION     CASE_NUMBER  \n",
       "0  PLD GLTY- N/C - IND @ P/T  CR-21-655783-A  \n",
       "1  PLD GLTY- N/C - IND @ P/T  CR-21-655783-A  \n",
       "2                      NOLLE  CR-21-655783-A  \n",
       "3                      NOLLE  CR-21-655783-A  "
      ]
     },
     "execution_count": 12,
     "metadata": {},
     "output_type": "execute_result"
    }
   ],
   "source": [
    "charge_df"
   ]
  },
  {
   "cell_type": "code",
   "execution_count": 13,
   "metadata": {},
   "outputs": [],
   "source": [
    "engine = DBConfig(\n",
    "    password=os.getenv(\"DB_PASSWORD\"), user=os.getenv(\"DB_USER\")\n",
    ").get_engine()\n",
    "\n",
    "Session = sessionmaker(bind=engine)\n",
    "session = Session()\n",
    "db = session"
   ]
  },
  {
   "cell_type": "code",
   "execution_count": null,
   "metadata": {},
   "outputs": [],
   "source": []
  },
  {
   "cell_type": "code",
   "execution_count": 14,
   "metadata": {},
   "outputs": [],
   "source": [
    "from sqlalchemy import delete"
   ]
  },
  {
   "cell_type": "code",
   "execution_count": 15,
   "metadata": {},
   "outputs": [],
   "source": [
    "dele = models.Charge.__table__.delete().where(models.Charge.case_number == case_number)"
   ]
  },
  {
   "cell_type": "code",
   "execution_count": 16,
   "metadata": {},
   "outputs": [],
   "source": [
    "db.execute(dele)\n",
    "db.commit()"
   ]
  },
  {
   "cell_type": "code",
   "execution_count": 17,
   "metadata": {},
   "outputs": [
    {
     "data": {
      "text/plain": [
       "0"
      ]
     },
     "execution_count": 17,
     "metadata": {},
     "output_type": "execute_result"
    }
   ],
   "source": [
    "len(db.query(models.Charge).filter(models.Charge.case_number ==case_number).all())"
   ]
  },
  {
   "cell_type": "code",
   "execution_count": null,
   "metadata": {},
   "outputs": [],
   "source": []
  }
 ],
 "metadata": {
  "kernelspec": {
   "display_name": ".venv",
   "language": "python",
   "name": "python3"
  },
  "language_info": {
   "codemirror_mode": {
    "name": "ipython",
    "version": 3
   },
   "file_extension": ".py",
   "mimetype": "text/x-python",
   "name": "python",
   "nbconvert_exporter": "python",
   "pygments_lexer": "ipython3",
   "version": "3.10.0"
  },
  "vscode": {
   "interpreter": {
    "hash": "da8c13c39276f1ff4ff53aa12e588860d3000a93f5dfc4cfbf5db1e4ccd5d515"
   }
  }
 },
 "nbformat": 4,
 "nbformat_minor": 4
}
