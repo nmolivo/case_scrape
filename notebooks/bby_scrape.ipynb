{
 "cells": [
  {
   "cell_type": "code",
   "execution_count": 4,
   "metadata": {},
   "outputs": [],
   "source": [
    "import sys"
   ]
  },
  {
   "cell_type": "code",
   "execution_count": 5,
   "metadata": {},
   "outputs": [
    {
     "name": "stdout",
     "output_type": "stream",
     "text": [
      "['/Users/nmolivo/Documents/Repos/case_scrape/notebooks', '/Library/Frameworks/Python.framework/Versions/3.10/lib/python310.zip', '/Library/Frameworks/Python.framework/Versions/3.10/lib/python3.10', '/Library/Frameworks/Python.framework/Versions/3.10/lib/python3.10/lib-dynload', '', '/Users/nmolivo/Documents/Repos/case_scrape/.venv/lib/python3.10/site-packages']\n"
     ]
    }
   ],
   "source": [
    "print(sys.path)"
   ]
  },
  {
   "cell_type": "code",
   "execution_count": 6,
   "metadata": {},
   "outputs": [],
   "source": [
    "sys.path.append(\"/Users/nmolivo/Documents/Repos/case_scrape\")"
   ]
  },
  {
   "cell_type": "code",
   "execution_count": 17,
   "metadata": {},
   "outputs": [],
   "source": [
    "import os\n",
    "import pandas as pd\n",
    "from sqlalchemy import create_engine\n",
    "from sqlalchemy.orm import Session, sessionmaker, scoped_session\n",
    "from chromedriver_py import binary_path\n",
    "from datetime import datetime\n",
    "from selenium import webdriver\n",
    "from selenium.webdriver.chrome.options import Options\n",
    "from selenium.webdriver.chrome.webdriver import WebDriver\n",
    "from selenium.webdriver.common.by import By\n",
    "from selenium.webdriver.common.keys import Keys\n",
    "from selenium.common.exceptions import TimeoutException, WebDriverException#, NoSuchElementException\n",
    "from selenium.webdriver.support.ui import WebDriverWait, Select\n",
    "from selenium.webdriver.support import expected_conditions as EC\n",
    "from sqlalchemy.util.compat import contextmanager\n",
    "import random\n",
    "from typing import Tuple\n",
    "from selenium import webdriver\n",
    "from webdriver_manager.chrome import ChromeDriverManager\n",
    "from selenium.webdriver.chrome.service import Service as ChromeService\n",
    "\n",
    "from case_scrape.models import Base\n",
    "from case_scrape.db.db_config import DBConfig\n",
    "from case_scrape import models"
   ]
  },
  {
   "cell_type": "code",
   "execution_count": 13,
   "metadata": {},
   "outputs": [
    {
     "name": "stderr",
     "output_type": "stream",
     "text": [
      "[WDM] - Downloading: 100%|██████████| 8.72M/8.72M [00:07<00:00, 1.20MB/s]\n"
     ]
    }
   ],
   "source": [
    "opts = Options()\n",
    "# opts.headless = True\n",
    "service = ChromeService(executable_path = ChromeDriverManager().install())\n",
    "driver = webdriver.Chrome(options = opts, service=service)"
   ]
  },
  {
   "cell_type": "code",
   "execution_count": 18,
   "metadata": {},
   "outputs": [
    {
     "ename": "InvalidRequestError",
     "evalue": "One or more mappers failed to initialize - can't proceed with initialization of other mappers. Triggering mapper: 'mapped class CaseDefendant->case_defendant'. Original exception was: Mapper 'mapped class Charge->charge' has no property 'case_defendant'",
     "output_type": "error",
     "traceback": [
      "\u001b[0;31m---------------------------------------------------------------------------\u001b[0m",
      "\u001b[0;31mInvalidRequestError\u001b[0m                       Traceback (most recent call last)",
      "Cell \u001b[0;32mIn [18], line 1\u001b[0m\n\u001b[0;32m----> 1\u001b[0m \u001b[39mfrom\u001b[39;00m \u001b[39mcase_scrape\u001b[39;00m\u001b[39m.\u001b[39;00m\u001b[39mscripts\u001b[39;00m\u001b[39m.\u001b[39;00m\u001b[39mweb_scrape\u001b[39;00m \u001b[39mimport\u001b[39;00m search_case_number, check_tos\n",
      "File \u001b[0;32m~/Documents/Repos/case_scrape/case_scrape/scripts/web_scrape.py:52\u001b[0m\n\u001b[1;32m     39\u001b[0m     \u001b[39mreturn\u001b[39;00m max_id\n\u001b[1;32m     42\u001b[0m case_numbers \u001b[39m=\u001b[39m (\n\u001b[1;32m     43\u001b[0m     [\u001b[39mstr\u001b[39m(x) \u001b[39mfor\u001b[39;00m x \u001b[39min\u001b[39;00m \u001b[39mrange\u001b[39m(\u001b[39m655783\u001b[39m, \u001b[39m666532\u001b[39m)]\n\u001b[1;32m     44\u001b[0m     \u001b[39m+\u001b[39m [\u001b[39mstr\u001b[39m(x) \u001b[39mfor\u001b[39;00m x \u001b[39min\u001b[39;00m \u001b[39mrange\u001b[39m(\u001b[39m655656\u001b[39m, \u001b[39m666532\u001b[39m)]\n\u001b[0;32m   (...)\u001b[0m\n\u001b[1;32m     49\u001b[0m     \u001b[39m+\u001b[39m [\u001b[39mstr\u001b[39m(x) \u001b[39mfor\u001b[39;00m x \u001b[39min\u001b[39;00m \u001b[39mrange\u001b[39m(\u001b[39m602355\u001b[39m, \u001b[39m612910\u001b[39m)]\n\u001b[1;32m     50\u001b[0m )\n\u001b[0;32m---> 52\u001b[0m last_case_scraped \u001b[39m=\u001b[39m get_last_scraped()\n\u001b[1;32m     54\u001b[0m next_idx \u001b[39m=\u001b[39m case_numbers\u001b[39m.\u001b[39mindex(\u001b[39mstr\u001b[39m(last_case_scraped)) \u001b[39m+\u001b[39m \u001b[39m1\u001b[39m\n\u001b[1;32m     56\u001b[0m cases_to_srape \u001b[39m=\u001b[39m case_numbers[next_idx:]\n",
      "File \u001b[0;32m~/Documents/Repos/case_scrape/case_scrape/scripts/web_scrape.py:38\u001b[0m, in \u001b[0;36mget_last_scraped\u001b[0;34m()\u001b[0m\n\u001b[1;32m     36\u001b[0m \u001b[39mdef\u001b[39;00m \u001b[39mget_last_scraped\u001b[39m() \u001b[39m-\u001b[39m\u001b[39m>\u001b[39m \u001b[39mint\u001b[39m:\n\u001b[1;32m     37\u001b[0m     db \u001b[39m=\u001b[39m Session()\n\u001b[0;32m---> 38\u001b[0m     max_id \u001b[39m=\u001b[39m db\u001b[39m.\u001b[39;49mquery(func\u001b[39m.\u001b[39;49mmax(models\u001b[39m.\u001b[39;49mProgress\u001b[39m.\u001b[39;49mid))\u001b[39m.\u001b[39;49mscalar()\n\u001b[1;32m     39\u001b[0m     \u001b[39mreturn\u001b[39;00m max_id\n",
      "File \u001b[0;32m~/Documents/Repos/case_scrape/.venv/lib/python3.10/site-packages/sqlalchemy/orm/query.py:2892\u001b[0m, in \u001b[0;36mQuery.scalar\u001b[0;34m(self)\u001b[0m\n\u001b[1;32m   2890\u001b[0m \u001b[39m# TODO: not sure why we can't use result.scalar() here\u001b[39;00m\n\u001b[1;32m   2891\u001b[0m \u001b[39mtry\u001b[39;00m:\n\u001b[0;32m-> 2892\u001b[0m     ret \u001b[39m=\u001b[39m \u001b[39mself\u001b[39;49m\u001b[39m.\u001b[39;49mone()\n\u001b[1;32m   2893\u001b[0m     \u001b[39mif\u001b[39;00m \u001b[39mnot\u001b[39;00m \u001b[39misinstance\u001b[39m(ret, collections_abc\u001b[39m.\u001b[39mSequence):\n\u001b[1;32m   2894\u001b[0m         \u001b[39mreturn\u001b[39;00m ret\n",
      "File \u001b[0;32m~/Documents/Repos/case_scrape/.venv/lib/python3.10/site-packages/sqlalchemy/orm/query.py:2869\u001b[0m, in \u001b[0;36mQuery.one\u001b[0;34m(self)\u001b[0m\n\u001b[1;32m   2851\u001b[0m \u001b[39mdef\u001b[39;00m \u001b[39mone\u001b[39m(\u001b[39mself\u001b[39m):\n\u001b[1;32m   2852\u001b[0m     \u001b[39m\"\"\"Return exactly one result or raise an exception.\u001b[39;00m\n\u001b[1;32m   2853\u001b[0m \n\u001b[1;32m   2854\u001b[0m \u001b[39m    Raises ``sqlalchemy.orm.exc.NoResultFound`` if the query selects\u001b[39;00m\n\u001b[0;32m   (...)\u001b[0m\n\u001b[1;32m   2867\u001b[0m \n\u001b[1;32m   2868\u001b[0m \u001b[39m    \"\"\"\u001b[39;00m\n\u001b[0;32m-> 2869\u001b[0m     \u001b[39mreturn\u001b[39;00m \u001b[39mself\u001b[39;49m\u001b[39m.\u001b[39;49m_iter()\u001b[39m.\u001b[39mone()\n",
      "File \u001b[0;32m~/Documents/Repos/case_scrape/.venv/lib/python3.10/site-packages/sqlalchemy/orm/query.py:2907\u001b[0m, in \u001b[0;36mQuery._iter\u001b[0;34m(self)\u001b[0m\n\u001b[1;32m   2904\u001b[0m params \u001b[39m=\u001b[39m \u001b[39mself\u001b[39m\u001b[39m.\u001b[39m_params\n\u001b[1;32m   2906\u001b[0m statement \u001b[39m=\u001b[39m \u001b[39mself\u001b[39m\u001b[39m.\u001b[39m_statement_20()\n\u001b[0;32m-> 2907\u001b[0m result \u001b[39m=\u001b[39m \u001b[39mself\u001b[39;49m\u001b[39m.\u001b[39;49msession\u001b[39m.\u001b[39;49mexecute(\n\u001b[1;32m   2908\u001b[0m     statement,\n\u001b[1;32m   2909\u001b[0m     params,\n\u001b[1;32m   2910\u001b[0m     execution_options\u001b[39m=\u001b[39;49m{\u001b[39m\"\u001b[39;49m\u001b[39m_sa_orm_load_options\u001b[39;49m\u001b[39m\"\u001b[39;49m: \u001b[39mself\u001b[39;49m\u001b[39m.\u001b[39;49mload_options},\n\u001b[1;32m   2911\u001b[0m )\n\u001b[1;32m   2913\u001b[0m \u001b[39m# legacy: automatically set scalars, unique\u001b[39;00m\n\u001b[1;32m   2914\u001b[0m \u001b[39mif\u001b[39;00m result\u001b[39m.\u001b[39m_attributes\u001b[39m.\u001b[39mget(\u001b[39m\"\u001b[39m\u001b[39mis_single_entity\u001b[39m\u001b[39m\"\u001b[39m, \u001b[39mFalse\u001b[39;00m):\n",
      "File \u001b[0;32m~/Documents/Repos/case_scrape/.venv/lib/python3.10/site-packages/sqlalchemy/orm/session.py:1712\u001b[0m, in \u001b[0;36mSession.execute\u001b[0;34m(self, statement, params, execution_options, bind_arguments, _parent_execute_state, _add_event, **kw)\u001b[0m\n\u001b[1;32m   1710\u001b[0m \u001b[39melse\u001b[39;00m:\n\u001b[1;32m   1711\u001b[0m     conn \u001b[39m=\u001b[39m \u001b[39mself\u001b[39m\u001b[39m.\u001b[39m_connection_for_bind(bind)\n\u001b[0;32m-> 1712\u001b[0m result \u001b[39m=\u001b[39m conn\u001b[39m.\u001b[39;49m_execute_20(statement, params \u001b[39mor\u001b[39;49;00m {}, execution_options)\n\u001b[1;32m   1714\u001b[0m \u001b[39mif\u001b[39;00m compile_state_cls:\n\u001b[1;32m   1715\u001b[0m     result \u001b[39m=\u001b[39m compile_state_cls\u001b[39m.\u001b[39morm_setup_cursor_result(\n\u001b[1;32m   1716\u001b[0m         \u001b[39mself\u001b[39m,\n\u001b[1;32m   1717\u001b[0m         statement,\n\u001b[0;32m   (...)\u001b[0m\n\u001b[1;32m   1721\u001b[0m         result,\n\u001b[1;32m   1722\u001b[0m     )\n",
      "File \u001b[0;32m~/Documents/Repos/case_scrape/.venv/lib/python3.10/site-packages/sqlalchemy/engine/base.py:1705\u001b[0m, in \u001b[0;36mConnection._execute_20\u001b[0;34m(self, statement, parameters, execution_options)\u001b[0m\n\u001b[1;32m   1701\u001b[0m     util\u001b[39m.\u001b[39mraise_(\n\u001b[1;32m   1702\u001b[0m         exc\u001b[39m.\u001b[39mObjectNotExecutableError(statement), replace_context\u001b[39m=\u001b[39merr\n\u001b[1;32m   1703\u001b[0m     )\n\u001b[1;32m   1704\u001b[0m \u001b[39melse\u001b[39;00m:\n\u001b[0;32m-> 1705\u001b[0m     \u001b[39mreturn\u001b[39;00m meth(\u001b[39mself\u001b[39;49m, args_10style, kwargs_10style, execution_options)\n",
      "File \u001b[0;32m~/Documents/Repos/case_scrape/.venv/lib/python3.10/site-packages/sqlalchemy/sql/elements.py:333\u001b[0m, in \u001b[0;36mClauseElement._execute_on_connection\u001b[0;34m(self, connection, multiparams, params, execution_options, _force)\u001b[0m\n\u001b[1;32m    329\u001b[0m \u001b[39mdef\u001b[39;00m \u001b[39m_execute_on_connection\u001b[39m(\n\u001b[1;32m    330\u001b[0m     \u001b[39mself\u001b[39m, connection, multiparams, params, execution_options, _force\u001b[39m=\u001b[39m\u001b[39mFalse\u001b[39;00m\n\u001b[1;32m    331\u001b[0m ):\n\u001b[1;32m    332\u001b[0m     \u001b[39mif\u001b[39;00m _force \u001b[39mor\u001b[39;00m \u001b[39mself\u001b[39m\u001b[39m.\u001b[39msupports_execution:\n\u001b[0;32m--> 333\u001b[0m         \u001b[39mreturn\u001b[39;00m connection\u001b[39m.\u001b[39;49m_execute_clauseelement(\n\u001b[1;32m    334\u001b[0m             \u001b[39mself\u001b[39;49m, multiparams, params, execution_options\n\u001b[1;32m    335\u001b[0m         )\n\u001b[1;32m    336\u001b[0m     \u001b[39melse\u001b[39;00m:\n\u001b[1;32m    337\u001b[0m         \u001b[39mraise\u001b[39;00m exc\u001b[39m.\u001b[39mObjectNotExecutableError(\u001b[39mself\u001b[39m)\n",
      "File \u001b[0;32m~/Documents/Repos/case_scrape/.venv/lib/python3.10/site-packages/sqlalchemy/engine/base.py:1564\u001b[0m, in \u001b[0;36mConnection._execute_clauseelement\u001b[0;34m(self, elem, multiparams, params, execution_options)\u001b[0m\n\u001b[1;32m   1556\u001b[0m schema_translate_map \u001b[39m=\u001b[39m execution_options\u001b[39m.\u001b[39mget(\n\u001b[1;32m   1557\u001b[0m     \u001b[39m\"\u001b[39m\u001b[39mschema_translate_map\u001b[39m\u001b[39m\"\u001b[39m, \u001b[39mNone\u001b[39;00m\n\u001b[1;32m   1558\u001b[0m )\n\u001b[1;32m   1560\u001b[0m compiled_cache \u001b[39m=\u001b[39m execution_options\u001b[39m.\u001b[39mget(\n\u001b[1;32m   1561\u001b[0m     \u001b[39m\"\u001b[39m\u001b[39mcompiled_cache\u001b[39m\u001b[39m\"\u001b[39m, \u001b[39mself\u001b[39m\u001b[39m.\u001b[39mengine\u001b[39m.\u001b[39m_compiled_cache\n\u001b[1;32m   1562\u001b[0m )\n\u001b[0;32m-> 1564\u001b[0m compiled_sql, extracted_params, cache_hit \u001b[39m=\u001b[39m elem\u001b[39m.\u001b[39;49m_compile_w_cache(\n\u001b[1;32m   1565\u001b[0m     dialect\u001b[39m=\u001b[39;49mdialect,\n\u001b[1;32m   1566\u001b[0m     compiled_cache\u001b[39m=\u001b[39;49mcompiled_cache,\n\u001b[1;32m   1567\u001b[0m     column_keys\u001b[39m=\u001b[39;49mkeys,\n\u001b[1;32m   1568\u001b[0m     for_executemany\u001b[39m=\u001b[39;49mfor_executemany,\n\u001b[1;32m   1569\u001b[0m     schema_translate_map\u001b[39m=\u001b[39;49mschema_translate_map,\n\u001b[1;32m   1570\u001b[0m     linting\u001b[39m=\u001b[39;49m\u001b[39mself\u001b[39;49m\u001b[39m.\u001b[39;49mdialect\u001b[39m.\u001b[39;49mcompiler_linting \u001b[39m|\u001b[39;49m compiler\u001b[39m.\u001b[39;49mWARN_LINTING,\n\u001b[1;32m   1571\u001b[0m )\n\u001b[1;32m   1572\u001b[0m ret \u001b[39m=\u001b[39m \u001b[39mself\u001b[39m\u001b[39m.\u001b[39m_execute_context(\n\u001b[1;32m   1573\u001b[0m     dialect,\n\u001b[1;32m   1574\u001b[0m     dialect\u001b[39m.\u001b[39mexecution_ctx_cls\u001b[39m.\u001b[39m_init_compiled,\n\u001b[0;32m   (...)\u001b[0m\n\u001b[1;32m   1582\u001b[0m     cache_hit\u001b[39m=\u001b[39mcache_hit,\n\u001b[1;32m   1583\u001b[0m )\n\u001b[1;32m   1584\u001b[0m \u001b[39mif\u001b[39;00m has_events:\n",
      "File \u001b[0;32m~/Documents/Repos/case_scrape/.venv/lib/python3.10/site-packages/sqlalchemy/sql/elements.py:531\u001b[0m, in \u001b[0;36mClauseElement._compile_w_cache\u001b[0;34m(self, dialect, compiled_cache, column_keys, for_executemany, schema_translate_map, **kw)\u001b[0m\n\u001b[1;32m    529\u001b[0m \u001b[39mif\u001b[39;00m compiled_sql \u001b[39mis\u001b[39;00m \u001b[39mNone\u001b[39;00m:\n\u001b[1;32m    530\u001b[0m     cache_hit \u001b[39m=\u001b[39m dialect\u001b[39m.\u001b[39mCACHE_MISS\n\u001b[0;32m--> 531\u001b[0m     compiled_sql \u001b[39m=\u001b[39m \u001b[39mself\u001b[39;49m\u001b[39m.\u001b[39;49m_compiler(\n\u001b[1;32m    532\u001b[0m         dialect,\n\u001b[1;32m    533\u001b[0m         cache_key\u001b[39m=\u001b[39;49melem_cache_key,\n\u001b[1;32m    534\u001b[0m         column_keys\u001b[39m=\u001b[39;49mcolumn_keys,\n\u001b[1;32m    535\u001b[0m         for_executemany\u001b[39m=\u001b[39;49mfor_executemany,\n\u001b[1;32m    536\u001b[0m         schema_translate_map\u001b[39m=\u001b[39;49mschema_translate_map,\n\u001b[1;32m    537\u001b[0m         \u001b[39m*\u001b[39;49m\u001b[39m*\u001b[39;49mkw\n\u001b[1;32m    538\u001b[0m     )\n\u001b[1;32m    539\u001b[0m     compiled_cache[key] \u001b[39m=\u001b[39m compiled_sql\n\u001b[1;32m    540\u001b[0m \u001b[39melse\u001b[39;00m:\n",
      "File \u001b[0;32m~/Documents/Repos/case_scrape/.venv/lib/python3.10/site-packages/sqlalchemy/sql/elements.py:566\u001b[0m, in \u001b[0;36mClauseElement._compiler\u001b[0;34m(self, dialect, **kw)\u001b[0m\n\u001b[1;32m    562\u001b[0m \u001b[39mdef\u001b[39;00m \u001b[39m_compiler\u001b[39m(\u001b[39mself\u001b[39m, dialect, \u001b[39m*\u001b[39m\u001b[39m*\u001b[39mkw):\n\u001b[1;32m    563\u001b[0m     \u001b[39m\"\"\"Return a compiler appropriate for this ClauseElement, given a\u001b[39;00m\n\u001b[1;32m    564\u001b[0m \u001b[39m    Dialect.\"\"\"\u001b[39;00m\n\u001b[0;32m--> 566\u001b[0m     \u001b[39mreturn\u001b[39;00m dialect\u001b[39m.\u001b[39;49mstatement_compiler(dialect, \u001b[39mself\u001b[39;49m, \u001b[39m*\u001b[39;49m\u001b[39m*\u001b[39;49mkw)\n",
      "File \u001b[0;32m~/Documents/Repos/case_scrape/.venv/lib/python3.10/site-packages/sqlalchemy/sql/compiler.py:790\u001b[0m, in \u001b[0;36mSQLCompiler.__init__\u001b[0;34m(self, dialect, statement, cache_key, column_keys, for_executemany, linting, **kwargs)\u001b[0m\n\u001b[1;32m    786\u001b[0m \u001b[39m# a map which tracks \"truncated\" names based on\u001b[39;00m\n\u001b[1;32m    787\u001b[0m \u001b[39m# dialect.label_length or dialect.max_identifier_length\u001b[39;00m\n\u001b[1;32m    788\u001b[0m \u001b[39mself\u001b[39m\u001b[39m.\u001b[39mtruncated_names \u001b[39m=\u001b[39m {}\n\u001b[0;32m--> 790\u001b[0m Compiled\u001b[39m.\u001b[39;49m\u001b[39m__init__\u001b[39;49m(\u001b[39mself\u001b[39;49m, dialect, statement, \u001b[39m*\u001b[39;49m\u001b[39m*\u001b[39;49mkwargs)\n\u001b[1;32m    792\u001b[0m \u001b[39mif\u001b[39;00m \u001b[39mself\u001b[39m\u001b[39m.\u001b[39misinsert \u001b[39mor\u001b[39;00m \u001b[39mself\u001b[39m\u001b[39m.\u001b[39misupdate \u001b[39mor\u001b[39;00m \u001b[39mself\u001b[39m\u001b[39m.\u001b[39misdelete:\n\u001b[1;32m    793\u001b[0m     \u001b[39mif\u001b[39;00m statement\u001b[39m.\u001b[39m_returning:\n",
      "File \u001b[0;32m~/Documents/Repos/case_scrape/.venv/lib/python3.10/site-packages/sqlalchemy/sql/compiler.py:463\u001b[0m, in \u001b[0;36mCompiled.__init__\u001b[0;34m(self, dialect, statement, schema_translate_map, render_schema_translate, compile_kwargs)\u001b[0m\n\u001b[1;32m    461\u001b[0m \u001b[39mif\u001b[39;00m \u001b[39mself\u001b[39m\u001b[39m.\u001b[39mcan_execute:\n\u001b[1;32m    462\u001b[0m     \u001b[39mself\u001b[39m\u001b[39m.\u001b[39mexecution_options \u001b[39m=\u001b[39m statement\u001b[39m.\u001b[39m_execution_options\n\u001b[0;32m--> 463\u001b[0m \u001b[39mself\u001b[39m\u001b[39m.\u001b[39mstring \u001b[39m=\u001b[39m \u001b[39mself\u001b[39;49m\u001b[39m.\u001b[39;49mprocess(\u001b[39mself\u001b[39;49m\u001b[39m.\u001b[39;49mstatement, \u001b[39m*\u001b[39;49m\u001b[39m*\u001b[39;49mcompile_kwargs)\n\u001b[1;32m    465\u001b[0m \u001b[39mif\u001b[39;00m render_schema_translate:\n\u001b[1;32m    466\u001b[0m     \u001b[39mself\u001b[39m\u001b[39m.\u001b[39mstring \u001b[39m=\u001b[39m \u001b[39mself\u001b[39m\u001b[39m.\u001b[39mpreparer\u001b[39m.\u001b[39m_render_schema_translates(\n\u001b[1;32m    467\u001b[0m         \u001b[39mself\u001b[39m\u001b[39m.\u001b[39mstring, schema_translate_map\n\u001b[1;32m    468\u001b[0m     )\n",
      "File \u001b[0;32m~/Documents/Repos/case_scrape/.venv/lib/python3.10/site-packages/sqlalchemy/sql/compiler.py:498\u001b[0m, in \u001b[0;36mCompiled.process\u001b[0;34m(self, obj, **kwargs)\u001b[0m\n\u001b[1;32m    497\u001b[0m \u001b[39mdef\u001b[39;00m \u001b[39mprocess\u001b[39m(\u001b[39mself\u001b[39m, obj, \u001b[39m*\u001b[39m\u001b[39m*\u001b[39mkwargs):\n\u001b[0;32m--> 498\u001b[0m     \u001b[39mreturn\u001b[39;00m obj\u001b[39m.\u001b[39;49m_compiler_dispatch(\u001b[39mself\u001b[39;49m, \u001b[39m*\u001b[39;49m\u001b[39m*\u001b[39;49mkwargs)\n",
      "File \u001b[0;32m~/Documents/Repos/case_scrape/.venv/lib/python3.10/site-packages/sqlalchemy/sql/visitors.py:82\u001b[0m, in \u001b[0;36m_generate_compiler_dispatch.<locals>._compiler_dispatch\u001b[0;34m(self, visitor, **kw)\u001b[0m\n\u001b[1;32m     79\u001b[0m     \u001b[39mreturn\u001b[39;00m visitor\u001b[39m.\u001b[39mvisit_unsupported_compilation(\u001b[39mself\u001b[39m, err, \u001b[39m*\u001b[39m\u001b[39m*\u001b[39mkw)\n\u001b[1;32m     81\u001b[0m \u001b[39melse\u001b[39;00m:\n\u001b[0;32m---> 82\u001b[0m     \u001b[39mreturn\u001b[39;00m meth(\u001b[39mself\u001b[39;49m, \u001b[39m*\u001b[39;49m\u001b[39m*\u001b[39;49mkw)\n",
      "File \u001b[0;32m~/Documents/Repos/case_scrape/.venv/lib/python3.10/site-packages/sqlalchemy/sql/compiler.py:3301\u001b[0m, in \u001b[0;36mSQLCompiler.visit_select\u001b[0;34m(self, select_stmt, asfrom, insert_into, fromhints, compound_index, select_wraps_for, lateral, from_linter, **kwargs)\u001b[0m\n\u001b[1;32m   3293\u001b[0m \u001b[39m# initial setup of SELECT.  the compile_state_factory may now\u001b[39;00m\n\u001b[1;32m   3294\u001b[0m \u001b[39m# be creating a totally different SELECT from the one that was\u001b[39;00m\n\u001b[1;32m   3295\u001b[0m \u001b[39m# passed in.  for ORM use this will convert from an ORM-state\u001b[39;00m\n\u001b[1;32m   3296\u001b[0m \u001b[39m# SELECT to a regular \"Core\" SELECT.  other composed operations\u001b[39;00m\n\u001b[1;32m   3297\u001b[0m \u001b[39m# such as computation of joins will be performed.\u001b[39;00m\n\u001b[1;32m   3299\u001b[0m kwargs[\u001b[39m\"\u001b[39m\u001b[39mwithin_columns_clause\u001b[39m\u001b[39m\"\u001b[39m] \u001b[39m=\u001b[39m \u001b[39mFalse\u001b[39;00m\n\u001b[0;32m-> 3301\u001b[0m compile_state \u001b[39m=\u001b[39m select_stmt\u001b[39m.\u001b[39;49m_compile_state_factory(\n\u001b[1;32m   3302\u001b[0m     select_stmt, \u001b[39mself\u001b[39;49m, \u001b[39m*\u001b[39;49m\u001b[39m*\u001b[39;49mkwargs\n\u001b[1;32m   3303\u001b[0m )\n\u001b[1;32m   3304\u001b[0m select_stmt \u001b[39m=\u001b[39m compile_state\u001b[39m.\u001b[39mstatement\n\u001b[1;32m   3306\u001b[0m toplevel \u001b[39m=\u001b[39m \u001b[39mnot\u001b[39;00m \u001b[39mself\u001b[39m\u001b[39m.\u001b[39mstack\n",
      "File \u001b[0;32m~/Documents/Repos/case_scrape/.venv/lib/python3.10/site-packages/sqlalchemy/sql/base.py:510\u001b[0m, in \u001b[0;36mCompileState.create_for_statement\u001b[0;34m(cls, statement, compiler, **kw)\u001b[0m\n\u001b[1;32m    508\u001b[0m     \u001b[39mreturn\u001b[39;00m \u001b[39mcls\u001b[39m(statement, compiler, \u001b[39m*\u001b[39m\u001b[39m*\u001b[39mkw)\n\u001b[1;32m    509\u001b[0m \u001b[39melse\u001b[39;00m:\n\u001b[0;32m--> 510\u001b[0m     \u001b[39mreturn\u001b[39;00m klass\u001b[39m.\u001b[39;49mcreate_for_statement(statement, compiler, \u001b[39m*\u001b[39;49m\u001b[39m*\u001b[39;49mkw)\n",
      "File \u001b[0;32m~/Documents/Repos/case_scrape/.venv/lib/python3.10/site-packages/sqlalchemy/orm/context.py:699\u001b[0m, in \u001b[0;36mORMSelectCompileState.create_for_statement\u001b[0;34m(cls, statement, compiler, **kw)\u001b[0m\n\u001b[1;32m    691\u001b[0m \u001b[39m# label_convention is stateful and will yield deduping keys if it\u001b[39;00m\n\u001b[1;32m    692\u001b[0m \u001b[39m# sees the same key twice.  therefore it's important that it is not\u001b[39;00m\n\u001b[1;32m    693\u001b[0m \u001b[39m# invoked for the above \"memoized\" entities that aren't actually\u001b[39;00m\n\u001b[1;32m    694\u001b[0m \u001b[39m# in the columns clause\u001b[39;00m\n\u001b[1;32m    695\u001b[0m \u001b[39mself\u001b[39m\u001b[39m.\u001b[39m_label_convention \u001b[39m=\u001b[39m \u001b[39mself\u001b[39m\u001b[39m.\u001b[39m_column_naming_convention(\n\u001b[1;32m    696\u001b[0m     statement\u001b[39m.\u001b[39m_label_style, \u001b[39mself\u001b[39m\u001b[39m.\u001b[39muse_legacy_query_style\n\u001b[1;32m    697\u001b[0m )\n\u001b[0;32m--> 699\u001b[0m _QueryEntity\u001b[39m.\u001b[39;49mto_compile_state(\n\u001b[1;32m    700\u001b[0m     \u001b[39mself\u001b[39;49m,\n\u001b[1;32m    701\u001b[0m     select_statement\u001b[39m.\u001b[39;49m_raw_columns,\n\u001b[1;32m    702\u001b[0m     \u001b[39mself\u001b[39;49m\u001b[39m.\u001b[39;49m_entities,\n\u001b[1;32m    703\u001b[0m     is_current_entities\u001b[39m=\u001b[39;49m\u001b[39mTrue\u001b[39;49;00m,\n\u001b[1;32m    704\u001b[0m )\n\u001b[1;32m    706\u001b[0m \u001b[39mself\u001b[39m\u001b[39m.\u001b[39mcurrent_path \u001b[39m=\u001b[39m select_statement\u001b[39m.\u001b[39m_compile_options\u001b[39m.\u001b[39m_current_path\n\u001b[1;32m    708\u001b[0m \u001b[39mself\u001b[39m\u001b[39m.\u001b[39meager_order_by \u001b[39m=\u001b[39m ()\n",
      "File \u001b[0;32m~/Documents/Repos/case_scrape/.venv/lib/python3.10/site-packages/sqlalchemy/orm/context.py:2458\u001b[0m, in \u001b[0;36m_QueryEntity.to_compile_state\u001b[0;34m(cls, compile_state, entities, entities_collection, is_current_entities)\u001b[0m\n\u001b[1;32m   2451\u001b[0m         _MapperEntity(\n\u001b[1;32m   2452\u001b[0m             compile_state,\n\u001b[1;32m   2453\u001b[0m             entity,\n\u001b[1;32m   2454\u001b[0m             entities_collection,\n\u001b[1;32m   2455\u001b[0m             is_current_entities,\n\u001b[1;32m   2456\u001b[0m         )\n\u001b[1;32m   2457\u001b[0m     \u001b[39melse\u001b[39;00m:\n\u001b[0;32m-> 2458\u001b[0m         _ColumnEntity\u001b[39m.\u001b[39;49m_for_columns(\n\u001b[1;32m   2459\u001b[0m             compile_state,\n\u001b[1;32m   2460\u001b[0m             entity\u001b[39m.\u001b[39;49m_select_iterable,\n\u001b[1;32m   2461\u001b[0m             entities_collection,\n\u001b[1;32m   2462\u001b[0m             idx,\n\u001b[1;32m   2463\u001b[0m             is_current_entities,\n\u001b[1;32m   2464\u001b[0m         )\n\u001b[1;32m   2465\u001b[0m \u001b[39melse\u001b[39;00m:\n\u001b[1;32m   2466\u001b[0m     \u001b[39mif\u001b[39;00m entity\u001b[39m.\u001b[39m_annotations\u001b[39m.\u001b[39mget(\u001b[39m\"\u001b[39m\u001b[39mbundle\u001b[39m\u001b[39m\"\u001b[39m, \u001b[39mFalse\u001b[39;00m):\n",
      "File \u001b[0;32m~/Documents/Repos/case_scrape/.venv/lib/python3.10/site-packages/sqlalchemy/orm/context.py:2840\u001b[0m, in \u001b[0;36m_ColumnEntity._for_columns\u001b[0;34m(cls, compile_state, columns, entities_collection, raw_column_index, is_current_entities, parent_bundle)\u001b[0m\n\u001b[1;32m   2830\u001b[0m         _IdentityTokenEntity(\n\u001b[1;32m   2831\u001b[0m             compile_state,\n\u001b[1;32m   2832\u001b[0m             column,\n\u001b[0;32m   (...)\u001b[0m\n\u001b[1;32m   2837\u001b[0m             parent_bundle\u001b[39m=\u001b[39mparent_bundle,\n\u001b[1;32m   2838\u001b[0m         )\n\u001b[1;32m   2839\u001b[0m     \u001b[39melse\u001b[39;00m:\n\u001b[0;32m-> 2840\u001b[0m         _ORMColumnEntity(\n\u001b[1;32m   2841\u001b[0m             compile_state,\n\u001b[1;32m   2842\u001b[0m             column,\n\u001b[1;32m   2843\u001b[0m             entities_collection,\n\u001b[1;32m   2844\u001b[0m             _entity,\n\u001b[1;32m   2845\u001b[0m             raw_column_index,\n\u001b[1;32m   2846\u001b[0m             is_current_entities,\n\u001b[1;32m   2847\u001b[0m             parent_bundle\u001b[39m=\u001b[39;49mparent_bundle,\n\u001b[1;32m   2848\u001b[0m         )\n\u001b[1;32m   2849\u001b[0m \u001b[39melse\u001b[39;00m:\n\u001b[1;32m   2850\u001b[0m     _RawColumnEntity(\n\u001b[1;32m   2851\u001b[0m         compile_state,\n\u001b[1;32m   2852\u001b[0m         column,\n\u001b[0;32m   (...)\u001b[0m\n\u001b[1;32m   2856\u001b[0m         parent_bundle\u001b[39m=\u001b[39mparent_bundle,\n\u001b[1;32m   2857\u001b[0m     )\n",
      "File \u001b[0;32m~/Documents/Repos/case_scrape/.venv/lib/python3.10/site-packages/sqlalchemy/orm/context.py:3050\u001b[0m, in \u001b[0;36m_ORMColumnEntity.__init__\u001b[0;34m(self, compile_state, column, entities_collection, parententity, raw_column_index, is_current_entities, parent_bundle)\u001b[0m\n\u001b[1;32m   3047\u001b[0m \u001b[39melse\u001b[39;00m:\n\u001b[1;32m   3048\u001b[0m     \u001b[39mself\u001b[39m\u001b[39m.\u001b[39m_label_name \u001b[39m=\u001b[39m \u001b[39mNone\u001b[39;00m\n\u001b[0;32m-> 3050\u001b[0m _entity\u001b[39m.\u001b[39;49m_post_inspect\n\u001b[1;32m   3051\u001b[0m \u001b[39mself\u001b[39m\u001b[39m.\u001b[39mentity_zero \u001b[39m=\u001b[39m \u001b[39mself\u001b[39m\u001b[39m.\u001b[39mentity_zero_or_selectable \u001b[39m=\u001b[39m ezero \u001b[39m=\u001b[39m _entity\n\u001b[1;32m   3052\u001b[0m \u001b[39mself\u001b[39m\u001b[39m.\u001b[39mmapper \u001b[39m=\u001b[39m mapper \u001b[39m=\u001b[39m _entity\u001b[39m.\u001b[39mmapper\n",
      "File \u001b[0;32m~/Documents/Repos/case_scrape/.venv/lib/python3.10/site-packages/sqlalchemy/util/langhelpers.py:1184\u001b[0m, in \u001b[0;36mHasMemoized.memoized_attribute.__get__\u001b[0;34m(self, obj, cls)\u001b[0m\n\u001b[1;32m   1182\u001b[0m \u001b[39mif\u001b[39;00m obj \u001b[39mis\u001b[39;00m \u001b[39mNone\u001b[39;00m:\n\u001b[1;32m   1183\u001b[0m     \u001b[39mreturn\u001b[39;00m \u001b[39mself\u001b[39m\n\u001b[0;32m-> 1184\u001b[0m obj\u001b[39m.\u001b[39m\u001b[39m__dict__\u001b[39m[\u001b[39mself\u001b[39m\u001b[39m.\u001b[39m\u001b[39m__name__\u001b[39m] \u001b[39m=\u001b[39m result \u001b[39m=\u001b[39m \u001b[39mself\u001b[39;49m\u001b[39m.\u001b[39;49mfget(obj)\n\u001b[1;32m   1185\u001b[0m obj\u001b[39m.\u001b[39m_memoized_keys \u001b[39m|\u001b[39m\u001b[39m=\u001b[39m {\u001b[39mself\u001b[39m\u001b[39m.\u001b[39m\u001b[39m__name__\u001b[39m}\n\u001b[1;32m   1186\u001b[0m \u001b[39mreturn\u001b[39;00m result\n",
      "File \u001b[0;32m~/Documents/Repos/case_scrape/.venv/lib/python3.10/site-packages/sqlalchemy/orm/mapper.py:2147\u001b[0m, in \u001b[0;36mMapper._post_inspect\u001b[0;34m(self)\u001b[0m\n\u001b[1;32m   2136\u001b[0m \u001b[39m@HasMemoized\u001b[39m\u001b[39m.\u001b[39mmemoized_attribute\n\u001b[1;32m   2137\u001b[0m \u001b[39mdef\u001b[39;00m \u001b[39m_post_inspect\u001b[39m(\u001b[39mself\u001b[39m):\n\u001b[1;32m   2138\u001b[0m     \u001b[39m\"\"\"This hook is invoked by attribute inspection.\u001b[39;00m\n\u001b[1;32m   2139\u001b[0m \n\u001b[1;32m   2140\u001b[0m \u001b[39m    E.g. when Query calls:\u001b[39;00m\n\u001b[0;32m   (...)\u001b[0m\n\u001b[1;32m   2145\u001b[0m \n\u001b[1;32m   2146\u001b[0m \u001b[39m    \"\"\"\u001b[39;00m\n\u001b[0;32m-> 2147\u001b[0m     \u001b[39mself\u001b[39;49m\u001b[39m.\u001b[39;49m_check_configure()\n",
      "File \u001b[0;32m~/Documents/Repos/case_scrape/.venv/lib/python3.10/site-packages/sqlalchemy/orm/mapper.py:1924\u001b[0m, in \u001b[0;36mMapper._check_configure\u001b[0;34m(self)\u001b[0m\n\u001b[1;32m   1922\u001b[0m \u001b[39mdef\u001b[39;00m \u001b[39m_check_configure\u001b[39m(\u001b[39mself\u001b[39m):\n\u001b[1;32m   1923\u001b[0m     \u001b[39mif\u001b[39;00m \u001b[39mself\u001b[39m\u001b[39m.\u001b[39mregistry\u001b[39m.\u001b[39m_new_mappers:\n\u001b[0;32m-> 1924\u001b[0m         _configure_registries({\u001b[39mself\u001b[39;49m\u001b[39m.\u001b[39;49mregistry}, cascade\u001b[39m=\u001b[39;49m\u001b[39mTrue\u001b[39;49;00m)\n",
      "File \u001b[0;32m~/Documents/Repos/case_scrape/.venv/lib/python3.10/site-packages/sqlalchemy/orm/mapper.py:3448\u001b[0m, in \u001b[0;36m_configure_registries\u001b[0;34m(registries, cascade)\u001b[0m\n\u001b[1;32m   3442\u001b[0m     Mapper\u001b[39m.\u001b[39mdispatch\u001b[39m.\u001b[39m_for_class(Mapper)\u001b[39m.\u001b[39mbefore_configured()\n\u001b[1;32m   3443\u001b[0m     \u001b[39m# initialize properties on all mappers\u001b[39;00m\n\u001b[1;32m   3444\u001b[0m     \u001b[39m# note that _mapper_registry is unordered, which\u001b[39;00m\n\u001b[1;32m   3445\u001b[0m     \u001b[39m# may randomly conceal/reveal issues related to\u001b[39;00m\n\u001b[1;32m   3446\u001b[0m     \u001b[39m# the order of mapper compilation\u001b[39;00m\n\u001b[0;32m-> 3448\u001b[0m     _do_configure_registries(registries, cascade)\n\u001b[1;32m   3449\u001b[0m \u001b[39mfinally\u001b[39;00m:\n\u001b[1;32m   3450\u001b[0m     _already_compiling \u001b[39m=\u001b[39m \u001b[39mFalse\u001b[39;00m\n",
      "File \u001b[0;32m~/Documents/Repos/case_scrape/.venv/lib/python3.10/site-packages/sqlalchemy/orm/mapper.py:3483\u001b[0m, in \u001b[0;36m_do_configure_registries\u001b[0;34m(registries, cascade)\u001b[0m\n\u001b[1;32m   3475\u001b[0m     e \u001b[39m=\u001b[39m sa_exc\u001b[39m.\u001b[39mInvalidRequestError(\n\u001b[1;32m   3476\u001b[0m         \u001b[39m\"\u001b[39m\u001b[39mOne or more mappers failed to initialize - \u001b[39m\u001b[39m\"\u001b[39m\n\u001b[1;32m   3477\u001b[0m         \u001b[39m\"\u001b[39m\u001b[39mcan\u001b[39m\u001b[39m'\u001b[39m\u001b[39mt proceed with initialization of other \u001b[39m\u001b[39m\"\u001b[39m\n\u001b[0;32m   (...)\u001b[0m\n\u001b[1;32m   3480\u001b[0m         \u001b[39m%\u001b[39m (mapper, mapper\u001b[39m.\u001b[39m_configure_failed)\n\u001b[1;32m   3481\u001b[0m     )\n\u001b[1;32m   3482\u001b[0m     e\u001b[39m.\u001b[39m_configure_failed \u001b[39m=\u001b[39m mapper\u001b[39m.\u001b[39m_configure_failed\n\u001b[0;32m-> 3483\u001b[0m     \u001b[39mraise\u001b[39;00m e\n\u001b[1;32m   3485\u001b[0m \u001b[39mif\u001b[39;00m \u001b[39mnot\u001b[39;00m mapper\u001b[39m.\u001b[39mconfigured:\n\u001b[1;32m   3486\u001b[0m     \u001b[39mtry\u001b[39;00m:\n",
      "\u001b[0;31mInvalidRequestError\u001b[0m: One or more mappers failed to initialize - can't proceed with initialization of other mappers. Triggering mapper: 'mapped class CaseDefendant->case_defendant'. Original exception was: Mapper 'mapped class Charge->charge' has no property 'case_defendant'"
     ]
    }
   ],
   "source": [
    "from case_scrape.scripts.web_scrape import search_case_number, check_tos"
   ]
  },
  {
   "cell_type": "code",
   "execution_count": null,
   "metadata": {},
   "outputs": [],
   "source": []
  }
 ],
 "metadata": {
  "kernelspec": {
   "display_name": ".venv",
   "language": "python",
   "name": "python3"
  },
  "language_info": {
   "codemirror_mode": {
    "name": "ipython",
    "version": 3
   },
   "file_extension": ".py",
   "mimetype": "text/x-python",
   "name": "python",
   "nbconvert_exporter": "python",
   "pygments_lexer": "ipython3",
   "version": "3.10.0 (v3.10.0:b494f5935c, Oct  4 2021, 14:59:20) [Clang 12.0.5 (clang-1205.0.22.11)]"
  },
  "vscode": {
   "interpreter": {
    "hash": "da8c13c39276f1ff4ff53aa12e588860d3000a93f5dfc4cfbf5db1e4ccd5d515"
   }
  }
 },
 "nbformat": 4,
 "nbformat_minor": 4
}
