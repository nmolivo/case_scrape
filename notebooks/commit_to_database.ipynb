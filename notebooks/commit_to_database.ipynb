{
 "cells": [
  {
   "cell_type": "code",
   "execution_count": 3,
   "metadata": {},
   "outputs": [],
   "source": [
    "from sqlalchemy import create_engine\n",
    "from sqlalchemy.orm import Session, sessionmaker, scoped_session\n",
    "import sqlalchemy\n",
    "import pandas as pd"
   ]
  },
  {
   "cell_type": "code",
   "execution_count": null,
   "metadata": {},
   "outputs": [],
   "source": []
  },
  {
   "cell_type": "code",
   "execution_count": 4,
   "metadata": {},
   "outputs": [],
   "source": [
    "def write_pandas_df_to_db(db, df: pd.DataFrame, table_to_write_to: str):\n",
    "    engine = db.get_engine()\n",
    "    listToWrite = df.to_dict(orient='records')\n",
    "    conn = engine.connect()\n",
    "\n",
    "    metadata = sqlalchemy.schema.MetaData(bind=engine,reflect=True)\n",
    "    table = sqlalchemy.Table(table_to_write_to, metadata, autoload=True)\n",
    "\n",
    "    # Open the session\n",
    "    Session = sessionmaker(bind=engine)\n",
    "    session = Session()\n",
    "\n",
    "    # Inser the dataframe into the database in one bulk\n",
    "    conn.execute(table.insert(), listToWrite)"
   ]
  },
  {
   "cell_type": "code",
   "execution_count": null,
   "metadata": {},
   "outputs": [],
   "source": [
    "db = "
   ]
  },
  {
   "cell_type": "code",
   "execution_count": null,
   "metadata": {},
   "outputs": [],
   "source": []
  }
 ],
 "metadata": {
  "kernelspec": {
   "display_name": "Python 3.10.0 ('.venv': venv)",
   "language": "python",
   "name": "python3"
  },
  "language_info": {
   "codemirror_mode": {
    "name": "ipython",
    "version": 3
   },
   "file_extension": ".py",
   "mimetype": "text/x-python",
   "name": "python",
   "nbconvert_exporter": "python",
   "pygments_lexer": "ipython3",
   "version": "3.10.0"
  },
  "orig_nbformat": 4,
  "vscode": {
   "interpreter": {
    "hash": "da8c13c39276f1ff4ff53aa12e588860d3000a93f5dfc4cfbf5db1e4ccd5d515"
   }
  }
 },
 "nbformat": 4,
 "nbformat_minor": 2
}
