{
 "cells": [
  {
   "cell_type": "code",
   "execution_count": 73,
   "metadata": {},
   "outputs": [],
   "source": [
    "import sys"
   ]
  },
  {
   "cell_type": "code",
   "execution_count": null,
   "metadata": {},
   "outputs": [
    {
     "name": "stdout",
     "output_type": "stream",
     "text": [
      "['/Users/nmolivo/Documents/Repos/case_scrape/notebooks', '/Library/Frameworks/Python.framework/Versions/3.10/lib/python310.zip', '/Library/Frameworks/Python.framework/Versions/3.10/lib/python3.10', '/Library/Frameworks/Python.framework/Versions/3.10/lib/python3.10/lib-dynload', '', '/Users/nmolivo/Documents/Repos/case_scrape/.venv/lib/python3.10/site-packages']\n"
     ]
    },
    {
     "ename": "",
     "evalue": "",
     "output_type": "error",
     "traceback": [
      "\u001b[1;31mnotebook controller is DISPOSED. \n",
      "\u001b[1;31mView Jupyter <a href='command:jupyter.viewOutput'>log</a> for further details."
     ]
    }
   ],
   "source": [
    "print(sys.path)"
   ]
  },
  {
   "cell_type": "code",
   "execution_count": null,
   "metadata": {},
   "outputs": [
    {
     "ename": "",
     "evalue": "",
     "output_type": "error",
     "traceback": [
      "\u001b[1;31mnotebook controller is DISPOSED. \n",
      "\u001b[1;31mView Jupyter <a href='command:jupyter.viewOutput'>log</a> for further details."
     ]
    }
   ],
   "source": [
    "sys.path.append(\"/Users/nmolivo/Documents/Repos/case_scrape\")"
   ]
  },
  {
   "cell_type": "code",
   "execution_count": null,
   "metadata": {},
   "outputs": [
    {
     "ename": "",
     "evalue": "",
     "output_type": "error",
     "traceback": [
      "\u001b[1;31mnotebook controller is DISPOSED. \n",
      "\u001b[1;31mView Jupyter <a href='command:jupyter.viewOutput'>log</a> for further details."
     ]
    }
   ],
   "source": [
    "import os\n",
    "import pandas as pd\n",
    "from sqlalchemy import create_engine\n",
    "from sqlalchemy.orm import Session, sessionmaker, scoped_session\n",
    "from chromedriver_py import binary_path\n",
    "from selenium import webdriver\n",
    "from selenium.webdriver.chrome.options import Options\n",
    "from selenium.webdriver.chrome.webdriver import WebDriver\n",
    "from selenium.webdriver.common.by import By\n",
    "from selenium.webdriver.common.keys import Keys\n",
    "from selenium.webdriver.support.ui import WebDriverWait, Select\n",
    "from selenium.webdriver.support import expected_conditions as EC\n",
    "from sqlalchemy.util.compat import contextmanager\n",
    "from selenium.common.exceptions import NoSuchElementException\n",
    "import random\n",
    "from typing import Tuple\n"
   ]
  },
  {
   "cell_type": "code",
   "execution_count": 202,
   "metadata": {},
   "outputs": [],
   "source": [
    "from case_scrape.case_scrape import models"
   ]
  },
  {
   "cell_type": "code",
   "execution_count": 195,
   "metadata": {},
   "outputs": [],
   "source": [
    "from case_scrape.case_scrape.models import Base\n",
    "from case_scrape.case_scrape.db.db_config import DBConfig\n",
    "\n",
    "\n",
    "def init_db():\n",
    "\n",
    "    engine = DBConfig(\n",
    "        password=os.getenv(\"DB_PASSWORD\"),\n",
    "        user=os.getenv(\"DB_USER\")\n",
    "    ).get_engine()\n",
    "\n",
    "    Base.metadata.create_all(bind=engine)\n",
    "\n",
    "    print(\"Initialized the db\")\n",
    "\n",
    "def delete_db():\n",
    "\n",
    "    engine = DBConfig(\n",
    "        password=os.getenv(\"DB_PASSWORD\"),\n",
    "        user=os.getenv(\"DB_USER\")\n",
    "    ).get_engine()\n",
    "\n",
    "    Base.metadata.drop_all(bind=engine)\n",
    "\n",
    "    print(\"Cleared the db\")"
   ]
  },
  {
   "cell_type": "code",
   "execution_count": 197,
   "metadata": {},
   "outputs": [
    {
     "name": "stdout",
     "output_type": "stream",
     "text": [
      "Initialized the db\n"
     ]
    }
   ],
   "source": [
    "init_db()"
   ]
  },
  {
   "cell_type": "code",
   "execution_count": 198,
   "metadata": {},
   "outputs": [],
   "source": [
    "engine = DBConfig(\n",
    "        password=os.getenv(\"DB_PASSWORD\"),\n",
    "        user=os.getenv(\"DB_USER\")\n",
    "    ).get_engine()\n",
    "\n",
    "Session = sessionmaker(bind=engine)\n",
    "session = Session()\n",
    "\n"
   ]
  },
  {
   "cell_type": "code",
   "execution_count": 199,
   "metadata": {},
   "outputs": [
    {
     "name": "stderr",
     "output_type": "stream",
     "text": [
      "/var/folders/rb/4k3rm5dn3_5gbmbfgfhgdy280000gn/T/ipykernel_37947/1583674229.py:5: DeprecationWarning: executable_path has been deprecated, please pass in a Service object\n",
      "  driver = webdriver.Chrome(options=opts, executable_path=binary_path)\n"
     ]
    }
   ],
   "source": [
    "from selenium import webdriver\n",
    "from webdriver_manager.chrome import ChromeDriverManager\n",
    "opts = Options()\n",
    "# opts.headless = True\n",
    "driver = webdriver.Chrome(options=opts, executable_path=binary_path)"
   ]
  },
  {
   "cell_type": "code",
   "execution_count": 194,
   "metadata": {},
   "outputs": [],
   "source": [
    "driver.close()"
   ]
  },
  {
   "cell_type": "code",
   "execution_count": null,
   "metadata": {},
   "outputs": [
    {
     "ename": "",
     "evalue": "",
     "output_type": "error",
     "traceback": [
      "\u001b[1;31mnotebook controller is DISPOSED. \n",
      "\u001b[1;31mView Jupyter <a href='command:jupyter.viewOutput'>log</a> for further details."
     ]
    }
   ],
   "source": [
    "range_start = 624667"
   ]
  },
  {
   "cell_type": "code",
   "execution_count": 200,
   "metadata": {},
   "outputs": [],
   "source": [
    "case_numbers = [str(x) for x in range(655656, 666532)] + \\\n",
    "[str(x) for x in range(647313, 655655)] + \\\n",
    "[str(x) for x in range(635863, 647312)] + \\\n",
    "[str(x) for x in range(624667, 635860)] + \\\n",
    "[str(x) for x in range(612912, 624666)] + \\\n",
    "[str(x) for x in range(602355, 612910)] "
   ]
  },
  {
   "cell_type": "code",
   "execution_count": 201,
   "metadata": {},
   "outputs": [
    {
     "ename": "NoSuchTableError",
     "evalue": "alias",
     "output_type": "error",
     "traceback": [
      "\u001b[0;31m---------------------------------------------------------------------------\u001b[0m",
      "\u001b[0;31mNoSuchTableError\u001b[0m                          Traceback (most recent call last)",
      "Cell \u001b[0;32mIn [201], line 28\u001b[0m\n\u001b[1;32m     26\u001b[0m driver, case_number \u001b[39m=\u001b[39m fetch_docket_info(session, driver, case_number)\n\u001b[1;32m     27\u001b[0m driver, case_number \u001b[39m=\u001b[39m fetch_cost_info(session, driver, case_number)\n\u001b[0;32m---> 28\u001b[0m driver, case_number \u001b[39m=\u001b[39m fetch_defendant_info(session, driver, case_number)\n\u001b[1;32m     29\u001b[0m driver, case_number \u001b[39m=\u001b[39m fetch_attorney_info(session, driver, case_number)\n",
      "Cell \u001b[0;32mIn [185], line 167\u001b[0m, in \u001b[0;36mfetch_defendant_info\u001b[0;34m(db, driver, case_number)\u001b[0m\n\u001b[1;32m    165\u001b[0m alias_table \u001b[39m=\u001b[39m get_table(case_number, header_xpath\u001b[39m=\u001b[39m\u001b[39m\"\u001b[39m\u001b[39m//table[(@id = \u001b[39m\u001b[39m'\u001b[39m\u001b[39mSheetContentPlaceHolder_defAlias_gvAlias\u001b[39m\u001b[39m'\u001b[39m\u001b[39m)]//th\u001b[39m\u001b[39m\"\u001b[39m, data_xpath\u001b[39m=\u001b[39m\u001b[39m\"\u001b[39m\u001b[39m//table[(@id = \u001b[39m\u001b[39m'\u001b[39m\u001b[39mSheetContentPlaceHolder_defAlias_gvAlias\u001b[39m\u001b[39m'\u001b[39m\u001b[39m)]//td\u001b[39m\u001b[39m\"\u001b[39m)\n\u001b[1;32m    166\u001b[0m alias_table[\u001b[39m\"\u001b[39m\u001b[39mdefendent_id\u001b[39m\u001b[39m\"\u001b[39m] \u001b[39m=\u001b[39m def_id\n\u001b[0;32m--> 167\u001b[0m write_pandas_df_to_db(db, alias_table, \u001b[39m\"\u001b[39;49m\u001b[39malias\u001b[39;49m\u001b[39m\"\u001b[39;49m)\n\u001b[1;32m    168\u001b[0m \u001b[39mreturn\u001b[39;00m driver, case_number\n",
      "Cell \u001b[0;32mIn [185], line 59\u001b[0m, in \u001b[0;36mwrite_pandas_df_to_db\u001b[0;34m(db, df, table_to_write_to)\u001b[0m\n\u001b[1;32m     56\u001b[0m conn \u001b[39m=\u001b[39m engine\u001b[39m.\u001b[39mconnect()\n\u001b[1;32m     58\u001b[0m metadata \u001b[39m=\u001b[39m sqlalchemy\u001b[39m.\u001b[39mschema\u001b[39m.\u001b[39mMetaData(bind\u001b[39m=\u001b[39mengine)\n\u001b[0;32m---> 59\u001b[0m table \u001b[39m=\u001b[39m sqlalchemy\u001b[39m.\u001b[39;49mTable(table_to_write_to, metadata, autoload\u001b[39m=\u001b[39;49m\u001b[39mTrue\u001b[39;49;00m)\n\u001b[1;32m     61\u001b[0m \u001b[39m# Open the session\u001b[39;00m\n\u001b[1;32m     62\u001b[0m Session \u001b[39m=\u001b[39m sessionmaker(bind\u001b[39m=\u001b[39mengine)\n",
      "File \u001b[0;32m<string>:2\u001b[0m, in \u001b[0;36m__new__\u001b[0;34m(cls, *args, **kw)\u001b[0m\n",
      "File \u001b[0;32m~/Documents/Repos/case_scrape/.venv/lib/python3.10/site-packages/sqlalchemy/util/deprecations.py:309\u001b[0m, in \u001b[0;36mdeprecated_params.<locals>.decorate.<locals>.warned\u001b[0;34m(fn, *args, **kwargs)\u001b[0m\n\u001b[1;32m    302\u001b[0m     \u001b[39mif\u001b[39;00m m \u001b[39min\u001b[39;00m kwargs:\n\u001b[1;32m    303\u001b[0m         _warn_with_version(\n\u001b[1;32m    304\u001b[0m             messages[m],\n\u001b[1;32m    305\u001b[0m             versions[m],\n\u001b[1;32m    306\u001b[0m             version_warnings[m],\n\u001b[1;32m    307\u001b[0m             stacklevel\u001b[39m=\u001b[39m\u001b[39m3\u001b[39m,\n\u001b[1;32m    308\u001b[0m         )\n\u001b[0;32m--> 309\u001b[0m \u001b[39mreturn\u001b[39;00m fn(\u001b[39m*\u001b[39;49margs, \u001b[39m*\u001b[39;49m\u001b[39m*\u001b[39;49mkwargs)\n",
      "File \u001b[0;32m~/Documents/Repos/case_scrape/.venv/lib/python3.10/site-packages/sqlalchemy/sql/schema.py:616\u001b[0m, in \u001b[0;36mTable.__new__\u001b[0;34m(cls, *args, **kw)\u001b[0m\n\u001b[1;32m    614\u001b[0m     \u001b[39mreturn\u001b[39;00m table\n\u001b[1;32m    615\u001b[0m \u001b[39mexcept\u001b[39;00m \u001b[39mException\u001b[39;00m:\n\u001b[0;32m--> 616\u001b[0m     \u001b[39mwith\u001b[39;00m util\u001b[39m.\u001b[39msafe_reraise():\n\u001b[1;32m    617\u001b[0m         metadata\u001b[39m.\u001b[39m_remove_table(name, schema)\n",
      "File \u001b[0;32m~/Documents/Repos/case_scrape/.venv/lib/python3.10/site-packages/sqlalchemy/util/langhelpers.py:70\u001b[0m, in \u001b[0;36msafe_reraise.__exit__\u001b[0;34m(self, type_, value, traceback)\u001b[0m\n\u001b[1;32m     68\u001b[0m     \u001b[39mself\u001b[39m\u001b[39m.\u001b[39m_exc_info \u001b[39m=\u001b[39m \u001b[39mNone\u001b[39;00m  \u001b[39m# remove potential circular references\u001b[39;00m\n\u001b[1;32m     69\u001b[0m     \u001b[39mif\u001b[39;00m \u001b[39mnot\u001b[39;00m \u001b[39mself\u001b[39m\u001b[39m.\u001b[39mwarn_only:\n\u001b[0;32m---> 70\u001b[0m         compat\u001b[39m.\u001b[39;49mraise_(\n\u001b[1;32m     71\u001b[0m             exc_value,\n\u001b[1;32m     72\u001b[0m             with_traceback\u001b[39m=\u001b[39;49mexc_tb,\n\u001b[1;32m     73\u001b[0m         )\n\u001b[1;32m     74\u001b[0m \u001b[39melse\u001b[39;00m:\n\u001b[1;32m     75\u001b[0m     \u001b[39mif\u001b[39;00m \u001b[39mnot\u001b[39;00m compat\u001b[39m.\u001b[39mpy3k \u001b[39mand\u001b[39;00m \u001b[39mself\u001b[39m\u001b[39m.\u001b[39m_exc_info \u001b[39mand\u001b[39;00m \u001b[39mself\u001b[39m\u001b[39m.\u001b[39m_exc_info[\u001b[39m1\u001b[39m]:\n\u001b[1;32m     76\u001b[0m         \u001b[39m# emulate Py3K's behavior of telling us when an exception\u001b[39;00m\n\u001b[1;32m     77\u001b[0m         \u001b[39m# occurs in an exception handler.\u001b[39;00m\n",
      "File \u001b[0;32m~/Documents/Repos/case_scrape/.venv/lib/python3.10/site-packages/sqlalchemy/util/compat.py:208\u001b[0m, in \u001b[0;36mraise_\u001b[0;34m(***failed resolving arguments***)\u001b[0m\n\u001b[1;32m    205\u001b[0m     exception\u001b[39m.\u001b[39m__cause__ \u001b[39m=\u001b[39m replace_context\n\u001b[1;32m    207\u001b[0m \u001b[39mtry\u001b[39;00m:\n\u001b[0;32m--> 208\u001b[0m     \u001b[39mraise\u001b[39;00m exception\n\u001b[1;32m    209\u001b[0m \u001b[39mfinally\u001b[39;00m:\n\u001b[1;32m    210\u001b[0m     \u001b[39m# credit to\u001b[39;00m\n\u001b[1;32m    211\u001b[0m     \u001b[39m# https://cosmicpercolator.com/2016/01/13/exception-leaks-in-python-2-and-3/\u001b[39;00m\n\u001b[1;32m    212\u001b[0m     \u001b[39m# as the __traceback__ object creates a cycle\u001b[39;00m\n\u001b[1;32m    213\u001b[0m     \u001b[39mdel\u001b[39;00m exception, replace_context, from_, with_traceback\n",
      "File \u001b[0;32m~/Documents/Repos/case_scrape/.venv/lib/python3.10/site-packages/sqlalchemy/sql/schema.py:612\u001b[0m, in \u001b[0;36mTable.__new__\u001b[0;34m(cls, *args, **kw)\u001b[0m\n\u001b[1;32m    610\u001b[0m metadata\u001b[39m.\u001b[39m_add_table(name, schema, table)\n\u001b[1;32m    611\u001b[0m \u001b[39mtry\u001b[39;00m:\n\u001b[0;32m--> 612\u001b[0m     table\u001b[39m.\u001b[39;49m_init(name, metadata, \u001b[39m*\u001b[39;49margs, \u001b[39m*\u001b[39;49m\u001b[39m*\u001b[39;49mkw)\n\u001b[1;32m    613\u001b[0m     table\u001b[39m.\u001b[39mdispatch\u001b[39m.\u001b[39mafter_parent_attach(table, metadata)\n\u001b[1;32m    614\u001b[0m     \u001b[39mreturn\u001b[39;00m table\n",
      "File \u001b[0;32m~/Documents/Repos/case_scrape/.venv/lib/python3.10/site-packages/sqlalchemy/sql/schema.py:687\u001b[0m, in \u001b[0;36mTable._init\u001b[0;34m(self, name, metadata, *args, **kwargs)\u001b[0m\n\u001b[1;32m    683\u001b[0m \u001b[39m# load column definitions from the database if 'autoload' is defined\u001b[39;00m\n\u001b[1;32m    684\u001b[0m \u001b[39m# we do it after the table is in the singleton dictionary to support\u001b[39;00m\n\u001b[1;32m    685\u001b[0m \u001b[39m# circular foreign keys\u001b[39;00m\n\u001b[1;32m    686\u001b[0m \u001b[39mif\u001b[39;00m autoload:\n\u001b[0;32m--> 687\u001b[0m     \u001b[39mself\u001b[39;49m\u001b[39m.\u001b[39;49m_autoload(\n\u001b[1;32m    688\u001b[0m         metadata,\n\u001b[1;32m    689\u001b[0m         autoload_with,\n\u001b[1;32m    690\u001b[0m         include_columns,\n\u001b[1;32m    691\u001b[0m         _extend_on\u001b[39m=\u001b[39;49m_extend_on,\n\u001b[1;32m    692\u001b[0m         resolve_fks\u001b[39m=\u001b[39;49mresolve_fks,\n\u001b[1;32m    693\u001b[0m     )\n\u001b[1;32m    695\u001b[0m \u001b[39m# initialize all the column, etc. objects.  done after reflection to\u001b[39;00m\n\u001b[1;32m    696\u001b[0m \u001b[39m# allow user-overrides\u001b[39;00m\n\u001b[1;32m    698\u001b[0m \u001b[39mself\u001b[39m\u001b[39m.\u001b[39m_init_items(\n\u001b[1;32m    699\u001b[0m     \u001b[39m*\u001b[39margs,\n\u001b[1;32m    700\u001b[0m     allow_replacements\u001b[39m=\u001b[39mextend_existing \u001b[39mor\u001b[39;00m keep_existing \u001b[39mor\u001b[39;00m autoload\n\u001b[1;32m    701\u001b[0m )\n",
      "File \u001b[0;32m~/Documents/Repos/case_scrape/.venv/lib/python3.10/site-packages/sqlalchemy/sql/schema.py:722\u001b[0m, in \u001b[0;36mTable._autoload\u001b[0;34m(self, metadata, autoload_with, include_columns, exclude_columns, resolve_fks, _extend_on)\u001b[0m\n\u001b[1;32m    720\u001b[0m insp \u001b[39m=\u001b[39m inspection\u001b[39m.\u001b[39minspect(autoload_with)\n\u001b[1;32m    721\u001b[0m \u001b[39mwith\u001b[39;00m insp\u001b[39m.\u001b[39m_inspection_context() \u001b[39mas\u001b[39;00m conn_insp:\n\u001b[0;32m--> 722\u001b[0m     conn_insp\u001b[39m.\u001b[39;49mreflect_table(\n\u001b[1;32m    723\u001b[0m         \u001b[39mself\u001b[39;49m,\n\u001b[1;32m    724\u001b[0m         include_columns,\n\u001b[1;32m    725\u001b[0m         exclude_columns,\n\u001b[1;32m    726\u001b[0m         resolve_fks,\n\u001b[1;32m    727\u001b[0m         _extend_on\u001b[39m=\u001b[39;49m_extend_on,\n\u001b[1;32m    728\u001b[0m     )\n",
      "File \u001b[0;32m~/Documents/Repos/case_scrape/.venv/lib/python3.10/site-packages/sqlalchemy/engine/reflection.py:774\u001b[0m, in \u001b[0;36mInspector.reflect_table\u001b[0;34m(self, table, include_columns, exclude_columns, resolve_fks, _extend_on)\u001b[0m\n\u001b[1;32m    771\u001b[0m found_table \u001b[39m=\u001b[39m \u001b[39mFalse\u001b[39;00m\n\u001b[1;32m    772\u001b[0m cols_by_orig_name \u001b[39m=\u001b[39m {}\n\u001b[0;32m--> 774\u001b[0m \u001b[39mfor\u001b[39;00m col_d \u001b[39min\u001b[39;00m \u001b[39mself\u001b[39;49m\u001b[39m.\u001b[39;49mget_columns(\n\u001b[1;32m    775\u001b[0m     table_name, schema, \u001b[39m*\u001b[39;49m\u001b[39m*\u001b[39;49mtable\u001b[39m.\u001b[39;49mdialect_kwargs\n\u001b[1;32m    776\u001b[0m ):\n\u001b[1;32m    777\u001b[0m     found_table \u001b[39m=\u001b[39m \u001b[39mTrue\u001b[39;00m\n\u001b[1;32m    779\u001b[0m     \u001b[39mself\u001b[39m\u001b[39m.\u001b[39m_reflect_column(\n\u001b[1;32m    780\u001b[0m         table,\n\u001b[1;32m    781\u001b[0m         col_d,\n\u001b[0;32m   (...)\u001b[0m\n\u001b[1;32m    784\u001b[0m         cols_by_orig_name,\n\u001b[1;32m    785\u001b[0m     )\n",
      "File \u001b[0;32m~/Documents/Repos/case_scrape/.venv/lib/python3.10/site-packages/sqlalchemy/engine/reflection.py:497\u001b[0m, in \u001b[0;36mInspector.get_columns\u001b[0;34m(self, table_name, schema, **kw)\u001b[0m\n\u001b[1;32m    443\u001b[0m \u001b[39m\"\"\"Return information about columns in `table_name`.\u001b[39;00m\n\u001b[1;32m    444\u001b[0m \n\u001b[1;32m    445\u001b[0m \u001b[39mGiven a string `table_name` and an optional string `schema`, return\u001b[39;00m\n\u001b[0;32m   (...)\u001b[0m\n\u001b[1;32m    493\u001b[0m \n\u001b[1;32m    494\u001b[0m \u001b[39m\"\"\"\u001b[39;00m\n\u001b[1;32m    496\u001b[0m \u001b[39mwith\u001b[39;00m \u001b[39mself\u001b[39m\u001b[39m.\u001b[39m_operation_context() \u001b[39mas\u001b[39;00m conn:\n\u001b[0;32m--> 497\u001b[0m     col_defs \u001b[39m=\u001b[39m \u001b[39mself\u001b[39;49m\u001b[39m.\u001b[39;49mdialect\u001b[39m.\u001b[39;49mget_columns(\n\u001b[1;32m    498\u001b[0m         conn, table_name, schema, info_cache\u001b[39m=\u001b[39;49m\u001b[39mself\u001b[39;49m\u001b[39m.\u001b[39;49minfo_cache, \u001b[39m*\u001b[39;49m\u001b[39m*\u001b[39;49mkw\n\u001b[1;32m    499\u001b[0m     )\n\u001b[1;32m    500\u001b[0m \u001b[39mfor\u001b[39;00m col_def \u001b[39min\u001b[39;00m col_defs:\n\u001b[1;32m    501\u001b[0m     \u001b[39m# make this easy and only return instances for coltype\u001b[39;00m\n\u001b[1;32m    502\u001b[0m     coltype \u001b[39m=\u001b[39m col_def[\u001b[39m\"\u001b[39m\u001b[39mtype\u001b[39m\u001b[39m\"\u001b[39m]\n",
      "File \u001b[0;32m<string>:2\u001b[0m, in \u001b[0;36mget_columns\u001b[0;34m(self, connection, table_name, schema, **kw)\u001b[0m\n",
      "File \u001b[0;32m~/Documents/Repos/case_scrape/.venv/lib/python3.10/site-packages/sqlalchemy/engine/reflection.py:55\u001b[0m, in \u001b[0;36mcache\u001b[0;34m(fn, self, con, *args, **kw)\u001b[0m\n\u001b[1;32m     53\u001b[0m ret \u001b[39m=\u001b[39m info_cache\u001b[39m.\u001b[39mget(key)\n\u001b[1;32m     54\u001b[0m \u001b[39mif\u001b[39;00m ret \u001b[39mis\u001b[39;00m \u001b[39mNone\u001b[39;00m:\n\u001b[0;32m---> 55\u001b[0m     ret \u001b[39m=\u001b[39m fn(\u001b[39mself\u001b[39;49m, con, \u001b[39m*\u001b[39;49margs, \u001b[39m*\u001b[39;49m\u001b[39m*\u001b[39;49mkw)\n\u001b[1;32m     56\u001b[0m     info_cache[key] \u001b[39m=\u001b[39m ret\n\u001b[1;32m     57\u001b[0m \u001b[39mreturn\u001b[39;00m ret\n",
      "File \u001b[0;32m~/Documents/Repos/case_scrape/.venv/lib/python3.10/site-packages/sqlalchemy/dialects/postgresql/base.py:3788\u001b[0m, in \u001b[0;36mPGDialect.get_columns\u001b[0;34m(self, connection, table_name, schema, **kw)\u001b[0m\n\u001b[1;32m   3785\u001b[0m \u001b[39m@reflection\u001b[39m\u001b[39m.\u001b[39mcache\n\u001b[1;32m   3786\u001b[0m \u001b[39mdef\u001b[39;00m \u001b[39mget_columns\u001b[39m(\u001b[39mself\u001b[39m, connection, table_name, schema\u001b[39m=\u001b[39m\u001b[39mNone\u001b[39;00m, \u001b[39m*\u001b[39m\u001b[39m*\u001b[39mkw):\n\u001b[0;32m-> 3788\u001b[0m     table_oid \u001b[39m=\u001b[39m \u001b[39mself\u001b[39;49m\u001b[39m.\u001b[39;49mget_table_oid(\n\u001b[1;32m   3789\u001b[0m         connection, table_name, schema, info_cache\u001b[39m=\u001b[39;49mkw\u001b[39m.\u001b[39;49mget(\u001b[39m\"\u001b[39;49m\u001b[39minfo_cache\u001b[39;49m\u001b[39m\"\u001b[39;49m)\n\u001b[1;32m   3790\u001b[0m     )\n\u001b[1;32m   3792\u001b[0m     generated \u001b[39m=\u001b[39m (\n\u001b[1;32m   3793\u001b[0m         \u001b[39m\"\u001b[39m\u001b[39ma.attgenerated as generated\u001b[39m\u001b[39m\"\u001b[39m\n\u001b[1;32m   3794\u001b[0m         \u001b[39mif\u001b[39;00m \u001b[39mself\u001b[39m\u001b[39m.\u001b[39mserver_version_info \u001b[39m>\u001b[39m\u001b[39m=\u001b[39m (\u001b[39m12\u001b[39m,)\n\u001b[1;32m   3795\u001b[0m         \u001b[39melse\u001b[39;00m \u001b[39m\"\u001b[39m\u001b[39mNULL as generated\u001b[39m\u001b[39m\"\u001b[39m\n\u001b[1;32m   3796\u001b[0m     )\n\u001b[1;32m   3797\u001b[0m     \u001b[39mif\u001b[39;00m \u001b[39mself\u001b[39m\u001b[39m.\u001b[39mserver_version_info \u001b[39m>\u001b[39m\u001b[39m=\u001b[39m (\u001b[39m10\u001b[39m,):\n\u001b[1;32m   3798\u001b[0m         \u001b[39m# a.attidentity != '' is required or it will reflect also\u001b[39;00m\n\u001b[1;32m   3799\u001b[0m         \u001b[39m# serial columns as identity.\u001b[39;00m\n",
      "File \u001b[0;32m<string>:2\u001b[0m, in \u001b[0;36mget_table_oid\u001b[0;34m(self, connection, table_name, schema, **kw)\u001b[0m\n",
      "File \u001b[0;32m~/Documents/Repos/case_scrape/.venv/lib/python3.10/site-packages/sqlalchemy/engine/reflection.py:55\u001b[0m, in \u001b[0;36mcache\u001b[0;34m(fn, self, con, *args, **kw)\u001b[0m\n\u001b[1;32m     53\u001b[0m ret \u001b[39m=\u001b[39m info_cache\u001b[39m.\u001b[39mget(key)\n\u001b[1;32m     54\u001b[0m \u001b[39mif\u001b[39;00m ret \u001b[39mis\u001b[39;00m \u001b[39mNone\u001b[39;00m:\n\u001b[0;32m---> 55\u001b[0m     ret \u001b[39m=\u001b[39m fn(\u001b[39mself\u001b[39;49m, con, \u001b[39m*\u001b[39;49margs, \u001b[39m*\u001b[39;49m\u001b[39m*\u001b[39;49mkw)\n\u001b[1;32m     56\u001b[0m     info_cache[key] \u001b[39m=\u001b[39m ret\n\u001b[1;32m     57\u001b[0m \u001b[39mreturn\u001b[39;00m ret\n",
      "File \u001b[0;32m~/Documents/Repos/case_scrape/.venv/lib/python3.10/site-packages/sqlalchemy/dialects/postgresql/base.py:3668\u001b[0m, in \u001b[0;36mPGDialect.get_table_oid\u001b[0;34m(self, connection, table_name, schema, **kw)\u001b[0m\n\u001b[1;32m   3666\u001b[0m table_oid \u001b[39m=\u001b[39m c\u001b[39m.\u001b[39mscalar()\n\u001b[1;32m   3667\u001b[0m \u001b[39mif\u001b[39;00m table_oid \u001b[39mis\u001b[39;00m \u001b[39mNone\u001b[39;00m:\n\u001b[0;32m-> 3668\u001b[0m     \u001b[39mraise\u001b[39;00m exc\u001b[39m.\u001b[39mNoSuchTableError(table_name)\n\u001b[1;32m   3669\u001b[0m \u001b[39mreturn\u001b[39;00m table_oid\n",
      "\u001b[0;31mNoSuchTableError\u001b[0m: alias"
     ]
    }
   ],
   "source": [
    "for case_no_str in case_numbers:\n",
    "    driver = search_case_number(driver, case_no_str)\n",
    "    data_elems = driver.find_elements(By.XPATH, \"//*[(@id='SheetContentPlaceHolder_ctl00_gvCaseResults')]//*[@href]\")\n",
    "    if len(data_elems) > 0:\n",
    "        for i, elem in enumerate(data_elems):\n",
    "            data_elems = driver.find_elements(By.XPATH, \"//*[(@id='SheetContentPlaceHolder_ctl00_gvCaseResults')]//*[@href]\")\n",
    "            data_elems[i].click()\n",
    "            driver, case_number = fetch_case_summary(session, driver)\n",
    "            driver, case_number = fetch_case_summary_tables(session, driver, case_number)\n",
    "            driver, case_number = fetch_docket_info(session, driver, case_number)\n",
    "            driver.back()\n",
    "            driver = check_tos(driver)\n",
    "            driver, case_number = fetch_cost_info(session, driver, case_number)\n",
    "            driver.back()\n",
    "            driver = check_tos(driver)\n",
    "            driver, case_number = fetch_defendant_info(session, driver, case_number)\n",
    "            driver.back()\n",
    "            driver = check_tos(driver)\n",
    "            driver, case_number = fetch_attorney_info(session, driver, case_number)\n",
    "            driver.back()\n",
    "            driver = check_tos(driver)\n",
    "            driver.back()\n",
    "    else:\n",
    "        driver, case_number = fetch_case_summary(session, driver)\n",
    "        driver, case_number = fetch_case_summary_tables(session, driver, case_number)\n",
    "        driver, case_number = fetch_docket_info(session, driver, case_number)\n",
    "        driver, case_number = fetch_cost_info(session, driver, case_number)\n",
    "        driver, case_number = fetch_defendant_info(session, driver, case_number)\n",
    "        driver, case_number = fetch_attorney_info(session, driver, case_number)\n",
    "    \n",
    "\n",
    "    "
   ]
  },
  {
   "cell_type": "code",
   "execution_count": 185,
   "metadata": {},
   "outputs": [],
   "source": [
    "from re import I\n",
    "import sqlalchemy\n",
    "\n",
    "\n",
    "# opts = Options()\n",
    "# # opts.headless = True\n",
    "# driver = webdriver.Chrome(ChromeDriverManager().install(), options=opts)#, executable_path=binary_path)\n",
    "\n",
    "def check_tos(driver):\n",
    "    # anticipates terms of service pop up\n",
    "    if len(driver.find_elements(By.ID, \"SheetContentPlaceHolder_btnYes\")) > 0:\n",
    "        WebDriverWait(driver, 10).until(EC.element_to_be_clickable((By.ID, \"SheetContentPlaceHolder_btnYes\"))).click()\n",
    "        driver.implicitly_wait(3)\n",
    "    return driver\n",
    "\n",
    "def search_case_number(driver: WebDriver, case_number: str) -> webdriver.Chrome:\n",
    "    \"\"\"Goes to search page, upon landing on the search page, this function will navigate the agreement and then enter a case \n",
    "    number to search criminal records and click the submit button.\n",
    "    Be sure to already be on the case search page when you run this function.\"\"\"\n",
    "    driver.get(\"https://cpdocket.cp.cuyahogacounty.us/Search.aspx\") \n",
    "    driver = check_tos(driver)\n",
    "    WebDriverWait(driver, 10).until(\n",
    "        EC.element_to_be_clickable((By.XPATH, \"//*[(@id = 'SheetContentPlaceHolder_rbCrCase')]\"))).click()\n",
    "    driver.implicitly_wait(2)\n",
    "    \n",
    "    if len(driver.find_elements(By.ID, \"SheetContentPlaceHolder_btnYes\")) > 0:\n",
    "        WebDriverWait(driver, 10).until(EC.element_to_be_clickable((By.ID, \"SheetContentPlaceHolder_btnYes\"))).click()\n",
    "        WebDriverWait(driver, 10).until(EC.element_to_be_clickable((By.XPATH, \"//*[(@id = 'SheetContentPlaceHolder_rbCrCase')]\"))).click()\n",
    "        driver.implicitly_wait(3)\n",
    "    \n",
    "    # checks if searching elements are there\n",
    "    if len(driver.find_elements(By.ID, \"SheetContentPlaceHolder_ctl00_gvCaseResults\")) == 0:\n",
    "        \n",
    "        text_box = driver.find_element(By.XPATH, \"//input[(@type = 'text')]\")\n",
    "        text_box.clear()\n",
    "        text_box.send_keys(case_number)\n",
    "        WebDriverWait(driver, 10).until(EC.element_to_be_clickable((By.ID, \"SheetContentPlaceHolder_criminalCaseSearch_btnSubmitCase\"))).click()\n",
    "        driver.implicitly_wait(random.randint(4,15))\n",
    "\n",
    "    return driver\n",
    "\n",
    "def get_table(case_number: str, header_xpath: str, data_xpath: str) -> pd.DataFrame:\n",
    "    headers = driver.find_elements(By.XPATH, header_xpath)\n",
    "    data = driver.find_elements(By.XPATH, data_xpath)\n",
    "    data_list = [d.text for d in data]\n",
    "    table = {}\n",
    "    for i, h in enumerate(headers):\n",
    "        table[h.text.upper()]=data_list[i::len(headers)]\n",
    "    df = pd.DataFrame(table)\n",
    "    df[\"CASE_NUMBER\"] = case_number\n",
    "    return df\n",
    "\n",
    "def write_pandas_df_to_db(db, df: pd.DataFrame, table_to_write_to: str):\n",
    "    engine = db.get_bind()\n",
    "    listToWrite = df.to_dict(orient='records')\n",
    "    conn = engine.connect()\n",
    "\n",
    "    metadata = sqlalchemy.schema.MetaData(bind=engine)\n",
    "    table = sqlalchemy.Table(table_to_write_to, metadata, autoload=True)\n",
    "\n",
    "    # Open the session\n",
    "    Session = sessionmaker(bind=engine)\n",
    "    session = Session()\n",
    "\n",
    "    # Inser the dataframe into the database in one bulk\n",
    "    conn.execute(table.insert(), listToWrite)\n",
    "\n",
    "def fetch_case_summary(db, driver) -> str:\n",
    "    \"\"\"commits returns case_number\"\"\"\n",
    "    WebDriverWait(driver,10).until(EC.element_to_be_clickable((By.XPATH, \"//*[(@id = 'SheetContentPlaceHolder_caseSummary_lblCaseNumber')]\")))\n",
    "    case_number = driver.find_element(By.XPATH, \"//*[(@id = 'SheetContentPlaceHolder_caseSummary_lblCaseNumber')]\").text\n",
    "    case_information=models.CaseInformation(\n",
    "        case_number= case_number,\n",
    "        status=driver.find_element(By.XPATH, \"//*[(@id = 'SheetContentPlaceHolder_caseSummary_lblCaseStatus')]\").text,\n",
    "        judge_name=driver.find_element(By.XPATH, \"//*[(@id = 'SheetContentPlaceHolder_caseSummary_lblJudgeName')]\").text,\n",
    "        next_event=driver.find_element(By.XPATH, \"//*[(@id = 'SheetContentPlaceHolder_caseSummary_lblNextEvent')]\").text,\n",
    "        arrested_date=driver.find_element(By.XPATH, \"//*[(@id = 'SheetContentPlaceHolder_caseSummary_lblArrested')]\").text,\n",
    "        arresting_agency=driver.find_element(By.XPATH, \"//*[(@id = 'SheetContentPlaceHolder_caseSummary_lblArrestingAgency')]\").text,\n",
    "        arresting_agency_report=driver.find_element(By.XPATH, \"//*[(@id = 'SheetContentPlaceHolder_caseSummary_lblArestingAgencyReport')]\").text,\n",
    "        court_of_appeals_case=driver.find_element(By.XPATH, \"//*[(@id = 'SheetContentPlaceHolder_caseSummary_lblCOACase')]\").text\n",
    "    )\n",
    "    db.add(case_information)\n",
    "    defendant_info = models.DefendantInformation(\n",
    "        case_number=case_number,\n",
    "        number=driver.find_element(By.XPATH, \"//*[(@id = 'SheetContentPlaceHolder_caseSummary_lblNumber')]\").text,\n",
    "        name=driver.find_element(By.XPATH, \"//*[(@id = 'SheetContentPlaceHolder_caseSummary_lblName')]\").text,\n",
    "        status=driver.find_element(By.XPATH, \"//*[(@id = 'SheetContentPlaceHolder_caseSummary_defStatus_lblDefStatus')]\").text,\n",
    "        date_of_birth=driver.find_element(By.XPATH, \"//*[(@id = 'SheetContentPlaceHolder_caseSummary_lblDOB')]\").text,\n",
    "        race=driver.find_element(By.XPATH, \"//*[(@id = 'SheetContentPlaceHolder_caseSummary_lblRace')]\").text,\n",
    "        sex=driver.find_element(By.XPATH, \"//*[(@id = 'SheetContentPlaceHolder_caseSummary_lblSex')]\").text,\n",
    "        other_cases=driver.find_element(By.XPATH, \"//*[(@id = 'SheetContentPlaceHolder_caseSummary_otherCases_lblOtherCases')]\").text,\n",
    "        co_defendants=driver.find_element(By.XPATH, \"//*[(@id = 'SheetContentPlaceHolder_caseSummary_otherDefs_lblCoDefs')]\").text\n",
    "    ) \n",
    "    db.add(defendant_info)  \n",
    "    db.commit()\n",
    "    return driver, case_number\n",
    "\n",
    "def fetch_case_summary_tables(db, driver, case_number) -> Tuple[WebDriver, str]:\n",
    "    \"\"\"gets info from case summary page\"\"\"\n",
    "    #additional tables\n",
    "    charge_df = get_table(case_number, \n",
    "                        header_xpath=\"//table[(@id = 'SheetContentPlaceHolder_caseCharges_gvCharges')]//th\", \n",
    "                        data_xpath=\"//table[(@id = 'SheetContentPlaceHolder_caseCharges_gvCharges')]//td\")\n",
    "    write_pandas_df_to_db(db, charge_df, \"charges\")\n",
    "    \n",
    "    bond_df = get_table(case_number, \n",
    "                        header_xpath=\"//table[(@id = 'SheetContentPlaceHolder_caseBondInfo_gvBonds')]//th\", \n",
    "                        data_xpath=\"//table[(@id = 'SheetContentPlaceHolder_caseBondInfo_gvBonds')]//td\")\n",
    "    write_pandas_df_to_db(db, bond_df, \"bond_information\")\n",
    "    \n",
    "    action_df = get_table(case_number,\n",
    "                        header_xpath=\"//table[(@id = 'SheetContentPlaceHolder_caseActions_gvActions')]//th\",\n",
    "                        data_xpath=\"//table[(@id = 'SheetContentPlaceHolder_caseActions_gvActions')]//td\")\n",
    "    write_pandas_df_to_db(db, action_df, \"case_actions\")\n",
    "    return driver, case_number\n",
    "\n",
    "\n",
    "def fetch_docket_info(db, driver, case_number):\n",
    "    \"\"\"from case summary page, clicks docket, downloads information\"\"\"\n",
    "    WebDriverWait(driver, 10).until(EC.element_to_be_clickable((By.ID, \"SheetContentPlaceHolder_caseHeader_lbDocket\"))).click()\n",
    "    driver = check_tos(driver)\n",
    "    docket_table = get_table(case_number,\n",
    "    header_xpath=\"//table[(@id = 'SheetContentPlaceHolder_caseDocket_gvDocket')]//th\",\n",
    "    data_xpath=\"//table[(@id = 'SheetContentPlaceHolder_caseDocket_gvDocket')]//td\")\n",
    "    write_pandas_df_to_db(db, docket_table, \"docket_information\")\n",
    "    return driver, case_number\n",
    "\n",
    "def fetch_cost_info(db, driver, case_number):\n",
    "    WebDriverWait(driver, 2).until(EC.element_to_be_clickable((By.ID,\"SheetContentPlaceHolder_caseHeader_lbCosts\"))).click()\n",
    "    # anticipates terms of service\n",
    "    driver = check_tos(driver)\n",
    "    #SheetContentPlaceHolder_caseCosts_gvCosts\n",
    "    cost_table = get_table(case_number, header_xpath=\"//table[(@id = 'SheetContentPlaceHolder_caseCosts_gvCosts')]//th\", data_xpath=\"//table[(@id = 'SheetContentPlaceHolder_caseCosts_gvCosts')]//td\")\n",
    "    write_pandas_df_to_db(db, cost_table, \"cost_information\")\n",
    "    return driver, case_number\n",
    "        \n",
    "def fetch_defendant_info(db, driver, case_number):\n",
    "    WebDriverWait(driver, 2).until(EC.element_to_be_clickable((By.ID,\"SheetContentPlaceHolder_caseHeader_lbDefendant\"))).click()\n",
    "    driver = check_tos(driver)\n",
    "    def_id=driver.find_element(By.XPATH, \"//*[(@id = 'SheetContentPlaceHolder_defGeneral_lblDefID')]\").text\n",
    "    defendent_info = models.Defendant(\n",
    "        #SheetContentPlaceHolder_defGeneral_defStatus_lblDefStatus\n",
    "        name=driver.find_element(By.XPATH, \"//*[(@id = 'SheetContentPlaceHolder_defGeneral_lblName')]\").text,\n",
    "        id=def_id,\n",
    "        case_number = case_number,\n",
    "        status=driver.find_element(By.XPATH, \"//*[(@id = 'SheetContentPlaceHolder_defGeneral_defStatus_lblDefStatus')]\").text,\n",
    "        marital_status=driver.find_element(By.XPATH, \"//*[(@id = 'SheetContentPlaceHolder_defGeneral_lblMaritalStatus')]\").text,\n",
    "        birth_city=driver.find_element(By.XPATH, \"//*[(@id = 'SheetContentPlaceHolder_defGeneral_lblBirthCity')]\").text,\n",
    "        citizenship=driver.find_element(By.XPATH, \"//*[(@id = 'SheetContentPlaceHolder_defGeneral_lblCitizenship')]\").text,\n",
    "        address_1=driver.find_element(By.XPATH, \"//*[(@id = 'SheetContentPlaceHolder_defAddress_lblAddress1')]\").text,\n",
    "        address_2=driver.find_element(By.XPATH, \"//*[(@id = 'SheetContentPlaceHolder_defAddress_lblAddress2')]\").text,\n",
    "        address_3=driver.find_element(By.XPATH, \"//*[(@id = 'SheetContentPlaceHolder_defAddress_lblCSZ')]\").text,\n",
    "        race=driver.find_element(By.XPATH, \"//*[(@id = 'SheetContentPlaceHolder_defIDChar_lblRace')]\").text,\n",
    "        height=driver.find_element(By.XPATH, \"//*[(@id = 'SheetContentPlaceHolder_defIDChar_lblHeight')]\").text,\n",
    "        sex=driver.find_element(By.XPATH, \"//*[(@id = 'SheetContentPlaceHolder_defIDChar_lblSex')]\").text,\n",
    "        weight=driver.find_element(By.XPATH, \"//*[(@id = 'SheetContentPlaceHolder_defIDChar_lblWeight')]\").text,\n",
    "        age=driver.find_element(By.XPATH, \"//*[(@id = 'SheetContentPlaceHolder_defIDChar_lblAge')]\").text,\n",
    "        eyes=driver.find_element(By.XPATH, \"//*[(@id = 'SheetContentPlaceHolder_defIDChar_lblEyes')]\").text,\n",
    "        date_of_birth=driver.find_element(By.XPATH, \"//*[(@id = 'SheetContentPlaceHolder_defIDChar_lblDOB')]\").text,\n",
    "        hair=driver.find_element(By.XPATH, \"//*[(@id = 'SheetContentPlaceHolder_defIDChar_lblHair')]\").text,\n",
    "        )\n",
    "    # anticipates terms of service\n",
    "    db.add(defendent_info)\n",
    "    db.commit()\n",
    "    alias_table = get_table(case_number, header_xpath=\"//table[(@id = 'SheetContentPlaceHolder_defAlias_gvAlias')]//th\", data_xpath=\"//table[(@id = 'SheetContentPlaceHolder_defAlias_gvAlias')]//td\")\n",
    "    alias_table[\"defendent_id\"] = def_id\n",
    "    write_pandas_df_to_db(db, alias_table, \"alias\")\n",
    "    return driver, case_number\n",
    "\n",
    "\n",
    "def get_attorney_table(db, driver, case_number, table_data):\n",
    "    data = driver.find_elements(By.XPATH, table_data)\n",
    "    data_list = [d.text for d in data]\n",
    "    atts = [x for x in list(set(data_list)) if x.count(\"Address/Phone\") ==1 and x.count(\"Attorney Name\") ==1]\n",
    "    attorney_names = [x.split(\"\\nAddress/Phone:\")[0].replace(\"Attorney Name:\", \"\").strip() for x in atts]\n",
    "    attorney_address = [x.split(\"\\nAddress/Phone:\")[1].split(\"\\nPh:\")[0].strip() for x in atts]\n",
    "    attorney_phone = [x.split(\"\\nAddress/Phone:\")[1].split(\"\\nPh:\")[1].strip() for x in atts]\n",
    "    for n, a, p in zip(attorney_names, attorney_address, attorney_phone):\n",
    "        attorney = models.Attorney(\n",
    "            case_number=case_number,\n",
    "            name=n,\n",
    "            address=a,\n",
    "            phone=p\n",
    "        )\n",
    "        db.add(attorney)\n",
    "    db.commit()\n",
    "    return driver\n",
    "\n",
    "def fetch_attorney_info(db, driver, case_number):\n",
    "    WebDriverWait(driver, 2).until(EC.element_to_be_clickable((By.ID,\"SheetContentPlaceHolder_caseHeader_lbAttorney\"))).click()\n",
    "    driver = check_tos(driver)\n",
    "    driver = get_attorney_table(db, driver, case_number, \"//table[(@id='SheetContentPlaceHolder_attyInfo_gvAttyInfo')]//*\")\n",
    "    return driver, case_number\n",
    "\n",
    "\n",
    "\n",
    "\n",
    "        \n",
    "    \n"
   ]
  },
  {
   "cell_type": "markdown",
   "metadata": {},
   "source": [
    "# h-list"
   ]
  },
  {
   "cell_type": "code",
   "execution_count": null,
   "metadata": {},
   "outputs": [
    {
     "ename": "",
     "evalue": "",
     "output_type": "error",
     "traceback": [
      "\u001b[1;31mnotebook controller is DISPOSED. \n",
      "\u001b[1;31mView Jupyter <a href='command:jupyter.viewOutput'>log</a> for further details."
     ]
    }
   ],
   "source": [
    "already_scraped = list(df[\"CASE_NUMBER\"].unique())"
   ]
  },
  {
   "cell_type": "code",
   "execution_count": null,
   "metadata": {},
   "outputs": [
    {
     "ename": "",
     "evalue": "",
     "output_type": "error",
     "traceback": [
      "\u001b[1;31mnotebook controller is DISPOSED. \n",
      "\u001b[1;31mView Jupyter <a href='command:jupyter.viewOutput'>log</a> for further details."
     ]
    }
   ],
   "source": [
    "new_cases = [\"618926\",\n",
    "\"620395\",\n",
    "\"616872\",\n",
    "\"620865\",\n",
    "\"614781\",\n",
    "\"628724\",\n",
    "\"631170\",\n",
    "\"627746\",\n",
    "\"635840\",\n",
    "\"633911\",\n",
    "\"646343\",\n",
    "\"646590\",\n",
    "\"641595\",\n",
    "\"641983\",\n",
    "\"647080\",\n",
    "\"650202\",\n",
    "\"650473\",\n",
    "\"649886\",\n",
    "\"648192\",\n",
    "\"648166\",\n",
    "\"666430\",\n",
    "\"657457\",\n",
    "\"663574\",\n",
    "\"660005\",\n",
    "\"665568\",\n",
    "\"616263\",\n",
    "\"613712\",\n",
    "\"618748\",\n",
    "\"615216\",\n",
    "\"619363\",\n",
    "\"625226\",\n",
    "\"625071\",\n",
    "\"633620\",\n",
    "\"627879\",\n",
    "\"627879\",\n",
    "\"644646\",\n",
    "\"645807\",\n",
    "\"640586\",\n",
    "\"646354\",\n",
    "\"642321\",\n",
    "\"652069\",\n",
    "\"651583\",\n",
    "\"655333\",\n",
    "\"653793\",\n",
    "\"653048\",\n",
    "\"660255\",\n",
    "\"662286\",\n",
    "\"662347\",\n",
    "\"656397\",\n",
    "\"660002\",\n",
    "\"619447\",\n",
    "\"621879\",\n",
    "\"619539\",\n",
    "\"619626\",\n",
    "\"619180\",\n",
    "\"628630\",\n",
    "\"627817\",\n",
    "\"633075\",\n",
    "\"629819\",\n",
    "\"627173\",\n",
    "\"640255\",\n",
    "\"645111\",\n",
    "\"646461\",\n",
    "\"636695\",\n",
    "\"644912\",\n",
    "\"655597\",\n",
    "\"653681\",\n",
    "\"651825\",\n",
    "\"654631\",\n",
    "\"651363\",\n",
    "\"656323\",\n",
    "\"665547\",\n",
    "\"659751\",\n",
    "\"662658\",\n",
    "\"662176\",\n",
    "\"619386\",\n",
    "\"619384\",\n",
    "\"619846\",\n",
    "\"623628\",\n",
    "\"619478\",\n",
    "\"626510\",\n",
    "\"634952\",\n",
    "\"631300\",\n",
    "\"635457\",\n",
    "\"630824\",\n",
    "\"643838\",\n",
    "\"645684\",\n",
    "\"636488\",\n",
    "\"642792\",\n",
    "\"636996\",\n",
    "\"652397\",\n",
    "\"648833\",\n",
    "\"648433\",\n",
    "\"653455\",\n",
    "\"647816\",\n",
    "\"664281\",\n",
    "\"664518\",\n",
    "\"664801\",\n",
    "\"662304\",\n",
    "\"664021\"]"
   ]
  }
 ],
 "metadata": {
  "kernelspec": {
   "display_name": "Python 3.10.0 ('.venv': venv)",
   "language": "python",
   "name": "python3"
  },
  "language_info": {
   "codemirror_mode": {
    "name": "ipython",
    "version": 3
   },
   "file_extension": ".py",
   "mimetype": "text/x-python",
   "name": "python",
   "nbconvert_exporter": "python",
   "pygments_lexer": "ipython3",
   "version": "3.10.0"
  },
  "vscode": {
   "interpreter": {
    "hash": "da8c13c39276f1ff4ff53aa12e588860d3000a93f5dfc4cfbf5db1e4ccd5d515"
   }
  }
 },
 "nbformat": 4,
 "nbformat_minor": 4
}
