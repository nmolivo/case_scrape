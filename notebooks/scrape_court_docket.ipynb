{
 "cells": [
  {
   "cell_type": "code",
   "execution_count": 1,
   "metadata": {},
   "outputs": [],
   "source": [
    "import sys"
   ]
  },
  {
   "cell_type": "code",
   "execution_count": 2,
   "metadata": {},
   "outputs": [
    {
     "name": "stdout",
     "output_type": "stream",
     "text": [
      "['/Users/nmolivo/Documents/Repos/case_scrape/notebooks', '/Library/Frameworks/Python.framework/Versions/3.10/lib/python310.zip', '/Library/Frameworks/Python.framework/Versions/3.10/lib/python3.10', '/Library/Frameworks/Python.framework/Versions/3.10/lib/python3.10/lib-dynload', '', '/Users/nmolivo/Documents/Repos/case_scrape/.venv/lib/python3.10/site-packages']\n"
     ]
    }
   ],
   "source": [
    "print(sys.path)"
   ]
  },
  {
   "cell_type": "code",
   "execution_count": 3,
   "metadata": {},
   "outputs": [],
   "source": [
    "sys.path.append(\"/Users/nmolivo/Documents/Repos/case_scrape\")"
   ]
  },
  {
   "cell_type": "code",
   "execution_count": 4,
   "metadata": {},
   "outputs": [],
   "source": [
    "import os\n",
    "import pandas as pd\n",
    "from sqlalchemy import create_engine\n",
    "from sqlalchemy.orm import Session, sessionmaker, scoped_session\n",
    "from chromedriver_py import binary_path\n",
    "from datetime import datetime\n",
    "from selenium import webdriver\n",
    "from selenium.webdriver.chrome.options import Options\n",
    "from selenium.webdriver.chrome.webdriver import WebDriver\n",
    "from selenium.webdriver.common.by import By\n",
    "from selenium.webdriver.common.keys import Keys\n",
    "from selenium.common.exceptions import TimeoutException, WebDriverException#, NoSuchElementException\n",
    "from selenium.webdriver.support.ui import WebDriverWait, Select\n",
    "from selenium.webdriver.support import expected_conditions as EC\n",
    "from sqlalchemy.util.compat import contextmanager\n",
    "import random\n",
    "from typing import Tuple\n"
   ]
  },
  {
   "cell_type": "code",
   "execution_count": 5,
   "metadata": {},
   "outputs": [],
   "source": [
    "from case_scrape.case_scrape import models"
   ]
  },
  {
   "cell_type": "code",
   "execution_count": 6,
   "metadata": {},
   "outputs": [],
   "source": [
    "from case_scrape.case_scrape.models import Base\n",
    "from case_scrape.case_scrape.db.db_config import DBConfig\n",
    "\n",
    "\n",
    "def init_db():\n",
    "    db_config = DBConfig(\n",
    "        password=os.getenv(\"DB_PASSWORD\"),\n",
    "        user=os.getenv(\"DB_USER\")\n",
    "    )\n",
    "    engine = db_config.get_engine()\n",
    "\n",
    "    Base.metadata.create_all(bind=engine)\n",
    "\n",
    "    print(\"Initialized the db\")\n",
    "\n",
    "def delete_db():\n",
    "\n",
    "    engine = DBConfig(\n",
    "        password=os.getenv(\"DB_PASSWORD\"),\n",
    "        user=os.getenv(\"DB_USER\")\n",
    "    ).get_engine()\n",
    "\n",
    "    Base.metadata.drop_all(bind=engine)\n",
    "\n",
    "    print(\"Cleared the db\")"
   ]
  },
  {
   "cell_type": "code",
   "execution_count": 9,
   "metadata": {},
   "outputs": [
    {
     "name": "stdout",
     "output_type": "stream",
     "text": [
      "Cleared the db\n"
     ]
    }
   ],
   "source": [
    "delete_db()"
   ]
  },
  {
   "cell_type": "code",
   "execution_count": 7,
   "metadata": {},
   "outputs": [
    {
     "name": "stdout",
     "output_type": "stream",
     "text": [
      "Initialized the db\n"
     ]
    }
   ],
   "source": [
    "init_db()\n"
   ]
  },
  {
   "cell_type": "code",
   "execution_count": null,
   "metadata": {},
   "outputs": [],
   "source": []
  },
  {
   "cell_type": "code",
   "execution_count": null,
   "metadata": {},
   "outputs": [],
   "source": [
    "driver.close()\n",
    "session.close()"
   ]
  },
  {
   "cell_type": "code",
   "execution_count": null,
   "metadata": {},
   "outputs": [],
   "source": [
    "driver.quit()"
   ]
  },
  {
   "cell_type": "code",
   "execution_count": null,
   "metadata": {},
   "outputs": [],
   "source": [
    "engine = DBConfig(\n",
    "        password=os.getenv(\"DB_PASSWORD\"),\n",
    "        user=os.getenv(\"DB_USER\")\n",
    "    ).get_engine()\n",
    "\n",
    "Session = sessionmaker(bind=engine)\n",
    "session = Session()\n",
    "\n"
   ]
  },
  {
   "cell_type": "code",
   "execution_count": null,
   "metadata": {},
   "outputs": [],
   "source": [
    "from selenium import webdriver\n",
    "from webdriver_manager.chrome import ChromeDriverManager\n",
    "from selenium.webdriver.chrome.service import Service as ChromeService\n",
    "opts = Options()\n",
    "#opts.headless = True"
   ]
  },
  {
   "cell_type": "code",
   "execution_count": null,
   "metadata": {},
   "outputs": [],
   "source": [
    "case_numbers = [str(x) for x in range(655783, 666532)] \n",
    "# [str(x) for x in range(655656, 666532)] + \\\n",
    "# [str(x) for x in range(647313, 655655)] + \\\n",
    "# [str(x) for x in range(635863, 647312)] + \\\n",
    "# [str(x) for x in range(624667, 635860)] + \\\n",
    "# [str(x) for x in range(612912, 624666)] + \\\n",
    "# [str(x) for x in range(602355, 612910)] "
   ]
  },
  {
   "cell_type": "code",
   "execution_count": null,
   "metadata": {},
   "outputs": [],
   "source": [
    "case_no_str"
   ]
  },
  {
   "cell_type": "code",
   "execution_count": null,
   "metadata": {},
   "outputs": [],
   "source": [
    "for case_no_str in case_numbers:\n",
    "    session = Session()\n",
    "    driver = webdriver.Chrome(options = opts, service=ChromeService(ChromeDriverManager().install()))\n",
    "    driver = search_case_number(driver, case_no_str)\n",
    "    data_elems = driver.find_elements(By.XPATH, \"//*[(@id='SheetContentPlaceHolder_ctl00_gvCaseResults')]//*[@href]\")\n",
    "    if len(data_elems) > 0:\n",
    "        for i, elem in enumerate(data_elems):\n",
    "            data_elems = driver.find_elements(By.XPATH, \"//*[(@id='SheetContentPlaceHolder_ctl00_gvCaseResults')]//*[@href]\")\n",
    "            data_elems[i].click()\n",
    "            driver, case_number = fetch_case_summary(session, driver)\n",
    "            driver, case_number = fetch_case_summary_tables(session, driver, case_number)\n",
    "            driver, case_number = fetch_docket_info(session, driver, case_number)\n",
    "            driver.back()\n",
    "            driver = check_tos(driver)\n",
    "            driver, case_number = fetch_cost_info(session, driver, case_number)\n",
    "            driver.back()\n",
    "            driver = check_tos(driver)\n",
    "            driver, case_number = fetch_defendant_info(session, driver, case_number)\n",
    "            driver.back()\n",
    "            driver = check_tos(driver)\n",
    "            driver, case_number = fetch_attorney_info(session, driver, case_number)\n",
    "            driver.back()\n",
    "            driver = check_tos(driver)\n",
    "            driver.back()\n",
    "    else:\n",
    "        try:\n",
    "            driver, case_number = fetch_case_summary(session, driver)\n",
    "        except TimeoutException:\n",
    "            driver.close()\n",
    "            driver.quit()\n",
    "            session.close()\n",
    "            continue\n",
    "        driver, case_number = fetch_case_summary_tables(session, driver, case_number)\n",
    "        driver, case_number = fetch_docket_info(session, driver, case_number)\n",
    "        driver, case_number = fetch_cost_info(session, driver, case_number)\n",
    "        driver, case_number = fetch_defendant_info(session, driver, case_number)\n",
    "        driver, case_number = fetch_attorney_info(session, driver, case_number)\n",
    "        driver.close()\n",
    "        driver.quit()\n",
    "        session.close()\n",
    "\n",
    "    "
   ]
  },
  {
   "cell_type": "code",
   "execution_count": null,
   "metadata": {},
   "outputs": [],
   "source": [
    "from re import I\n",
    "import sqlalchemy\n",
    "\n",
    "\n",
    "# opts = Options()\n",
    "# # opts.headless = True\n",
    "# driver = webdriver.Chrome(ChromeDriverManager().install(), options=opts)#, executable_path=binary_path)\n",
    "\n",
    "def check_tos(driver):\n",
    "    # anticipates terms of service pop up\n",
    "    driver.implicitly_wait(random.randrange(1,5))\n",
    "    if \"TOS\" in driver.current_url:\n",
    "        try:\n",
    "            WebDriverWait(driver, 10).until(EC.element_to_be_clickable((By.ID, \"SheetContentPlaceHolder_btnYes\"))).click()\n",
    "        except WebDriverException:\n",
    "            return driver\n",
    "        driver.implicitly_wait(3)\n",
    "    return driver\n",
    "\n",
    "def search_case_number(driver: WebDriver, case_number: str) -> webdriver.Chrome:\n",
    "    \"\"\"Goes to search page, upon landing on the search page, this function will navigate the agreement and then enter a case \n",
    "    number to search criminal records and click the submit button.\n",
    "    Be sure to already be on the case search page when you run this function.\"\"\"\n",
    "    driver.get(\"https://cpdocket.cp.cuyahogacounty.us/Search.aspx\") \n",
    "    driver = check_tos(driver)\n",
    "    WebDriverWait(driver, 10).until(\n",
    "        EC.element_to_be_clickable((By.XPATH, \"//*[(@id = 'SheetContentPlaceHolder_rbCrCase')]\"))).click()\n",
    "    driver.implicitly_wait(2)\n",
    "    \n",
    "    if len(driver.find_elements(By.ID, \"SheetContentPlaceHolder_btnYes\")) > 0:\n",
    "        WebDriverWait(driver, 10).until(EC.element_to_be_clickable((By.ID, \"SheetContentPlaceHolder_btnYes\"))).click()\n",
    "        WebDriverWait(driver, 10).until(EC.element_to_be_clickable((By.XPATH, \"//*[(@id = 'SheetContentPlaceHolder_rbCrCase')]\"))).click()\n",
    "        driver.implicitly_wait(3)\n",
    "    \n",
    "    # checks if searching elements are there\n",
    "    if len(driver.find_elements(By.ID, \"SheetContentPlaceHolder_ctl00_gvCaseResults\")) == 0:\n",
    "        text_box = driver.find_element(By.XPATH, \"//input[(@type = 'text')]\")\n",
    "        text_box.clear()\n",
    "        text_box.send_keys(case_number)\n",
    "        WebDriverWait(driver, 10).until(EC.element_to_be_clickable((By.ID, \"SheetContentPlaceHolder_criminalCaseSearch_btnSubmitCase\"))).click()\n",
    "        driver.implicitly_wait(random.randint(4,15))\n",
    "\n",
    "    return driver\n",
    "\n",
    "def get_table(case_number: str, header_xpath: str, data_xpath: str) -> pd.DataFrame:\n",
    "    headers = driver.find_elements(By.XPATH, header_xpath)\n",
    "    data = driver.find_elements(By.XPATH, data_xpath)\n",
    "    data_list = [d.text for d in data]\n",
    "    table = {}\n",
    "    for i, h in enumerate(headers):\n",
    "        table[h.text.upper().strip()]=data_list[i::len(headers)]\n",
    "    df = pd.DataFrame(table)\n",
    "    df[\"CASE_NUMBER\"] = case_number\n",
    "    return df\n",
    "\n",
    "def write_pandas_df_to_db(db, df: pd.DataFrame, table_to_write_to: str):\n",
    "    engine = db.get_bind()\n",
    "    df.columns = df.columns.str.replace(\" \", \"_\")\n",
    "    df.columns = df.columns.str.lower()\n",
    "    df.columns = df.columns.str.replace(\"/\",\"_\")\n",
    "    df.columns = df.columns.str.replace(\".\", \"\")\n",
    "    df.to_sql(table_to_write_to, engine, if_exists=\"append\", index=False)\n",
    "\n",
    "def fetch_case_summary(db, driver) -> str:\n",
    "    \"\"\"commits returns case_number\"\"\"\n",
    "    WebDriverWait(driver,10).until(EC.element_to_be_clickable((By.XPATH, \"//*[(@id = 'SheetContentPlaceHolder_caseSummary_lblCaseNumber')]\")))\n",
    "    case_number = driver.find_element(By.XPATH, \"//*[(@id = 'SheetContentPlaceHolder_caseSummary_lblCaseNumber')]\").text\n",
    "    case_defendant=models.CaseDefendant(\n",
    "        case_number= case_number,\n",
    "        scrape_time=datetime.now(),\n",
    "        status=driver.find_element(By.XPATH, \"//*[(@id = 'SheetContentPlaceHolder_caseSummary_lblCaseStatus')]\").text,\n",
    "        judge_name=driver.find_element(By.XPATH, \"//*[(@id = 'SheetContentPlaceHolder_caseSummary_lblJudgeName')]\").text,\n",
    "        next_event=driver.find_element(By.XPATH, \"//*[(@id = 'SheetContentPlaceHolder_caseSummary_lblNextEvent')]\").text,\n",
    "        arrested_date=driver.find_element(By.XPATH, \"//*[(@id = 'SheetContentPlaceHolder_caseSummary_lblArrested')]\").text,\n",
    "        arresting_agency=driver.find_element(By.XPATH, \"//*[(@id = 'SheetContentPlaceHolder_caseSummary_lblArrestingAgency')]\").text,\n",
    "        arresting_agency_report=driver.find_element(By.XPATH, \"//*[(@id = 'SheetContentPlaceHolder_caseSummary_lblArestingAgencyReport')]\").text,\n",
    "        court_of_appeals_case=driver.find_element(By.XPATH, \"//*[(@id = 'SheetContentPlaceHolder_caseSummary_lblCOACase')]\").text,\n",
    "        date_scraped=datetime.now(),\n",
    "        defendant_id=driver.find_element(By.XPATH, \"//*[(@id = 'SheetContentPlaceHolder_caseSummary_lblNumber')]\").text,\n",
    "        name=driver.find_element(By.XPATH, \"//*[(@id = 'SheetContentPlaceHolder_caseSummary_lblName')]\").text,\n",
    "        defendant_status=driver.find_element(By.XPATH, \"//*[(@id = 'SheetContentPlaceHolder_caseSummary_defStatus_lblDefStatus')]\").text,\n",
    "        date_of_birth=driver.find_element(By.XPATH, \"//*[(@id = 'SheetContentPlaceHolder_caseSummary_lblDOB')]\").text,\n",
    "        race=driver.find_element(By.XPATH, \"//*[(@id = 'SheetContentPlaceHolder_caseSummary_lblRace')]\").text,\n",
    "        sex=driver.find_element(By.XPATH, \"//*[(@id = 'SheetContentPlaceHolder_caseSummary_lblSex')]\").text,\n",
    "        other_cases=driver.find_element(By.XPATH, \"//*[(@id = 'SheetContentPlaceHolder_caseSummary_otherCases_lblOtherCases')]\").text,\n",
    "        co_defendants=driver.find_element(By.XPATH, \"//*[(@id = 'SheetContentPlaceHolder_caseSummary_otherDefs_lblCoDefs')]\").text\n",
    "    ) \n",
    "    db.merge(case_defendant)  \n",
    "    db.commit()\n",
    "    return driver, case_number\n",
    "\n",
    "def fetch_case_summary_tables(db, driver, case_number) -> Tuple[WebDriver, str]:\n",
    "    \"\"\"gets info from case summary page\"\"\"\n",
    "    #additional tables\n",
    "    charge_df = get_table(case_number, \n",
    "                        header_xpath=\"//table[(@id = 'SheetContentPlaceHolder_caseCharges_gvCharges')]//th\", \n",
    "                        data_xpath=\"//table[(@id = 'SheetContentPlaceHolder_caseCharges_gvCharges')]//td\")\n",
    "    write_pandas_df_to_db(db, charge_df, \"charge\")\n",
    "    \n",
    "    bond_df = get_table(case_number, \n",
    "                        header_xpath=\"//table[(@id = 'SheetContentPlaceHolder_caseBondInfo_gvBonds')]//th\", \n",
    "                        data_xpath=\"//table[(@id = 'SheetContentPlaceHolder_caseBondInfo_gvBonds')]//td\")\n",
    "    write_pandas_df_to_db(db, bond_df, \"bond\")\n",
    "    \n",
    "    action_df = get_table(case_number,\n",
    "                        header_xpath=\"//table[(@id = 'SheetContentPlaceHolder_caseActions_gvActions')]//th\",\n",
    "                        data_xpath=\"//table[(@id = 'SheetContentPlaceHolder_caseActions_gvActions')]//td\")\n",
    "    write_pandas_df_to_db(db, action_df, \"action\")\n",
    "    return driver, case_number\n",
    "\n",
    "\n",
    "def fetch_docket_info(db, driver, case_number):\n",
    "    \"\"\"from case summary page, clicks docket, downloads information\"\"\"\n",
    "    WebDriverWait(driver, 10).until(EC.element_to_be_clickable((By.ID, \"SheetContentPlaceHolder_caseHeader_lbDocket\"))).click()\n",
    "    driver = check_tos(driver)\n",
    "    docket_table = get_table(case_number,\n",
    "    header_xpath=\"//table[(@id = 'SheetContentPlaceHolder_caseDocket_gvDocketInformation')]//th\",\n",
    "    data_xpath=\"//table[(@id = 'SheetContentPlaceHolder_caseDocket_gvDocketInformation')]//td\")\n",
    "    docket_table.drop('VIEW IMAGE', axis=1, inplace=True)\n",
    "    write_pandas_df_to_db(db, docket_table, \"docket\")\n",
    "    return driver, case_number\n",
    "\n",
    "def fetch_cost_info(db, driver, case_number):\n",
    "    WebDriverWait(driver, 2).until(EC.element_to_be_clickable((By.ID,\"SheetContentPlaceHolder_caseHeader_lbCosts\"))).click()\n",
    "    # anticipates terms of service\n",
    "    driver = check_tos(driver)\n",
    "    #SheetContentPlaceHolder_caseCosts_gvCosts\n",
    "    cost_table = get_table(case_number, header_xpath=\"//table[(@id = 'SheetContentPlaceHolder_caseCosts_gvCosts')]//th\", data_xpath=\"//table[(@id = 'SheetContentPlaceHolder_caseCosts_gvCosts')]//td\")\n",
    "    cost_table[cost_table[\"ACCOUNT\"].str.contains(\"TOTAL\") == False]\n",
    "    write_pandas_df_to_db(db, cost_table, \"cost\")\n",
    "    return driver, case_number\n",
    "        \n",
    "def fetch_defendant_info(db, driver, case_number):\n",
    "    WebDriverWait(driver, 2).until(EC.element_to_be_clickable((By.ID,\"SheetContentPlaceHolder_caseHeader_lbDefendant\"))).click()\n",
    "    driver = check_tos(driver)\n",
    "    defendent = models.Defendant(\n",
    "        name=driver.find_element(By.XPATH, \"//*[(@id = 'SheetContentPlaceHolder_defGeneral_lblName')]\").text,\n",
    "        id=driver.find_element(By.XPATH, \"//*[(@id = 'SheetContentPlaceHolder_defGeneral_lblDefID')]\").text,\n",
    "        status=driver.find_element(By.XPATH, \"//*[(@id = 'SheetContentPlaceHolder_defGeneral_defStatus_lblDefStatus')]\").text,\n",
    "        marital_status=driver.find_element(By.XPATH, \"//*[(@id = 'SheetContentPlaceHolder_defGeneral_lblMaritalStatus')]\").text,\n",
    "        birth_city=driver.find_element(By.XPATH, \"//*[(@id = 'SheetContentPlaceHolder_defGeneral_lblBirthCity')]\").text,\n",
    "        birth_state=driver.find_element(By.XPATH, \"//*[(@id = 'SheetContentPlaceHolder_defGeneral_lblBirthState')]\").text,\n",
    "        citizenship=driver.find_element(By.XPATH, \"//*[(@id = 'SheetContentPlaceHolder_defGeneral_lblCitizenship')]\").text,\n",
    "        address_1=driver.find_element(By.XPATH, \"//*[(@id = 'SheetContentPlaceHolder_defAddress_lblAddress1')]\").text,\n",
    "        address_2=driver.find_element(By.XPATH, \"//*[(@id = 'SheetContentPlaceHolder_defAddress_lblAddress2')]\").text,\n",
    "        # address_3=driver.find_elements(By.XPATH, \"//*[(@id = 'SheetContentPlaceHolder_defAddress_lblAddress3')]\").text,\n",
    "        city_state_zip=driver.find_element(By.XPATH, \"//*[(@id = 'SheetContentPlaceHolder_defAddress_lblCSZ')]\").text,\n",
    "        race=driver.find_element(By.XPATH, \"//*[(@id = 'SheetContentPlaceHolder_defIDChar_lblRace')]\").text,\n",
    "        height=driver.find_element(By.XPATH, \"//*[(@id = 'SheetContentPlaceHolder_defIDChar_lblHeight')]\").text,\n",
    "        sex=driver.find_element(By.XPATH, \"//*[(@id = 'SheetContentPlaceHolder_defIDChar_lblSex')]\").text,\n",
    "        weight=driver.find_element(By.XPATH, \"//*[(@id = 'SheetContentPlaceHolder_defIDChar_lblWeight')]\").text,\n",
    "        age=driver.find_element(By.XPATH, \"//*[(@id = 'SheetContentPlaceHolder_defIDChar_lblAge')]\").text,\n",
    "        eyes=driver.find_element(By.XPATH, \"//*[(@id = 'SheetContentPlaceHolder_defIDChar_lblEyes')]\").text,\n",
    "        date_of_birth=driver.find_element(By.XPATH, \"//*[(@id = 'SheetContentPlaceHolder_defIDChar_lblDOB')]\").text,\n",
    "        hair=driver.find_element(By.XPATH, \"//*[(@id = 'SheetContentPlaceHolder_defIDChar_lblHair')]\").text,\n",
    "        )\n",
    "    # anticipates terms of service\n",
    "    db.add(defendent)\n",
    "    db.commit()\n",
    "    alias_table = get_table(case_number, header_xpath=\"//table[(@id = 'SheetContentPlaceHolder_defAlias_gvAlias')]//th\", data_xpath=\"//table[(@id = 'SheetContentPlaceHolder_defAlias_gvAlias')]//td\")\n",
    "    alias_table[\"defendant_id\"] = defendent.defendant_id\n",
    "    write_pandas_df_to_db(db, alias_table, \"alias\")\n",
    "    return driver, case_number\n",
    "\n",
    "\n",
    "def get_attorney_table(db, driver, case_number, table_data):\n",
    "    data = driver.find_elements(By.XPATH, table_data)\n",
    "    data_list = [d.text for d in data]\n",
    "    atts = [x for x in list(set(data_list)) if x.count(\"Address/Phone\") ==1 and x.count(\"Attorney Name\") ==1]\n",
    "    attorney_names = [x.split(\"\\nAddress/Phone:\")[0].replace(\"Attorney Name:\", \"\").strip() for x in atts]\n",
    "    attorney_address = [x.split(\"\\nAddress/Phone:\")[1].split(\"\\nPh:\")[0].strip() for x in atts]\n",
    "    attorney_phone = [x.split(\"\\nAddress/Phone:\")[1].split(\"\\nPh:\")[1].strip() for x in atts]\n",
    "    for n, a, p in zip(attorney_names, attorney_address, attorney_phone):\n",
    "        attorney = models.Attorney(\n",
    "            case_number=case_number,\n",
    "            name=n,\n",
    "            address=a,\n",
    "            phone=p\n",
    "        )\n",
    "        db.add(attorney)\n",
    "    db.commit()\n",
    "    return driver\n",
    "\n",
    "def fetch_attorney_info(db, driver, case_number):\n",
    "    WebDriverWait(driver, 2).until(EC.element_to_be_clickable((By.ID,\"SheetContentPlaceHolder_caseHeader_lbAttorney\"))).click()\n",
    "    driver = check_tos(driver)\n",
    "    driver = get_attorney_table(db, driver, case_number, \"//table[(@id='SheetContentPlaceHolder_attyInfo_gvAttyInfo')]//*\")\n",
    "    return driver, case_number\n"
   ]
  },
  {
   "cell_type": "code",
   "execution_count": null,
   "metadata": {},
   "outputs": [],
   "source": []
  }
 ],
 "metadata": {
  "kernelspec": {
   "display_name": "Python 3.10.0 ('.venv': venv)",
   "language": "python",
   "name": "python3"
  },
  "language_info": {
   "codemirror_mode": {
    "name": "ipython",
    "version": 3
   },
   "file_extension": ".py",
   "mimetype": "text/x-python",
   "name": "python",
   "nbconvert_exporter": "python",
   "pygments_lexer": "ipython3",
   "version": "3.10.0"
  },
  "vscode": {
   "interpreter": {
    "hash": "da8c13c39276f1ff4ff53aa12e588860d3000a93f5dfc4cfbf5db1e4ccd5d515"
   }
  }
 },
 "nbformat": 4,
 "nbformat_minor": 4
}
