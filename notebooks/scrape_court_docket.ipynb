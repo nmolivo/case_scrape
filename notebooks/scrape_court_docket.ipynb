{
 "cells": [
  {
   "cell_type": "code",
   "execution_count": 1,
   "metadata": {},
   "outputs": [],
   "source": [
    "import sys"
   ]
  },
  {
   "cell_type": "code",
   "execution_count": 2,
   "metadata": {},
   "outputs": [
    {
     "name": "stdout",
     "output_type": "stream",
     "text": [
      "['/Users/nmolivo/Documents/Repos/case_scrape/notebooks', '/Library/Frameworks/Python.framework/Versions/3.10/lib/python310.zip', '/Library/Frameworks/Python.framework/Versions/3.10/lib/python3.10', '/Library/Frameworks/Python.framework/Versions/3.10/lib/python3.10/lib-dynload', '', '/Users/nmolivo/Documents/Repos/case_scrape/.venv/lib/python3.10/site-packages']\n"
     ]
    }
   ],
   "source": [
    "print(sys.path)"
   ]
  },
  {
   "cell_type": "code",
   "execution_count": 3,
   "metadata": {},
   "outputs": [],
   "source": [
    "sys.path.append(\"/Users/nmolivo/Documents/Repos/case_scrape\")"
   ]
  },
  {
   "cell_type": "code",
   "execution_count": 4,
   "metadata": {},
   "outputs": [],
   "source": [
    "import os\n",
    "import pandas as pd\n",
    "from sqlalchemy import create_engine\n",
    "from sqlalchemy.orm import Session, sessionmaker, scoped_session\n",
    "from chromedriver_py import binary_path\n",
    "from datetime import datetime\n",
    "from selenium import webdriver\n",
    "from selenium.webdriver.chrome.options import Options\n",
    "from selenium.webdriver.chrome.webdriver import WebDriver\n",
    "from selenium.webdriver.common.by import By\n",
    "from selenium.webdriver.common.keys import Keys\n",
    "from selenium.common.exceptions import TimeoutException, WebDriverException#, NoSuchElementException\n",
    "from selenium.webdriver.support.ui import WebDriverWait, Select\n",
    "from selenium.webdriver.support import expected_conditions as EC\n",
    "from sqlalchemy.util.compat import contextmanager\n",
    "import random\n",
    "from typing import Tuple\n"
   ]
  },
  {
   "cell_type": "code",
   "execution_count": 5,
   "metadata": {},
   "outputs": [],
   "source": [
    "from case_scrape.case_scrape import models"
   ]
  },
  {
   "cell_type": "code",
   "execution_count": 6,
   "metadata": {},
   "outputs": [],
   "source": [
    "from case_scrape.case_scrape.models import Base\n",
    "from case_scrape.case_scrape.db.db_config import DBConfig\n",
    "\n",
    "\n",
    "def init_db():\n",
    "    db_config = DBConfig(\n",
    "        password=os.getenv(\"DB_PASSWORD\"),\n",
    "        user=os.getenv(\"DB_USER\")\n",
    "    )\n",
    "    engine = db_config.get_engine()\n",
    "\n",
    "    Base.metadata.create_all(bind=engine)\n",
    "\n",
    "    print(\"Initialized the db\")\n",
    "\n",
    "def delete_db():\n",
    "\n",
    "    engine = DBConfig(\n",
    "        password=os.getenv(\"DB_PASSWORD\"),\n",
    "        user=os.getenv(\"DB_USER\")\n",
    "    ).get_engine()\n",
    "\n",
    "    Base.metadata.drop_all(bind=engine)\n",
    "\n",
    "    print(\"Cleared the db\")"
   ]
  },
  {
   "cell_type": "code",
   "execution_count": 7,
   "metadata": {},
   "outputs": [
    {
     "name": "stdout",
     "output_type": "stream",
     "text": [
      "Cleared the db\n"
     ]
    }
   ],
   "source": [
    "delete_db()"
   ]
  },
  {
   "cell_type": "code",
   "execution_count": 8,
   "metadata": {},
   "outputs": [
    {
     "ename": "ProgrammingError",
     "evalue": "(psycopg2.errors.InvalidForeignKey) there is no unique constraint matching given keys for referenced table \"case_defendant\"\n\n[SQL: ALTER TABLE defendant ADD FOREIGN KEY(id) REFERENCES case_defendant (defendant_id)]\n(Background on this error at: https://sqlalche.me/e/14/f405)",
     "output_type": "error",
     "traceback": [
      "\u001b[0;31m---------------------------------------------------------------------------\u001b[0m",
      "\u001b[0;31mInvalidForeignKey\u001b[0m                         Traceback (most recent call last)",
      "File \u001b[0;32m~/Documents/Repos/case_scrape/.venv/lib/python3.10/site-packages/sqlalchemy/engine/base.py:1900\u001b[0m, in \u001b[0;36mConnection._execute_context\u001b[0;34m(self, dialect, constructor, statement, parameters, execution_options, *args, **kw)\u001b[0m\n\u001b[1;32m   1899\u001b[0m     \u001b[39mif\u001b[39;00m \u001b[39mnot\u001b[39;00m evt_handled:\n\u001b[0;32m-> 1900\u001b[0m         \u001b[39mself\u001b[39;49m\u001b[39m.\u001b[39;49mdialect\u001b[39m.\u001b[39;49mdo_execute(\n\u001b[1;32m   1901\u001b[0m             cursor, statement, parameters, context\n\u001b[1;32m   1902\u001b[0m         )\n\u001b[1;32m   1904\u001b[0m \u001b[39mif\u001b[39;00m \u001b[39mself\u001b[39m\u001b[39m.\u001b[39m_has_events \u001b[39mor\u001b[39;00m \u001b[39mself\u001b[39m\u001b[39m.\u001b[39mengine\u001b[39m.\u001b[39m_has_events:\n",
      "File \u001b[0;32m~/Documents/Repos/case_scrape/.venv/lib/python3.10/site-packages/sqlalchemy/engine/default.py:732\u001b[0m, in \u001b[0;36mDefaultDialect.do_execute\u001b[0;34m(self, cursor, statement, parameters, context)\u001b[0m\n\u001b[1;32m    731\u001b[0m \u001b[39mdef\u001b[39;00m \u001b[39mdo_execute\u001b[39m(\u001b[39mself\u001b[39m, cursor, statement, parameters, context\u001b[39m=\u001b[39m\u001b[39mNone\u001b[39;00m):\n\u001b[0;32m--> 732\u001b[0m     cursor\u001b[39m.\u001b[39;49mexecute(statement, parameters)\n",
      "\u001b[0;31mInvalidForeignKey\u001b[0m: there is no unique constraint matching given keys for referenced table \"case_defendant\"\n",
      "\nThe above exception was the direct cause of the following exception:\n",
      "\u001b[0;31mProgrammingError\u001b[0m                          Traceback (most recent call last)",
      "Cell \u001b[0;32mIn [8], line 1\u001b[0m\n\u001b[0;32m----> 1\u001b[0m init_db()\n",
      "Cell \u001b[0;32mIn [6], line 12\u001b[0m, in \u001b[0;36minit_db\u001b[0;34m()\u001b[0m\n\u001b[1;32m      6\u001b[0m db_config \u001b[39m=\u001b[39m DBConfig(\n\u001b[1;32m      7\u001b[0m     password\u001b[39m=\u001b[39mos\u001b[39m.\u001b[39mgetenv(\u001b[39m\"\u001b[39m\u001b[39mDB_PASSWORD\u001b[39m\u001b[39m\"\u001b[39m),\n\u001b[1;32m      8\u001b[0m     user\u001b[39m=\u001b[39mos\u001b[39m.\u001b[39mgetenv(\u001b[39m\"\u001b[39m\u001b[39mDB_USER\u001b[39m\u001b[39m\"\u001b[39m)\n\u001b[1;32m      9\u001b[0m )\n\u001b[1;32m     10\u001b[0m engine \u001b[39m=\u001b[39m db_config\u001b[39m.\u001b[39mget_engine()\n\u001b[0;32m---> 12\u001b[0m Base\u001b[39m.\u001b[39;49mmetadata\u001b[39m.\u001b[39;49mcreate_all(bind\u001b[39m=\u001b[39;49mengine)\n\u001b[1;32m     14\u001b[0m \u001b[39mprint\u001b[39m(\u001b[39m\"\u001b[39m\u001b[39mInitialized the db\u001b[39m\u001b[39m\"\u001b[39m)\n",
      "File \u001b[0;32m~/Documents/Repos/case_scrape/.venv/lib/python3.10/site-packages/sqlalchemy/sql/schema.py:4917\u001b[0m, in \u001b[0;36mMetaData.create_all\u001b[0;34m(self, bind, tables, checkfirst)\u001b[0m\n\u001b[1;32m   4915\u001b[0m \u001b[39mif\u001b[39;00m bind \u001b[39mis\u001b[39;00m \u001b[39mNone\u001b[39;00m:\n\u001b[1;32m   4916\u001b[0m     bind \u001b[39m=\u001b[39m _bind_or_error(\u001b[39mself\u001b[39m)\n\u001b[0;32m-> 4917\u001b[0m bind\u001b[39m.\u001b[39;49m_run_ddl_visitor(\n\u001b[1;32m   4918\u001b[0m     ddl\u001b[39m.\u001b[39;49mSchemaGenerator, \u001b[39mself\u001b[39;49m, checkfirst\u001b[39m=\u001b[39;49mcheckfirst, tables\u001b[39m=\u001b[39;49mtables\n\u001b[1;32m   4919\u001b[0m )\n",
      "File \u001b[0;32m~/Documents/Repos/case_scrape/.venv/lib/python3.10/site-packages/sqlalchemy/engine/base.py:3228\u001b[0m, in \u001b[0;36mEngine._run_ddl_visitor\u001b[0;34m(self, visitorcallable, element, **kwargs)\u001b[0m\n\u001b[1;32m   3226\u001b[0m \u001b[39mdef\u001b[39;00m \u001b[39m_run_ddl_visitor\u001b[39m(\u001b[39mself\u001b[39m, visitorcallable, element, \u001b[39m*\u001b[39m\u001b[39m*\u001b[39mkwargs):\n\u001b[1;32m   3227\u001b[0m     \u001b[39mwith\u001b[39;00m \u001b[39mself\u001b[39m\u001b[39m.\u001b[39mbegin() \u001b[39mas\u001b[39;00m conn:\n\u001b[0;32m-> 3228\u001b[0m         conn\u001b[39m.\u001b[39;49m_run_ddl_visitor(visitorcallable, element, \u001b[39m*\u001b[39;49m\u001b[39m*\u001b[39;49mkwargs)\n",
      "File \u001b[0;32m~/Documents/Repos/case_scrape/.venv/lib/python3.10/site-packages/sqlalchemy/engine/base.py:2211\u001b[0m, in \u001b[0;36mConnection._run_ddl_visitor\u001b[0;34m(self, visitorcallable, element, **kwargs)\u001b[0m\n\u001b[1;32m   2204\u001b[0m \u001b[39mdef\u001b[39;00m \u001b[39m_run_ddl_visitor\u001b[39m(\u001b[39mself\u001b[39m, visitorcallable, element, \u001b[39m*\u001b[39m\u001b[39m*\u001b[39mkwargs):\n\u001b[1;32m   2205\u001b[0m     \u001b[39m\"\"\"run a DDL visitor.\u001b[39;00m\n\u001b[1;32m   2206\u001b[0m \n\u001b[1;32m   2207\u001b[0m \u001b[39m    This method is only here so that the MockConnection can change the\u001b[39;00m\n\u001b[1;32m   2208\u001b[0m \u001b[39m    options given to the visitor so that \"checkfirst\" is skipped.\u001b[39;00m\n\u001b[1;32m   2209\u001b[0m \n\u001b[1;32m   2210\u001b[0m \u001b[39m    \"\"\"\u001b[39;00m\n\u001b[0;32m-> 2211\u001b[0m     visitorcallable(\u001b[39mself\u001b[39;49m\u001b[39m.\u001b[39;49mdialect, \u001b[39mself\u001b[39;49m, \u001b[39m*\u001b[39;49m\u001b[39m*\u001b[39;49mkwargs)\u001b[39m.\u001b[39;49mtraverse_single(element)\n",
      "File \u001b[0;32m~/Documents/Repos/case_scrape/.venv/lib/python3.10/site-packages/sqlalchemy/sql/visitors.py:524\u001b[0m, in \u001b[0;36mExternalTraversal.traverse_single\u001b[0;34m(self, obj, **kw)\u001b[0m\n\u001b[1;32m    522\u001b[0m meth \u001b[39m=\u001b[39m \u001b[39mgetattr\u001b[39m(v, \u001b[39m\"\u001b[39m\u001b[39mvisit_\u001b[39m\u001b[39m%s\u001b[39;00m\u001b[39m\"\u001b[39m \u001b[39m%\u001b[39m obj\u001b[39m.\u001b[39m__visit_name__, \u001b[39mNone\u001b[39;00m)\n\u001b[1;32m    523\u001b[0m \u001b[39mif\u001b[39;00m meth:\n\u001b[0;32m--> 524\u001b[0m     \u001b[39mreturn\u001b[39;00m meth(obj, \u001b[39m*\u001b[39;49m\u001b[39m*\u001b[39;49mkw)\n",
      "File \u001b[0;32m~/Documents/Repos/case_scrape/.venv/lib/python3.10/site-packages/sqlalchemy/sql/ddl.py:859\u001b[0m, in \u001b[0;36mSchemaGenerator.visit_metadata\u001b[0;34m(self, metadata)\u001b[0m\n\u001b[1;32m    857\u001b[0m     \u001b[39melse\u001b[39;00m:\n\u001b[1;32m    858\u001b[0m         \u001b[39mfor\u001b[39;00m fkc \u001b[39min\u001b[39;00m fkcs:\n\u001b[0;32m--> 859\u001b[0m             \u001b[39mself\u001b[39;49m\u001b[39m.\u001b[39;49mtraverse_single(fkc)\n\u001b[1;32m    861\u001b[0m metadata\u001b[39m.\u001b[39mdispatch\u001b[39m.\u001b[39mafter_create(\n\u001b[1;32m    862\u001b[0m     metadata,\n\u001b[1;32m    863\u001b[0m     \u001b[39mself\u001b[39m\u001b[39m.\u001b[39mconnection,\n\u001b[0;32m   (...)\u001b[0m\n\u001b[1;32m    866\u001b[0m     _ddl_runner\u001b[39m=\u001b[39m\u001b[39mself\u001b[39m,\n\u001b[1;32m    867\u001b[0m )\n",
      "File \u001b[0;32m~/Documents/Repos/case_scrape/.venv/lib/python3.10/site-packages/sqlalchemy/sql/visitors.py:524\u001b[0m, in \u001b[0;36mExternalTraversal.traverse_single\u001b[0;34m(self, obj, **kw)\u001b[0m\n\u001b[1;32m    522\u001b[0m meth \u001b[39m=\u001b[39m \u001b[39mgetattr\u001b[39m(v, \u001b[39m\"\u001b[39m\u001b[39mvisit_\u001b[39m\u001b[39m%s\u001b[39;00m\u001b[39m\"\u001b[39m \u001b[39m%\u001b[39m obj\u001b[39m.\u001b[39m__visit_name__, \u001b[39mNone\u001b[39;00m)\n\u001b[1;32m    523\u001b[0m \u001b[39mif\u001b[39;00m meth:\n\u001b[0;32m--> 524\u001b[0m     \u001b[39mreturn\u001b[39;00m meth(obj, \u001b[39m*\u001b[39;49m\u001b[39m*\u001b[39;49mkw)\n",
      "File \u001b[0;32m~/Documents/Repos/case_scrape/.venv/lib/python3.10/site-packages/sqlalchemy/sql/ddl.py:928\u001b[0m, in \u001b[0;36mSchemaGenerator.visit_foreign_key_constraint\u001b[0;34m(self, constraint)\u001b[0m\n\u001b[1;32m    926\u001b[0m \u001b[39mif\u001b[39;00m \u001b[39mnot\u001b[39;00m \u001b[39mself\u001b[39m\u001b[39m.\u001b[39mdialect\u001b[39m.\u001b[39msupports_alter:\n\u001b[1;32m    927\u001b[0m     \u001b[39mreturn\u001b[39;00m\n\u001b[0;32m--> 928\u001b[0m \u001b[39mself\u001b[39;49m\u001b[39m.\u001b[39;49mconnection\u001b[39m.\u001b[39;49mexecute(AddConstraint(constraint))\n",
      "File \u001b[0;32m~/Documents/Repos/case_scrape/.venv/lib/python3.10/site-packages/sqlalchemy/engine/base.py:1380\u001b[0m, in \u001b[0;36mConnection.execute\u001b[0;34m(self, statement, *multiparams, **params)\u001b[0m\n\u001b[1;32m   1376\u001b[0m     util\u001b[39m.\u001b[39mraise_(\n\u001b[1;32m   1377\u001b[0m         exc\u001b[39m.\u001b[39mObjectNotExecutableError(statement), replace_context\u001b[39m=\u001b[39merr\n\u001b[1;32m   1378\u001b[0m     )\n\u001b[1;32m   1379\u001b[0m \u001b[39melse\u001b[39;00m:\n\u001b[0;32m-> 1380\u001b[0m     \u001b[39mreturn\u001b[39;00m meth(\u001b[39mself\u001b[39;49m, multiparams, params, _EMPTY_EXECUTION_OPTS)\n",
      "File \u001b[0;32m~/Documents/Repos/case_scrape/.venv/lib/python3.10/site-packages/sqlalchemy/sql/ddl.py:80\u001b[0m, in \u001b[0;36mDDLElement._execute_on_connection\u001b[0;34m(self, connection, multiparams, params, execution_options)\u001b[0m\n\u001b[1;32m     77\u001b[0m \u001b[39mdef\u001b[39;00m \u001b[39m_execute_on_connection\u001b[39m(\n\u001b[1;32m     78\u001b[0m     \u001b[39mself\u001b[39m, connection, multiparams, params, execution_options\n\u001b[1;32m     79\u001b[0m ):\n\u001b[0;32m---> 80\u001b[0m     \u001b[39mreturn\u001b[39;00m connection\u001b[39m.\u001b[39;49m_execute_ddl(\n\u001b[1;32m     81\u001b[0m         \u001b[39mself\u001b[39;49m, multiparams, params, execution_options\n\u001b[1;32m     82\u001b[0m     )\n",
      "File \u001b[0;32m~/Documents/Repos/case_scrape/.venv/lib/python3.10/site-packages/sqlalchemy/engine/base.py:1472\u001b[0m, in \u001b[0;36mConnection._execute_ddl\u001b[0;34m(self, ddl, multiparams, params, execution_options)\u001b[0m\n\u001b[1;32m   1467\u001b[0m dialect \u001b[39m=\u001b[39m \u001b[39mself\u001b[39m\u001b[39m.\u001b[39mdialect\n\u001b[1;32m   1469\u001b[0m compiled \u001b[39m=\u001b[39m ddl\u001b[39m.\u001b[39mcompile(\n\u001b[1;32m   1470\u001b[0m     dialect\u001b[39m=\u001b[39mdialect, schema_translate_map\u001b[39m=\u001b[39mschema_translate_map\n\u001b[1;32m   1471\u001b[0m )\n\u001b[0;32m-> 1472\u001b[0m ret \u001b[39m=\u001b[39m \u001b[39mself\u001b[39;49m\u001b[39m.\u001b[39;49m_execute_context(\n\u001b[1;32m   1473\u001b[0m     dialect,\n\u001b[1;32m   1474\u001b[0m     dialect\u001b[39m.\u001b[39;49mexecution_ctx_cls\u001b[39m.\u001b[39;49m_init_ddl,\n\u001b[1;32m   1475\u001b[0m     compiled,\n\u001b[1;32m   1476\u001b[0m     \u001b[39mNone\u001b[39;49;00m,\n\u001b[1;32m   1477\u001b[0m     execution_options,\n\u001b[1;32m   1478\u001b[0m     compiled,\n\u001b[1;32m   1479\u001b[0m )\n\u001b[1;32m   1480\u001b[0m \u001b[39mif\u001b[39;00m \u001b[39mself\u001b[39m\u001b[39m.\u001b[39m_has_events \u001b[39mor\u001b[39;00m \u001b[39mself\u001b[39m\u001b[39m.\u001b[39mengine\u001b[39m.\u001b[39m_has_events:\n\u001b[1;32m   1481\u001b[0m     \u001b[39mself\u001b[39m\u001b[39m.\u001b[39mdispatch\u001b[39m.\u001b[39mafter_execute(\n\u001b[1;32m   1482\u001b[0m         \u001b[39mself\u001b[39m,\n\u001b[1;32m   1483\u001b[0m         ddl,\n\u001b[0;32m   (...)\u001b[0m\n\u001b[1;32m   1487\u001b[0m         ret,\n\u001b[1;32m   1488\u001b[0m     )\n",
      "File \u001b[0;32m~/Documents/Repos/case_scrape/.venv/lib/python3.10/site-packages/sqlalchemy/engine/base.py:1943\u001b[0m, in \u001b[0;36mConnection._execute_context\u001b[0;34m(self, dialect, constructor, statement, parameters, execution_options, *args, **kw)\u001b[0m\n\u001b[1;32m   1940\u001b[0m             branched\u001b[39m.\u001b[39mclose()\n\u001b[1;32m   1942\u001b[0m \u001b[39mexcept\u001b[39;00m \u001b[39mBaseException\u001b[39;00m \u001b[39mas\u001b[39;00m e:\n\u001b[0;32m-> 1943\u001b[0m     \u001b[39mself\u001b[39;49m\u001b[39m.\u001b[39;49m_handle_dbapi_exception(\n\u001b[1;32m   1944\u001b[0m         e, statement, parameters, cursor, context\n\u001b[1;32m   1945\u001b[0m     )\n\u001b[1;32m   1947\u001b[0m \u001b[39mreturn\u001b[39;00m result\n",
      "File \u001b[0;32m~/Documents/Repos/case_scrape/.venv/lib/python3.10/site-packages/sqlalchemy/engine/base.py:2124\u001b[0m, in \u001b[0;36mConnection._handle_dbapi_exception\u001b[0;34m(self, e, statement, parameters, cursor, context)\u001b[0m\n\u001b[1;32m   2122\u001b[0m     util\u001b[39m.\u001b[39mraise_(newraise, with_traceback\u001b[39m=\u001b[39mexc_info[\u001b[39m2\u001b[39m], from_\u001b[39m=\u001b[39me)\n\u001b[1;32m   2123\u001b[0m \u001b[39melif\u001b[39;00m should_wrap:\n\u001b[0;32m-> 2124\u001b[0m     util\u001b[39m.\u001b[39;49mraise_(\n\u001b[1;32m   2125\u001b[0m         sqlalchemy_exception, with_traceback\u001b[39m=\u001b[39;49mexc_info[\u001b[39m2\u001b[39;49m], from_\u001b[39m=\u001b[39;49me\n\u001b[1;32m   2126\u001b[0m     )\n\u001b[1;32m   2127\u001b[0m \u001b[39melse\u001b[39;00m:\n\u001b[1;32m   2128\u001b[0m     util\u001b[39m.\u001b[39mraise_(exc_info[\u001b[39m1\u001b[39m], with_traceback\u001b[39m=\u001b[39mexc_info[\u001b[39m2\u001b[39m])\n",
      "File \u001b[0;32m~/Documents/Repos/case_scrape/.venv/lib/python3.10/site-packages/sqlalchemy/util/compat.py:208\u001b[0m, in \u001b[0;36mraise_\u001b[0;34m(***failed resolving arguments***)\u001b[0m\n\u001b[1;32m    205\u001b[0m     exception\u001b[39m.\u001b[39m__cause__ \u001b[39m=\u001b[39m replace_context\n\u001b[1;32m    207\u001b[0m \u001b[39mtry\u001b[39;00m:\n\u001b[0;32m--> 208\u001b[0m     \u001b[39mraise\u001b[39;00m exception\n\u001b[1;32m    209\u001b[0m \u001b[39mfinally\u001b[39;00m:\n\u001b[1;32m    210\u001b[0m     \u001b[39m# credit to\u001b[39;00m\n\u001b[1;32m    211\u001b[0m     \u001b[39m# https://cosmicpercolator.com/2016/01/13/exception-leaks-in-python-2-and-3/\u001b[39;00m\n\u001b[1;32m    212\u001b[0m     \u001b[39m# as the __traceback__ object creates a cycle\u001b[39;00m\n\u001b[1;32m    213\u001b[0m     \u001b[39mdel\u001b[39;00m exception, replace_context, from_, with_traceback\n",
      "File \u001b[0;32m~/Documents/Repos/case_scrape/.venv/lib/python3.10/site-packages/sqlalchemy/engine/base.py:1900\u001b[0m, in \u001b[0;36mConnection._execute_context\u001b[0;34m(self, dialect, constructor, statement, parameters, execution_options, *args, **kw)\u001b[0m\n\u001b[1;32m   1898\u001b[0m                 \u001b[39mbreak\u001b[39;00m\n\u001b[1;32m   1899\u001b[0m     \u001b[39mif\u001b[39;00m \u001b[39mnot\u001b[39;00m evt_handled:\n\u001b[0;32m-> 1900\u001b[0m         \u001b[39mself\u001b[39;49m\u001b[39m.\u001b[39;49mdialect\u001b[39m.\u001b[39;49mdo_execute(\n\u001b[1;32m   1901\u001b[0m             cursor, statement, parameters, context\n\u001b[1;32m   1902\u001b[0m         )\n\u001b[1;32m   1904\u001b[0m \u001b[39mif\u001b[39;00m \u001b[39mself\u001b[39m\u001b[39m.\u001b[39m_has_events \u001b[39mor\u001b[39;00m \u001b[39mself\u001b[39m\u001b[39m.\u001b[39mengine\u001b[39m.\u001b[39m_has_events:\n\u001b[1;32m   1905\u001b[0m     \u001b[39mself\u001b[39m\u001b[39m.\u001b[39mdispatch\u001b[39m.\u001b[39mafter_cursor_execute(\n\u001b[1;32m   1906\u001b[0m         \u001b[39mself\u001b[39m,\n\u001b[1;32m   1907\u001b[0m         cursor,\n\u001b[0;32m   (...)\u001b[0m\n\u001b[1;32m   1911\u001b[0m         context\u001b[39m.\u001b[39mexecutemany,\n\u001b[1;32m   1912\u001b[0m     )\n",
      "File \u001b[0;32m~/Documents/Repos/case_scrape/.venv/lib/python3.10/site-packages/sqlalchemy/engine/default.py:732\u001b[0m, in \u001b[0;36mDefaultDialect.do_execute\u001b[0;34m(self, cursor, statement, parameters, context)\u001b[0m\n\u001b[1;32m    731\u001b[0m \u001b[39mdef\u001b[39;00m \u001b[39mdo_execute\u001b[39m(\u001b[39mself\u001b[39m, cursor, statement, parameters, context\u001b[39m=\u001b[39m\u001b[39mNone\u001b[39;00m):\n\u001b[0;32m--> 732\u001b[0m     cursor\u001b[39m.\u001b[39;49mexecute(statement, parameters)\n",
      "\u001b[0;31mProgrammingError\u001b[0m: (psycopg2.errors.InvalidForeignKey) there is no unique constraint matching given keys for referenced table \"case_defendant\"\n\n[SQL: ALTER TABLE defendant ADD FOREIGN KEY(id) REFERENCES case_defendant (defendant_id)]\n(Background on this error at: https://sqlalche.me/e/14/f405)"
     ]
    }
   ],
   "source": [
    "init_db()\n"
   ]
  },
  {
   "cell_type": "code",
   "execution_count": null,
   "metadata": {},
   "outputs": [],
   "source": []
  },
  {
   "cell_type": "code",
   "execution_count": 14,
   "metadata": {},
   "outputs": [],
   "source": [
    "driver.close()\n",
    "session.close()"
   ]
  },
  {
   "cell_type": "code",
   "execution_count": 15,
   "metadata": {},
   "outputs": [],
   "source": [
    "driver.quit()"
   ]
  },
  {
   "cell_type": "code",
   "execution_count": 10,
   "metadata": {},
   "outputs": [],
   "source": [
    "engine = DBConfig(\n",
    "        password=os.getenv(\"DB_PASSWORD\"),\n",
    "        user=os.getenv(\"DB_USER\")\n",
    "    ).get_engine()\n",
    "\n",
    "Session = sessionmaker(bind=engine)\n",
    "session = Session()\n",
    "\n"
   ]
  },
  {
   "cell_type": "code",
   "execution_count": 11,
   "metadata": {},
   "outputs": [],
   "source": [
    "from selenium import webdriver\n",
    "from webdriver_manager.chrome import ChromeDriverManager\n",
    "from selenium.webdriver.chrome.service import Service as ChromeService\n",
    "opts = Options()\n",
    "#opts.headless = True"
   ]
  },
  {
   "cell_type": "code",
   "execution_count": 12,
   "metadata": {},
   "outputs": [],
   "source": [
    "case_numbers = [str(x) for x in range(655783, 666532)] \n",
    "# [str(x) for x in range(655656, 666532)] + \\\n",
    "# [str(x) for x in range(647313, 655655)] + \\\n",
    "# [str(x) for x in range(635863, 647312)] + \\\n",
    "# [str(x) for x in range(624667, 635860)] + \\\n",
    "# [str(x) for x in range(612912, 624666)] + \\\n",
    "# [str(x) for x in range(602355, 612910)] "
   ]
  },
  {
   "cell_type": "code",
   "execution_count": 11,
   "metadata": {},
   "outputs": [
    {
     "ename": "NameError",
     "evalue": "name 'case_no_str' is not defined",
     "output_type": "error",
     "traceback": [
      "\u001b[0;31m---------------------------------------------------------------------------\u001b[0m",
      "\u001b[0;31mNameError\u001b[0m                                 Traceback (most recent call last)",
      "Cell \u001b[0;32mIn [11], line 1\u001b[0m\n\u001b[0;32m----> 1\u001b[0m case_no_str\n",
      "\u001b[0;31mNameError\u001b[0m: name 'case_no_str' is not defined"
     ]
    }
   ],
   "source": [
    "case_no_str"
   ]
  },
  {
   "cell_type": "code",
   "execution_count": 14,
   "metadata": {},
   "outputs": [
    {
     "ename": "NoForeignKeysError",
     "evalue": "Could not determine join condition between parent/child tables on relationship CaseDefendant.charges - there are no foreign keys linking these tables.  Ensure that referencing columns are associated with a ForeignKey or ForeignKeyConstraint, or specify a 'primaryjoin' expression.",
     "output_type": "error",
     "traceback": [
      "\u001b[0;31m---------------------------------------------------------------------------\u001b[0m",
      "\u001b[0;31mNoForeignKeysError\u001b[0m                        Traceback (most recent call last)",
      "File \u001b[0;32m~/Documents/Repos/case_scrape/.venv/lib/python3.10/site-packages/sqlalchemy/orm/relationships.py:2749\u001b[0m, in \u001b[0;36mJoinCondition._determine_joins\u001b[0;34m(self)\u001b[0m\n\u001b[1;32m   2748\u001b[0m         \u001b[39mif\u001b[39;00m \u001b[39mself\u001b[39m\u001b[39m.\u001b[39mprimaryjoin \u001b[39mis\u001b[39;00m \u001b[39mNone\u001b[39;00m:\n\u001b[0;32m-> 2749\u001b[0m             \u001b[39mself\u001b[39m\u001b[39m.\u001b[39mprimaryjoin \u001b[39m=\u001b[39m join_condition(\n\u001b[1;32m   2750\u001b[0m                 \u001b[39mself\u001b[39;49m\u001b[39m.\u001b[39;49mparent_persist_selectable,\n\u001b[1;32m   2751\u001b[0m                 \u001b[39mself\u001b[39;49m\u001b[39m.\u001b[39;49mchild_persist_selectable,\n\u001b[1;32m   2752\u001b[0m                 a_subset\u001b[39m=\u001b[39;49m\u001b[39mself\u001b[39;49m\u001b[39m.\u001b[39;49mparent_local_selectable,\n\u001b[1;32m   2753\u001b[0m                 consider_as_foreign_keys\u001b[39m=\u001b[39;49mconsider_as_foreign_keys,\n\u001b[1;32m   2754\u001b[0m             )\n\u001b[1;32m   2755\u001b[0m \u001b[39mexcept\u001b[39;00m sa_exc\u001b[39m.\u001b[39mNoForeignKeysError \u001b[39mas\u001b[39;00m nfe:\n",
      "File \u001b[0;32m<string>:2\u001b[0m, in \u001b[0;36mjoin_condition\u001b[0;34m(a, b, a_subset, consider_as_foreign_keys)\u001b[0m\n",
      "File \u001b[0;32m~/Documents/Repos/case_scrape/.venv/lib/python3.10/site-packages/sqlalchemy/sql/selectable.py:1229\u001b[0m, in \u001b[0;36mJoin._join_condition\u001b[0;34m(cls, a, b, a_subset, consider_as_foreign_keys)\u001b[0m\n\u001b[1;32m   1228\u001b[0m         hint \u001b[39m=\u001b[39m \u001b[39m\"\u001b[39m\u001b[39m\"\u001b[39m\n\u001b[0;32m-> 1229\u001b[0m     \u001b[39mraise\u001b[39;00m exc\u001b[39m.\u001b[39mNoForeignKeysError(\n\u001b[1;32m   1230\u001b[0m         \u001b[39m\"\u001b[39m\u001b[39mCan\u001b[39m\u001b[39m'\u001b[39m\u001b[39mt find any foreign key relationships \u001b[39m\u001b[39m\"\u001b[39m\n\u001b[1;32m   1231\u001b[0m         \u001b[39m\"\u001b[39m\u001b[39mbetween \u001b[39m\u001b[39m'\u001b[39m\u001b[39m%s\u001b[39;00m\u001b[39m'\u001b[39m\u001b[39m and \u001b[39m\u001b[39m'\u001b[39m\u001b[39m%s\u001b[39;00m\u001b[39m'\u001b[39m\u001b[39m.\u001b[39m\u001b[39m%s\u001b[39;00m\u001b[39m\"\u001b[39m\n\u001b[1;32m   1232\u001b[0m         \u001b[39m%\u001b[39m (a\u001b[39m.\u001b[39mdescription, b\u001b[39m.\u001b[39mdescription, hint)\n\u001b[1;32m   1233\u001b[0m     )\n\u001b[1;32m   1235\u001b[0m crit \u001b[39m=\u001b[39m [(x \u001b[39m==\u001b[39m y) \u001b[39mfor\u001b[39;00m x, y \u001b[39min\u001b[39;00m \u001b[39mlist\u001b[39m(constraints\u001b[39m.\u001b[39mvalues())[\u001b[39m0\u001b[39m]]\n",
      "\u001b[0;31mNoForeignKeysError\u001b[0m: Can't find any foreign key relationships between 'case_defendant' and 'charge'.",
      "\nThe above exception was the direct cause of the following exception:\n",
      "\u001b[0;31mNoForeignKeysError\u001b[0m                        Traceback (most recent call last)",
      "Cell \u001b[0;32mIn [14], line 27\u001b[0m\n\u001b[1;32m     25\u001b[0m \u001b[39melse\u001b[39;00m:\n\u001b[1;32m     26\u001b[0m     \u001b[39mtry\u001b[39;00m:\n\u001b[0;32m---> 27\u001b[0m         driver, case_number \u001b[39m=\u001b[39m fetch_case_summary(session, driver)\n\u001b[1;32m     28\u001b[0m     \u001b[39mexcept\u001b[39;00m TimeoutException:\n\u001b[1;32m     29\u001b[0m         driver\u001b[39m.\u001b[39mclose()\n",
      "Cell \u001b[0;32mIn [13], line 68\u001b[0m, in \u001b[0;36mfetch_case_summary\u001b[0;34m(db, driver)\u001b[0m\n\u001b[1;32m     66\u001b[0m WebDriverWait(driver,\u001b[39m10\u001b[39m)\u001b[39m.\u001b[39muntil(EC\u001b[39m.\u001b[39melement_to_be_clickable((By\u001b[39m.\u001b[39mXPATH, \u001b[39m\"\u001b[39m\u001b[39m//*[(@id = \u001b[39m\u001b[39m'\u001b[39m\u001b[39mSheetContentPlaceHolder_caseSummary_lblCaseNumber\u001b[39m\u001b[39m'\u001b[39m\u001b[39m)]\u001b[39m\u001b[39m\"\u001b[39m)))\n\u001b[1;32m     67\u001b[0m case_number \u001b[39m=\u001b[39m driver\u001b[39m.\u001b[39mfind_element(By\u001b[39m.\u001b[39mXPATH, \u001b[39m\"\u001b[39m\u001b[39m//*[(@id = \u001b[39m\u001b[39m'\u001b[39m\u001b[39mSheetContentPlaceHolder_caseSummary_lblCaseNumber\u001b[39m\u001b[39m'\u001b[39m\u001b[39m)]\u001b[39m\u001b[39m\"\u001b[39m)\u001b[39m.\u001b[39mtext\n\u001b[0;32m---> 68\u001b[0m case_defendant\u001b[39m=\u001b[39mmodels\u001b[39m.\u001b[39;49mCaseDefendant(\n\u001b[1;32m     69\u001b[0m     case_number\u001b[39m=\u001b[39;49m case_number,\n\u001b[1;32m     70\u001b[0m     scrape_time\u001b[39m=\u001b[39;49mdatetime\u001b[39m.\u001b[39;49mnow(),\n\u001b[1;32m     71\u001b[0m     status\u001b[39m=\u001b[39;49mdriver\u001b[39m.\u001b[39;49mfind_element(By\u001b[39m.\u001b[39;49mXPATH, \u001b[39m\"\u001b[39;49m\u001b[39m//*[(@id = \u001b[39;49m\u001b[39m'\u001b[39;49m\u001b[39mSheetContentPlaceHolder_caseSummary_lblCaseStatus\u001b[39;49m\u001b[39m'\u001b[39;49m\u001b[39m)]\u001b[39;49m\u001b[39m\"\u001b[39;49m)\u001b[39m.\u001b[39;49mtext,\n\u001b[1;32m     72\u001b[0m     judge_name\u001b[39m=\u001b[39;49mdriver\u001b[39m.\u001b[39;49mfind_element(By\u001b[39m.\u001b[39;49mXPATH, \u001b[39m\"\u001b[39;49m\u001b[39m//*[(@id = \u001b[39;49m\u001b[39m'\u001b[39;49m\u001b[39mSheetContentPlaceHolder_caseSummary_lblJudgeName\u001b[39;49m\u001b[39m'\u001b[39;49m\u001b[39m)]\u001b[39;49m\u001b[39m\"\u001b[39;49m)\u001b[39m.\u001b[39;49mtext,\n\u001b[1;32m     73\u001b[0m     next_event\u001b[39m=\u001b[39;49mdriver\u001b[39m.\u001b[39;49mfind_element(By\u001b[39m.\u001b[39;49mXPATH, \u001b[39m\"\u001b[39;49m\u001b[39m//*[(@id = \u001b[39;49m\u001b[39m'\u001b[39;49m\u001b[39mSheetContentPlaceHolder_caseSummary_lblNextEvent\u001b[39;49m\u001b[39m'\u001b[39;49m\u001b[39m)]\u001b[39;49m\u001b[39m\"\u001b[39;49m)\u001b[39m.\u001b[39;49mtext,\n\u001b[1;32m     74\u001b[0m     arrested_date\u001b[39m=\u001b[39;49mdriver\u001b[39m.\u001b[39;49mfind_element(By\u001b[39m.\u001b[39;49mXPATH, \u001b[39m\"\u001b[39;49m\u001b[39m//*[(@id = \u001b[39;49m\u001b[39m'\u001b[39;49m\u001b[39mSheetContentPlaceHolder_caseSummary_lblArrested\u001b[39;49m\u001b[39m'\u001b[39;49m\u001b[39m)]\u001b[39;49m\u001b[39m\"\u001b[39;49m)\u001b[39m.\u001b[39;49mtext,\n\u001b[1;32m     75\u001b[0m     arresting_agency\u001b[39m=\u001b[39;49mdriver\u001b[39m.\u001b[39;49mfind_element(By\u001b[39m.\u001b[39;49mXPATH, \u001b[39m\"\u001b[39;49m\u001b[39m//*[(@id = \u001b[39;49m\u001b[39m'\u001b[39;49m\u001b[39mSheetContentPlaceHolder_caseSummary_lblArrestingAgency\u001b[39;49m\u001b[39m'\u001b[39;49m\u001b[39m)]\u001b[39;49m\u001b[39m\"\u001b[39;49m)\u001b[39m.\u001b[39;49mtext,\n\u001b[1;32m     76\u001b[0m     arresting_agency_report\u001b[39m=\u001b[39;49mdriver\u001b[39m.\u001b[39;49mfind_element(By\u001b[39m.\u001b[39;49mXPATH, \u001b[39m\"\u001b[39;49m\u001b[39m//*[(@id = \u001b[39;49m\u001b[39m'\u001b[39;49m\u001b[39mSheetContentPlaceHolder_caseSummary_lblArestingAgencyReport\u001b[39;49m\u001b[39m'\u001b[39;49m\u001b[39m)]\u001b[39;49m\u001b[39m\"\u001b[39;49m)\u001b[39m.\u001b[39;49mtext,\n\u001b[1;32m     77\u001b[0m     court_of_appeals_case\u001b[39m=\u001b[39;49mdriver\u001b[39m.\u001b[39;49mfind_element(By\u001b[39m.\u001b[39;49mXPATH, \u001b[39m\"\u001b[39;49m\u001b[39m//*[(@id = \u001b[39;49m\u001b[39m'\u001b[39;49m\u001b[39mSheetContentPlaceHolder_caseSummary_lblCOACase\u001b[39;49m\u001b[39m'\u001b[39;49m\u001b[39m)]\u001b[39;49m\u001b[39m\"\u001b[39;49m)\u001b[39m.\u001b[39;49mtext,\n\u001b[1;32m     78\u001b[0m     date_scraped\u001b[39m=\u001b[39;49mdatetime\u001b[39m.\u001b[39;49mnow(),\n\u001b[1;32m     79\u001b[0m     defendant_id\u001b[39m=\u001b[39;49mdriver\u001b[39m.\u001b[39;49mfind_element(By\u001b[39m.\u001b[39;49mXPATH, \u001b[39m\"\u001b[39;49m\u001b[39m//*[(@id = \u001b[39;49m\u001b[39m'\u001b[39;49m\u001b[39mSheetContentPlaceHolder_caseSummary_lblNumber\u001b[39;49m\u001b[39m'\u001b[39;49m\u001b[39m)]\u001b[39;49m\u001b[39m\"\u001b[39;49m)\u001b[39m.\u001b[39;49mtext,\n\u001b[1;32m     80\u001b[0m     name\u001b[39m=\u001b[39;49mdriver\u001b[39m.\u001b[39;49mfind_element(By\u001b[39m.\u001b[39;49mXPATH, \u001b[39m\"\u001b[39;49m\u001b[39m//*[(@id = \u001b[39;49m\u001b[39m'\u001b[39;49m\u001b[39mSheetContentPlaceHolder_caseSummary_lblName\u001b[39;49m\u001b[39m'\u001b[39;49m\u001b[39m)]\u001b[39;49m\u001b[39m\"\u001b[39;49m)\u001b[39m.\u001b[39;49mtext,\n\u001b[1;32m     81\u001b[0m     defendant_status\u001b[39m=\u001b[39;49mdriver\u001b[39m.\u001b[39;49mfind_element(By\u001b[39m.\u001b[39;49mXPATH, \u001b[39m\"\u001b[39;49m\u001b[39m//*[(@id = \u001b[39;49m\u001b[39m'\u001b[39;49m\u001b[39mSheetContentPlaceHolder_caseSummary_defStatus_lblDefStatus\u001b[39;49m\u001b[39m'\u001b[39;49m\u001b[39m)]\u001b[39;49m\u001b[39m\"\u001b[39;49m)\u001b[39m.\u001b[39;49mtext,\n\u001b[1;32m     82\u001b[0m     date_of_birth\u001b[39m=\u001b[39;49mdriver\u001b[39m.\u001b[39;49mfind_element(By\u001b[39m.\u001b[39;49mXPATH, \u001b[39m\"\u001b[39;49m\u001b[39m//*[(@id = \u001b[39;49m\u001b[39m'\u001b[39;49m\u001b[39mSheetContentPlaceHolder_caseSummary_lblDOB\u001b[39;49m\u001b[39m'\u001b[39;49m\u001b[39m)]\u001b[39;49m\u001b[39m\"\u001b[39;49m)\u001b[39m.\u001b[39;49mtext,\n\u001b[1;32m     83\u001b[0m     race\u001b[39m=\u001b[39;49mdriver\u001b[39m.\u001b[39;49mfind_element(By\u001b[39m.\u001b[39;49mXPATH, \u001b[39m\"\u001b[39;49m\u001b[39m//*[(@id = \u001b[39;49m\u001b[39m'\u001b[39;49m\u001b[39mSheetContentPlaceHolder_caseSummary_lblRace\u001b[39;49m\u001b[39m'\u001b[39;49m\u001b[39m)]\u001b[39;49m\u001b[39m\"\u001b[39;49m)\u001b[39m.\u001b[39;49mtext,\n\u001b[1;32m     84\u001b[0m     sex\u001b[39m=\u001b[39;49mdriver\u001b[39m.\u001b[39;49mfind_element(By\u001b[39m.\u001b[39;49mXPATH, \u001b[39m\"\u001b[39;49m\u001b[39m//*[(@id = \u001b[39;49m\u001b[39m'\u001b[39;49m\u001b[39mSheetContentPlaceHolder_caseSummary_lblSex\u001b[39;49m\u001b[39m'\u001b[39;49m\u001b[39m)]\u001b[39;49m\u001b[39m\"\u001b[39;49m)\u001b[39m.\u001b[39;49mtext,\n\u001b[1;32m     85\u001b[0m     other_cases\u001b[39m=\u001b[39;49mdriver\u001b[39m.\u001b[39;49mfind_element(By\u001b[39m.\u001b[39;49mXPATH, \u001b[39m\"\u001b[39;49m\u001b[39m//*[(@id = \u001b[39;49m\u001b[39m'\u001b[39;49m\u001b[39mSheetContentPlaceHolder_caseSummary_otherCases_lblOtherCases\u001b[39;49m\u001b[39m'\u001b[39;49m\u001b[39m)]\u001b[39;49m\u001b[39m\"\u001b[39;49m)\u001b[39m.\u001b[39;49mtext,\n\u001b[1;32m     86\u001b[0m     co_defendants\u001b[39m=\u001b[39;49mdriver\u001b[39m.\u001b[39;49mfind_element(By\u001b[39m.\u001b[39;49mXPATH, \u001b[39m\"\u001b[39;49m\u001b[39m//*[(@id = \u001b[39;49m\u001b[39m'\u001b[39;49m\u001b[39mSheetContentPlaceHolder_caseSummary_otherDefs_lblCoDefs\u001b[39;49m\u001b[39m'\u001b[39;49m\u001b[39m)]\u001b[39;49m\u001b[39m\"\u001b[39;49m)\u001b[39m.\u001b[39;49mtext\n\u001b[1;32m     87\u001b[0m ) \n\u001b[1;32m     88\u001b[0m db\u001b[39m.\u001b[39mmerge(case_defendant)  \n\u001b[1;32m     89\u001b[0m db\u001b[39m.\u001b[39mcommit()\n",
      "File \u001b[0;32m<string>:4\u001b[0m, in \u001b[0;36m__init__\u001b[0;34m(self, **kwargs)\u001b[0m\n",
      "File \u001b[0;32m~/Documents/Repos/case_scrape/.venv/lib/python3.10/site-packages/sqlalchemy/orm/state.py:476\u001b[0m, in \u001b[0;36mInstanceState._initialize_instance\u001b[0;34m(*mixed, **kwargs)\u001b[0m\n\u001b[1;32m    473\u001b[0m \u001b[39mself\u001b[39m, instance, args \u001b[39m=\u001b[39m mixed[\u001b[39m0\u001b[39m], mixed[\u001b[39m1\u001b[39m], mixed[\u001b[39m2\u001b[39m:]  \u001b[39m# noqa\u001b[39;00m\n\u001b[1;32m    474\u001b[0m manager \u001b[39m=\u001b[39m \u001b[39mself\u001b[39m\u001b[39m.\u001b[39mmanager\n\u001b[0;32m--> 476\u001b[0m manager\u001b[39m.\u001b[39;49mdispatch\u001b[39m.\u001b[39;49minit(\u001b[39mself\u001b[39;49m, args, kwargs)\n\u001b[1;32m    478\u001b[0m \u001b[39mtry\u001b[39;00m:\n\u001b[1;32m    479\u001b[0m     \u001b[39mreturn\u001b[39;00m manager\u001b[39m.\u001b[39moriginal_init(\u001b[39m*\u001b[39mmixed[\u001b[39m1\u001b[39m:], \u001b[39m*\u001b[39m\u001b[39m*\u001b[39mkwargs)\n",
      "File \u001b[0;32m~/Documents/Repos/case_scrape/.venv/lib/python3.10/site-packages/sqlalchemy/event/attr.py:343\u001b[0m, in \u001b[0;36m_CompoundListener.__call__\u001b[0;34m(self, *args, **kw)\u001b[0m\n\u001b[1;32m    341\u001b[0m     fn(\u001b[39m*\u001b[39margs, \u001b[39m*\u001b[39m\u001b[39m*\u001b[39mkw)\n\u001b[1;32m    342\u001b[0m \u001b[39mfor\u001b[39;00m fn \u001b[39min\u001b[39;00m \u001b[39mself\u001b[39m\u001b[39m.\u001b[39mlisteners:\n\u001b[0;32m--> 343\u001b[0m     fn(\u001b[39m*\u001b[39;49margs, \u001b[39m*\u001b[39;49m\u001b[39m*\u001b[39;49mkw)\n",
      "File \u001b[0;32m~/Documents/Repos/case_scrape/.venv/lib/python3.10/site-packages/sqlalchemy/orm/mapper.py:3633\u001b[0m, in \u001b[0;36m_event_on_init\u001b[0;34m(state, args, kwargs)\u001b[0m\n\u001b[1;32m   3631\u001b[0m instrumenting_mapper \u001b[39m=\u001b[39m state\u001b[39m.\u001b[39mmanager\u001b[39m.\u001b[39mmapper\n\u001b[1;32m   3632\u001b[0m \u001b[39mif\u001b[39;00m instrumenting_mapper:\n\u001b[0;32m-> 3633\u001b[0m     instrumenting_mapper\u001b[39m.\u001b[39;49m_check_configure()\n\u001b[1;32m   3634\u001b[0m     \u001b[39mif\u001b[39;00m instrumenting_mapper\u001b[39m.\u001b[39m_set_polymorphic_identity:\n\u001b[1;32m   3635\u001b[0m         instrumenting_mapper\u001b[39m.\u001b[39m_set_polymorphic_identity(state)\n",
      "File \u001b[0;32m~/Documents/Repos/case_scrape/.venv/lib/python3.10/site-packages/sqlalchemy/orm/mapper.py:1924\u001b[0m, in \u001b[0;36mMapper._check_configure\u001b[0;34m(self)\u001b[0m\n\u001b[1;32m   1922\u001b[0m \u001b[39mdef\u001b[39;00m \u001b[39m_check_configure\u001b[39m(\u001b[39mself\u001b[39m):\n\u001b[1;32m   1923\u001b[0m     \u001b[39mif\u001b[39;00m \u001b[39mself\u001b[39m\u001b[39m.\u001b[39mregistry\u001b[39m.\u001b[39m_new_mappers:\n\u001b[0;32m-> 1924\u001b[0m         _configure_registries({\u001b[39mself\u001b[39;49m\u001b[39m.\u001b[39;49mregistry}, cascade\u001b[39m=\u001b[39;49m\u001b[39mTrue\u001b[39;49;00m)\n",
      "File \u001b[0;32m~/Documents/Repos/case_scrape/.venv/lib/python3.10/site-packages/sqlalchemy/orm/mapper.py:3448\u001b[0m, in \u001b[0;36m_configure_registries\u001b[0;34m(registries, cascade)\u001b[0m\n\u001b[1;32m   3442\u001b[0m     Mapper\u001b[39m.\u001b[39mdispatch\u001b[39m.\u001b[39m_for_class(Mapper)\u001b[39m.\u001b[39mbefore_configured()\n\u001b[1;32m   3443\u001b[0m     \u001b[39m# initialize properties on all mappers\u001b[39;00m\n\u001b[1;32m   3444\u001b[0m     \u001b[39m# note that _mapper_registry is unordered, which\u001b[39;00m\n\u001b[1;32m   3445\u001b[0m     \u001b[39m# may randomly conceal/reveal issues related to\u001b[39;00m\n\u001b[1;32m   3446\u001b[0m     \u001b[39m# the order of mapper compilation\u001b[39;00m\n\u001b[0;32m-> 3448\u001b[0m     _do_configure_registries(registries, cascade)\n\u001b[1;32m   3449\u001b[0m \u001b[39mfinally\u001b[39;00m:\n\u001b[1;32m   3450\u001b[0m     _already_compiling \u001b[39m=\u001b[39m \u001b[39mFalse\u001b[39;00m\n",
      "File \u001b[0;32m~/Documents/Repos/case_scrape/.venv/lib/python3.10/site-packages/sqlalchemy/orm/mapper.py:3487\u001b[0m, in \u001b[0;36m_do_configure_registries\u001b[0;34m(registries, cascade)\u001b[0m\n\u001b[1;32m   3485\u001b[0m \u001b[39mif\u001b[39;00m \u001b[39mnot\u001b[39;00m mapper\u001b[39m.\u001b[39mconfigured:\n\u001b[1;32m   3486\u001b[0m     \u001b[39mtry\u001b[39;00m:\n\u001b[0;32m-> 3487\u001b[0m         mapper\u001b[39m.\u001b[39;49m_post_configure_properties()\n\u001b[1;32m   3488\u001b[0m         mapper\u001b[39m.\u001b[39m_expire_memoizations()\n\u001b[1;32m   3489\u001b[0m         mapper\u001b[39m.\u001b[39mdispatch\u001b[39m.\u001b[39mmapper_configured(mapper, mapper\u001b[39m.\u001b[39mclass_)\n",
      "File \u001b[0;32m~/Documents/Repos/case_scrape/.venv/lib/python3.10/site-packages/sqlalchemy/orm/mapper.py:1941\u001b[0m, in \u001b[0;36mMapper._post_configure_properties\u001b[0;34m(self)\u001b[0m\n\u001b[1;32m   1938\u001b[0m \u001b[39mself\u001b[39m\u001b[39m.\u001b[39m_log(\u001b[39m\"\u001b[39m\u001b[39minitialize prop \u001b[39m\u001b[39m%s\u001b[39;00m\u001b[39m\"\u001b[39m, key)\n\u001b[1;32m   1940\u001b[0m \u001b[39mif\u001b[39;00m prop\u001b[39m.\u001b[39mparent \u001b[39mis\u001b[39;00m \u001b[39mself\u001b[39m \u001b[39mand\u001b[39;00m \u001b[39mnot\u001b[39;00m prop\u001b[39m.\u001b[39m_configure_started:\n\u001b[0;32m-> 1941\u001b[0m     prop\u001b[39m.\u001b[39;49minit()\n\u001b[1;32m   1943\u001b[0m \u001b[39mif\u001b[39;00m prop\u001b[39m.\u001b[39m_configure_finished:\n\u001b[1;32m   1944\u001b[0m     prop\u001b[39m.\u001b[39mpost_instrument_class(\u001b[39mself\u001b[39m)\n",
      "File \u001b[0;32m~/Documents/Repos/case_scrape/.venv/lib/python3.10/site-packages/sqlalchemy/orm/interfaces.py:231\u001b[0m, in \u001b[0;36mMapperProperty.init\u001b[0;34m(self)\u001b[0m\n\u001b[1;32m    224\u001b[0m \u001b[39m\"\"\"Called after all mappers are created to assemble\u001b[39;00m\n\u001b[1;32m    225\u001b[0m \u001b[39mrelationships between mappers and perform other post-mapper-creation\u001b[39;00m\n\u001b[1;32m    226\u001b[0m \u001b[39minitialization steps.\u001b[39;00m\n\u001b[1;32m    227\u001b[0m \n\u001b[1;32m    228\u001b[0m \n\u001b[1;32m    229\u001b[0m \u001b[39m\"\"\"\u001b[39;00m\n\u001b[1;32m    230\u001b[0m \u001b[39mself\u001b[39m\u001b[39m.\u001b[39m_configure_started \u001b[39m=\u001b[39m \u001b[39mTrue\u001b[39;00m\n\u001b[0;32m--> 231\u001b[0m \u001b[39mself\u001b[39;49m\u001b[39m.\u001b[39;49mdo_init()\n\u001b[1;32m    232\u001b[0m \u001b[39mself\u001b[39m\u001b[39m.\u001b[39m_configure_finished \u001b[39m=\u001b[39m \u001b[39mTrue\u001b[39;00m\n",
      "File \u001b[0;32m~/Documents/Repos/case_scrape/.venv/lib/python3.10/site-packages/sqlalchemy/orm/relationships.py:2147\u001b[0m, in \u001b[0;36mRelationshipProperty.do_init\u001b[0;34m(self)\u001b[0m\n\u001b[1;32m   2145\u001b[0m \u001b[39mself\u001b[39m\u001b[39m.\u001b[39m_process_dependent_arguments()\n\u001b[1;32m   2146\u001b[0m \u001b[39mself\u001b[39m\u001b[39m.\u001b[39m_setup_registry_dependencies()\n\u001b[0;32m-> 2147\u001b[0m \u001b[39mself\u001b[39;49m\u001b[39m.\u001b[39;49m_setup_join_conditions()\n\u001b[1;32m   2148\u001b[0m \u001b[39mself\u001b[39m\u001b[39m.\u001b[39m_check_cascade_settings(\u001b[39mself\u001b[39m\u001b[39m.\u001b[39m_cascade)\n\u001b[1;32m   2149\u001b[0m \u001b[39mself\u001b[39m\u001b[39m.\u001b[39m_post_init()\n",
      "File \u001b[0;32m~/Documents/Repos/case_scrape/.venv/lib/python3.10/site-packages/sqlalchemy/orm/relationships.py:2243\u001b[0m, in \u001b[0;36mRelationshipProperty._setup_join_conditions\u001b[0;34m(self)\u001b[0m\n\u001b[1;32m   2242\u001b[0m \u001b[39mdef\u001b[39;00m \u001b[39m_setup_join_conditions\u001b[39m(\u001b[39mself\u001b[39m):\n\u001b[0;32m-> 2243\u001b[0m     \u001b[39mself\u001b[39m\u001b[39m.\u001b[39m_join_condition \u001b[39m=\u001b[39m jc \u001b[39m=\u001b[39m JoinCondition(\n\u001b[1;32m   2244\u001b[0m         parent_persist_selectable\u001b[39m=\u001b[39;49m\u001b[39mself\u001b[39;49m\u001b[39m.\u001b[39;49mparent\u001b[39m.\u001b[39;49mpersist_selectable,\n\u001b[1;32m   2245\u001b[0m         child_persist_selectable\u001b[39m=\u001b[39;49m\u001b[39mself\u001b[39;49m\u001b[39m.\u001b[39;49mentity\u001b[39m.\u001b[39;49mpersist_selectable,\n\u001b[1;32m   2246\u001b[0m         parent_local_selectable\u001b[39m=\u001b[39;49m\u001b[39mself\u001b[39;49m\u001b[39m.\u001b[39;49mparent\u001b[39m.\u001b[39;49mlocal_table,\n\u001b[1;32m   2247\u001b[0m         child_local_selectable\u001b[39m=\u001b[39;49m\u001b[39mself\u001b[39;49m\u001b[39m.\u001b[39;49mentity\u001b[39m.\u001b[39;49mlocal_table,\n\u001b[1;32m   2248\u001b[0m         primaryjoin\u001b[39m=\u001b[39;49m\u001b[39mself\u001b[39;49m\u001b[39m.\u001b[39;49mprimaryjoin,\n\u001b[1;32m   2249\u001b[0m         secondary\u001b[39m=\u001b[39;49m\u001b[39mself\u001b[39;49m\u001b[39m.\u001b[39;49msecondary,\n\u001b[1;32m   2250\u001b[0m         secondaryjoin\u001b[39m=\u001b[39;49m\u001b[39mself\u001b[39;49m\u001b[39m.\u001b[39;49msecondaryjoin,\n\u001b[1;32m   2251\u001b[0m         parent_equivalents\u001b[39m=\u001b[39;49m\u001b[39mself\u001b[39;49m\u001b[39m.\u001b[39;49mparent\u001b[39m.\u001b[39;49m_equivalent_columns,\n\u001b[1;32m   2252\u001b[0m         child_equivalents\u001b[39m=\u001b[39;49m\u001b[39mself\u001b[39;49m\u001b[39m.\u001b[39;49mmapper\u001b[39m.\u001b[39;49m_equivalent_columns,\n\u001b[1;32m   2253\u001b[0m         consider_as_foreign_keys\u001b[39m=\u001b[39;49m\u001b[39mself\u001b[39;49m\u001b[39m.\u001b[39;49m_user_defined_foreign_keys,\n\u001b[1;32m   2254\u001b[0m         local_remote_pairs\u001b[39m=\u001b[39;49m\u001b[39mself\u001b[39;49m\u001b[39m.\u001b[39;49mlocal_remote_pairs,\n\u001b[1;32m   2255\u001b[0m         remote_side\u001b[39m=\u001b[39;49m\u001b[39mself\u001b[39;49m\u001b[39m.\u001b[39;49mremote_side,\n\u001b[1;32m   2256\u001b[0m         self_referential\u001b[39m=\u001b[39;49m\u001b[39mself\u001b[39;49m\u001b[39m.\u001b[39;49m_is_self_referential,\n\u001b[1;32m   2257\u001b[0m         prop\u001b[39m=\u001b[39;49m\u001b[39mself\u001b[39;49m,\n\u001b[1;32m   2258\u001b[0m         support_sync\u001b[39m=\u001b[39;49m\u001b[39mnot\u001b[39;49;00m \u001b[39mself\u001b[39;49m\u001b[39m.\u001b[39;49mviewonly,\n\u001b[1;32m   2259\u001b[0m         can_be_synced_fn\u001b[39m=\u001b[39;49m\u001b[39mself\u001b[39;49m\u001b[39m.\u001b[39;49m_columns_are_mapped,\n\u001b[1;32m   2260\u001b[0m     )\n\u001b[1;32m   2261\u001b[0m     \u001b[39mself\u001b[39m\u001b[39m.\u001b[39mprimaryjoin \u001b[39m=\u001b[39m jc\u001b[39m.\u001b[39mprimaryjoin\n\u001b[1;32m   2262\u001b[0m     \u001b[39mself\u001b[39m\u001b[39m.\u001b[39msecondaryjoin \u001b[39m=\u001b[39m jc\u001b[39m.\u001b[39msecondaryjoin\n",
      "File \u001b[0;32m~/Documents/Repos/case_scrape/.venv/lib/python3.10/site-packages/sqlalchemy/orm/relationships.py:2638\u001b[0m, in \u001b[0;36mJoinCondition.__init__\u001b[0;34m(self, parent_persist_selectable, child_persist_selectable, parent_local_selectable, child_local_selectable, primaryjoin, secondary, secondaryjoin, parent_equivalents, child_equivalents, consider_as_foreign_keys, local_remote_pairs, remote_side, self_referential, prop, support_sync, can_be_synced_fn)\u001b[0m\n\u001b[1;32m   2636\u001b[0m \u001b[39mself\u001b[39m\u001b[39m.\u001b[39msupport_sync \u001b[39m=\u001b[39m support_sync\n\u001b[1;32m   2637\u001b[0m \u001b[39mself\u001b[39m\u001b[39m.\u001b[39mcan_be_synced_fn \u001b[39m=\u001b[39m can_be_synced_fn\n\u001b[0;32m-> 2638\u001b[0m \u001b[39mself\u001b[39;49m\u001b[39m.\u001b[39;49m_determine_joins()\n\u001b[1;32m   2639\u001b[0m \u001b[39mself\u001b[39m\u001b[39m.\u001b[39m_sanitize_joins()\n\u001b[1;32m   2640\u001b[0m \u001b[39mself\u001b[39m\u001b[39m.\u001b[39m_annotate_fks()\n",
      "File \u001b[0;32m~/Documents/Repos/case_scrape/.venv/lib/python3.10/site-packages/sqlalchemy/orm/relationships.py:2771\u001b[0m, in \u001b[0;36mJoinCondition._determine_joins\u001b[0;34m(self)\u001b[0m\n\u001b[1;32m   2757\u001b[0m         util\u001b[39m.\u001b[39mraise_(\n\u001b[1;32m   2758\u001b[0m             sa_exc\u001b[39m.\u001b[39mNoForeignKeysError(\n\u001b[1;32m   2759\u001b[0m                 \u001b[39m\"\u001b[39m\u001b[39mCould not determine join \u001b[39m\u001b[39m\"\u001b[39m\n\u001b[0;32m   (...)\u001b[0m\n\u001b[1;32m   2768\u001b[0m             from_\u001b[39m=\u001b[39mnfe,\n\u001b[1;32m   2769\u001b[0m         )\n\u001b[1;32m   2770\u001b[0m     \u001b[39melse\u001b[39;00m:\n\u001b[0;32m-> 2771\u001b[0m         util\u001b[39m.\u001b[39;49mraise_(\n\u001b[1;32m   2772\u001b[0m             sa_exc\u001b[39m.\u001b[39;49mNoForeignKeysError(\n\u001b[1;32m   2773\u001b[0m                 \u001b[39m\"\u001b[39;49m\u001b[39mCould not determine join \u001b[39;49m\u001b[39m\"\u001b[39;49m\n\u001b[1;32m   2774\u001b[0m                 \u001b[39m\"\u001b[39;49m\u001b[39mcondition between parent/child tables on \u001b[39;49m\u001b[39m\"\u001b[39;49m\n\u001b[1;32m   2775\u001b[0m                 \u001b[39m\"\u001b[39;49m\u001b[39mrelationship \u001b[39;49m\u001b[39m%s\u001b[39;49;00m\u001b[39m - there are no foreign keys \u001b[39;49m\u001b[39m\"\u001b[39;49m\n\u001b[1;32m   2776\u001b[0m                 \u001b[39m\"\u001b[39;49m\u001b[39mlinking these tables.  \u001b[39;49m\u001b[39m\"\u001b[39;49m\n\u001b[1;32m   2777\u001b[0m                 \u001b[39m\"\u001b[39;49m\u001b[39mEnsure that referencing columns are associated \u001b[39;49m\u001b[39m\"\u001b[39;49m\n\u001b[1;32m   2778\u001b[0m                 \u001b[39m\"\u001b[39;49m\u001b[39mwith a ForeignKey or ForeignKeyConstraint, or \u001b[39;49m\u001b[39m\"\u001b[39;49m\n\u001b[1;32m   2779\u001b[0m                 \u001b[39m\"\u001b[39;49m\u001b[39mspecify a \u001b[39;49m\u001b[39m'\u001b[39;49m\u001b[39mprimaryjoin\u001b[39;49m\u001b[39m'\u001b[39;49m\u001b[39m expression.\u001b[39;49m\u001b[39m\"\u001b[39;49m \u001b[39m%\u001b[39;49m \u001b[39mself\u001b[39;49m\u001b[39m.\u001b[39;49mprop\n\u001b[1;32m   2780\u001b[0m             ),\n\u001b[1;32m   2781\u001b[0m             from_\u001b[39m=\u001b[39;49mnfe,\n\u001b[1;32m   2782\u001b[0m         )\n\u001b[1;32m   2783\u001b[0m \u001b[39mexcept\u001b[39;00m sa_exc\u001b[39m.\u001b[39mAmbiguousForeignKeysError \u001b[39mas\u001b[39;00m afe:\n\u001b[1;32m   2784\u001b[0m     \u001b[39mif\u001b[39;00m \u001b[39mself\u001b[39m\u001b[39m.\u001b[39msecondary \u001b[39mis\u001b[39;00m \u001b[39mnot\u001b[39;00m \u001b[39mNone\u001b[39;00m:\n",
      "File \u001b[0;32m~/Documents/Repos/case_scrape/.venv/lib/python3.10/site-packages/sqlalchemy/util/compat.py:208\u001b[0m, in \u001b[0;36mraise_\u001b[0;34m(***failed resolving arguments***)\u001b[0m\n\u001b[1;32m    205\u001b[0m     exception\u001b[39m.\u001b[39m__cause__ \u001b[39m=\u001b[39m replace_context\n\u001b[1;32m    207\u001b[0m \u001b[39mtry\u001b[39;00m:\n\u001b[0;32m--> 208\u001b[0m     \u001b[39mraise\u001b[39;00m exception\n\u001b[1;32m    209\u001b[0m \u001b[39mfinally\u001b[39;00m:\n\u001b[1;32m    210\u001b[0m     \u001b[39m# credit to\u001b[39;00m\n\u001b[1;32m    211\u001b[0m     \u001b[39m# https://cosmicpercolator.com/2016/01/13/exception-leaks-in-python-2-and-3/\u001b[39;00m\n\u001b[1;32m    212\u001b[0m     \u001b[39m# as the __traceback__ object creates a cycle\u001b[39;00m\n\u001b[1;32m    213\u001b[0m     \u001b[39mdel\u001b[39;00m exception, replace_context, from_, with_traceback\n",
      "\u001b[0;31mNoForeignKeysError\u001b[0m: Could not determine join condition between parent/child tables on relationship CaseDefendant.charges - there are no foreign keys linking these tables.  Ensure that referencing columns are associated with a ForeignKey or ForeignKeyConstraint, or specify a 'primaryjoin' expression."
     ]
    }
   ],
   "source": [
    "for case_no_str in case_numbers:\n",
    "    session = Session()\n",
    "    driver = webdriver.Chrome(options = opts, service=ChromeService(ChromeDriverManager().install()))\n",
    "    driver = search_case_number(driver, case_no_str)\n",
    "    data_elems = driver.find_elements(By.XPATH, \"//*[(@id='SheetContentPlaceHolder_ctl00_gvCaseResults')]//*[@href]\")\n",
    "    if len(data_elems) > 0:\n",
    "        for i, elem in enumerate(data_elems):\n",
    "            data_elems = driver.find_elements(By.XPATH, \"//*[(@id='SheetContentPlaceHolder_ctl00_gvCaseResults')]//*[@href]\")\n",
    "            data_elems[i].click()\n",
    "            driver, case_number = fetch_case_summary(session, driver)\n",
    "            driver, case_number = fetch_case_summary_tables(session, driver, case_number)\n",
    "            driver, case_number = fetch_docket_info(session, driver, case_number)\n",
    "            driver.back()\n",
    "            driver = check_tos(driver)\n",
    "            driver, case_number = fetch_cost_info(session, driver, case_number)\n",
    "            driver.back()\n",
    "            driver = check_tos(driver)\n",
    "            driver, case_number = fetch_defendant_info(session, driver, case_number)\n",
    "            driver.back()\n",
    "            driver = check_tos(driver)\n",
    "            driver, case_number = fetch_attorney_info(session, driver, case_number)\n",
    "            driver.back()\n",
    "            driver = check_tos(driver)\n",
    "            driver.back()\n",
    "    else:\n",
    "        try:\n",
    "            driver, case_number = fetch_case_summary(session, driver)\n",
    "        except TimeoutException:\n",
    "            driver.close()\n",
    "            driver.quit()\n",
    "            session.close()\n",
    "            continue\n",
    "        driver, case_number = fetch_case_summary_tables(session, driver, case_number)\n",
    "        driver, case_number = fetch_docket_info(session, driver, case_number)\n",
    "        driver, case_number = fetch_cost_info(session, driver, case_number)\n",
    "        driver, case_number = fetch_defendant_info(session, driver, case_number)\n",
    "        driver, case_number = fetch_attorney_info(session, driver, case_number)\n",
    "        driver.close()\n",
    "        driver.quit()\n",
    "        session.close()\n",
    "\n",
    "    "
   ]
  },
  {
   "cell_type": "code",
   "execution_count": 13,
   "metadata": {},
   "outputs": [],
   "source": [
    "from re import I\n",
    "import sqlalchemy\n",
    "\n",
    "\n",
    "# opts = Options()\n",
    "# # opts.headless = True\n",
    "# driver = webdriver.Chrome(ChromeDriverManager().install(), options=opts)#, executable_path=binary_path)\n",
    "\n",
    "def check_tos(driver):\n",
    "    # anticipates terms of service pop up\n",
    "    driver.implicitly_wait(random.randrange(1,5))\n",
    "    if \"TOS\" in driver.current_url:\n",
    "        try:\n",
    "            WebDriverWait(driver, 10).until(EC.element_to_be_clickable((By.ID, \"SheetContentPlaceHolder_btnYes\"))).click()\n",
    "        except WebDriverException:\n",
    "            return driver\n",
    "        driver.implicitly_wait(3)\n",
    "    return driver\n",
    "\n",
    "def search_case_number(driver: WebDriver, case_number: str) -> webdriver.Chrome:\n",
    "    \"\"\"Goes to search page, upon landing on the search page, this function will navigate the agreement and then enter a case \n",
    "    number to search criminal records and click the submit button.\n",
    "    Be sure to already be on the case search page when you run this function.\"\"\"\n",
    "    driver.get(\"https://cpdocket.cp.cuyahogacounty.us/Search.aspx\") \n",
    "    driver = check_tos(driver)\n",
    "    WebDriverWait(driver, 10).until(\n",
    "        EC.element_to_be_clickable((By.XPATH, \"//*[(@id = 'SheetContentPlaceHolder_rbCrCase')]\"))).click()\n",
    "    driver.implicitly_wait(2)\n",
    "    \n",
    "    if len(driver.find_elements(By.ID, \"SheetContentPlaceHolder_btnYes\")) > 0:\n",
    "        WebDriverWait(driver, 10).until(EC.element_to_be_clickable((By.ID, \"SheetContentPlaceHolder_btnYes\"))).click()\n",
    "        WebDriverWait(driver, 10).until(EC.element_to_be_clickable((By.XPATH, \"//*[(@id = 'SheetContentPlaceHolder_rbCrCase')]\"))).click()\n",
    "        driver.implicitly_wait(3)\n",
    "    \n",
    "    # checks if searching elements are there\n",
    "    if len(driver.find_elements(By.ID, \"SheetContentPlaceHolder_ctl00_gvCaseResults\")) == 0:\n",
    "        text_box = driver.find_element(By.XPATH, \"//input[(@type = 'text')]\")\n",
    "        text_box.clear()\n",
    "        text_box.send_keys(case_number)\n",
    "        WebDriverWait(driver, 10).until(EC.element_to_be_clickable((By.ID, \"SheetContentPlaceHolder_criminalCaseSearch_btnSubmitCase\"))).click()\n",
    "        driver.implicitly_wait(random.randint(4,15))\n",
    "\n",
    "    return driver\n",
    "\n",
    "def get_table(case_number: str, header_xpath: str, data_xpath: str) -> pd.DataFrame:\n",
    "    headers = driver.find_elements(By.XPATH, header_xpath)\n",
    "    data = driver.find_elements(By.XPATH, data_xpath)\n",
    "    data_list = [d.text for d in data]\n",
    "    table = {}\n",
    "    for i, h in enumerate(headers):\n",
    "        table[h.text.upper().strip()]=data_list[i::len(headers)]\n",
    "    df = pd.DataFrame(table)\n",
    "    df[\"CASE_NUMBER\"] = case_number\n",
    "    return df\n",
    "\n",
    "def write_pandas_df_to_db(db, df: pd.DataFrame, table_to_write_to: str):\n",
    "    engine = db.get_bind()\n",
    "    df.columns = df.columns.str.replace(\" \", \"_\")\n",
    "    df.columns = df.columns.str.lower()\n",
    "    df.columns = df.columns.str.replace(\"/\",\"_\")\n",
    "    df.columns = df.columns.str.replace(\".\", \"\")\n",
    "    df.to_sql(table_to_write_to, engine, if_exists=\"append\", index=False)\n",
    "\n",
    "def fetch_case_summary(db, driver) -> str:\n",
    "    \"\"\"commits returns case_number\"\"\"\n",
    "    WebDriverWait(driver,10).until(EC.element_to_be_clickable((By.XPATH, \"//*[(@id = 'SheetContentPlaceHolder_caseSummary_lblCaseNumber')]\")))\n",
    "    case_number = driver.find_element(By.XPATH, \"//*[(@id = 'SheetContentPlaceHolder_caseSummary_lblCaseNumber')]\").text\n",
    "    case_defendant=models.CaseDefendant(\n",
    "        case_number= case_number,\n",
    "        scrape_time=datetime.now(),\n",
    "        status=driver.find_element(By.XPATH, \"//*[(@id = 'SheetContentPlaceHolder_caseSummary_lblCaseStatus')]\").text,\n",
    "        judge_name=driver.find_element(By.XPATH, \"//*[(@id = 'SheetContentPlaceHolder_caseSummary_lblJudgeName')]\").text,\n",
    "        next_event=driver.find_element(By.XPATH, \"//*[(@id = 'SheetContentPlaceHolder_caseSummary_lblNextEvent')]\").text,\n",
    "        arrested_date=driver.find_element(By.XPATH, \"//*[(@id = 'SheetContentPlaceHolder_caseSummary_lblArrested')]\").text,\n",
    "        arresting_agency=driver.find_element(By.XPATH, \"//*[(@id = 'SheetContentPlaceHolder_caseSummary_lblArrestingAgency')]\").text,\n",
    "        arresting_agency_report=driver.find_element(By.XPATH, \"//*[(@id = 'SheetContentPlaceHolder_caseSummary_lblArestingAgencyReport')]\").text,\n",
    "        court_of_appeals_case=driver.find_element(By.XPATH, \"//*[(@id = 'SheetContentPlaceHolder_caseSummary_lblCOACase')]\").text,\n",
    "        date_scraped=datetime.now(),\n",
    "        defendant_id=driver.find_element(By.XPATH, \"//*[(@id = 'SheetContentPlaceHolder_caseSummary_lblNumber')]\").text,\n",
    "        name=driver.find_element(By.XPATH, \"//*[(@id = 'SheetContentPlaceHolder_caseSummary_lblName')]\").text,\n",
    "        defendant_status=driver.find_element(By.XPATH, \"//*[(@id = 'SheetContentPlaceHolder_caseSummary_defStatus_lblDefStatus')]\").text,\n",
    "        date_of_birth=driver.find_element(By.XPATH, \"//*[(@id = 'SheetContentPlaceHolder_caseSummary_lblDOB')]\").text,\n",
    "        race=driver.find_element(By.XPATH, \"//*[(@id = 'SheetContentPlaceHolder_caseSummary_lblRace')]\").text,\n",
    "        sex=driver.find_element(By.XPATH, \"//*[(@id = 'SheetContentPlaceHolder_caseSummary_lblSex')]\").text,\n",
    "        other_cases=driver.find_element(By.XPATH, \"//*[(@id = 'SheetContentPlaceHolder_caseSummary_otherCases_lblOtherCases')]\").text,\n",
    "        co_defendants=driver.find_element(By.XPATH, \"//*[(@id = 'SheetContentPlaceHolder_caseSummary_otherDefs_lblCoDefs')]\").text\n",
    "    ) \n",
    "    db.merge(case_defendant)  \n",
    "    db.commit()\n",
    "    return driver, case_number\n",
    "\n",
    "def fetch_case_summary_tables(db, driver, case_number) -> Tuple[WebDriver, str]:\n",
    "    \"\"\"gets info from case summary page\"\"\"\n",
    "    #additional tables\n",
    "    charge_df = get_table(case_number, \n",
    "                        header_xpath=\"//table[(@id = 'SheetContentPlaceHolder_caseCharges_gvCharges')]//th\", \n",
    "                        data_xpath=\"//table[(@id = 'SheetContentPlaceHolder_caseCharges_gvCharges')]//td\")\n",
    "    write_pandas_df_to_db(db, charge_df, \"charge\")\n",
    "    \n",
    "    bond_df = get_table(case_number, \n",
    "                        header_xpath=\"//table[(@id = 'SheetContentPlaceHolder_caseBondInfo_gvBonds')]//th\", \n",
    "                        data_xpath=\"//table[(@id = 'SheetContentPlaceHolder_caseBondInfo_gvBonds')]//td\")\n",
    "    write_pandas_df_to_db(db, bond_df, \"bond\")\n",
    "    \n",
    "    action_df = get_table(case_number,\n",
    "                        header_xpath=\"//table[(@id = 'SheetContentPlaceHolder_caseActions_gvActions')]//th\",\n",
    "                        data_xpath=\"//table[(@id = 'SheetContentPlaceHolder_caseActions_gvActions')]//td\")\n",
    "    write_pandas_df_to_db(db, action_df, \"action\")\n",
    "    return driver, case_number\n",
    "\n",
    "\n",
    "def fetch_docket_info(db, driver, case_number):\n",
    "    \"\"\"from case summary page, clicks docket, downloads information\"\"\"\n",
    "    WebDriverWait(driver, 10).until(EC.element_to_be_clickable((By.ID, \"SheetContentPlaceHolder_caseHeader_lbDocket\"))).click()\n",
    "    driver = check_tos(driver)\n",
    "    docket_table = get_table(case_number,\n",
    "    header_xpath=\"//table[(@id = 'SheetContentPlaceHolder_caseDocket_gvDocketInformation')]//th\",\n",
    "    data_xpath=\"//table[(@id = 'SheetContentPlaceHolder_caseDocket_gvDocketInformation')]//td\")\n",
    "    docket_table.drop('VIEW IMAGE', axis=1, inplace=True)\n",
    "    write_pandas_df_to_db(db, docket_table, \"docket\")\n",
    "    return driver, case_number\n",
    "\n",
    "def fetch_cost_info(db, driver, case_number):\n",
    "    WebDriverWait(driver, 2).until(EC.element_to_be_clickable((By.ID,\"SheetContentPlaceHolder_caseHeader_lbCosts\"))).click()\n",
    "    # anticipates terms of service\n",
    "    driver = check_tos(driver)\n",
    "    #SheetContentPlaceHolder_caseCosts_gvCosts\n",
    "    cost_table = get_table(case_number, header_xpath=\"//table[(@id = 'SheetContentPlaceHolder_caseCosts_gvCosts')]//th\", data_xpath=\"//table[(@id = 'SheetContentPlaceHolder_caseCosts_gvCosts')]//td\")\n",
    "    cost_table[cost_table[\"ACCOUNT\"].str.contains(\"TOTAL\") == False]\n",
    "    write_pandas_df_to_db(db, cost_table, \"cost\")\n",
    "    return driver, case_number\n",
    "        \n",
    "def fetch_defendant_info(db, driver, case_number):\n",
    "    WebDriverWait(driver, 2).until(EC.element_to_be_clickable((By.ID,\"SheetContentPlaceHolder_caseHeader_lbDefendant\"))).click()\n",
    "    driver = check_tos(driver)\n",
    "    defendent = models.Defendant(\n",
    "        name=driver.find_element(By.XPATH, \"//*[(@id = 'SheetContentPlaceHolder_defGeneral_lblName')]\").text,\n",
    "        id=driver.find_element(By.XPATH, \"//*[(@id = 'SheetContentPlaceHolder_defGeneral_lblDefID')]\").text,\n",
    "        status=driver.find_element(By.XPATH, \"//*[(@id = 'SheetContentPlaceHolder_defGeneral_defStatus_lblDefStatus')]\").text,\n",
    "        marital_status=driver.find_element(By.XPATH, \"//*[(@id = 'SheetContentPlaceHolder_defGeneral_lblMaritalStatus')]\").text,\n",
    "        birth_city=driver.find_element(By.XPATH, \"//*[(@id = 'SheetContentPlaceHolder_defGeneral_lblBirthCity')]\").text,\n",
    "        birth_state=driver.find_element(By.XPATH, \"//*[(@id = 'SheetContentPlaceHolder_defGeneral_lblBirthState')]\").text,\n",
    "        citizenship=driver.find_element(By.XPATH, \"//*[(@id = 'SheetContentPlaceHolder_defGeneral_lblCitizenship')]\").text,\n",
    "        address_1=driver.find_element(By.XPATH, \"//*[(@id = 'SheetContentPlaceHolder_defAddress_lblAddress1')]\").text,\n",
    "        address_2=driver.find_element(By.XPATH, \"//*[(@id = 'SheetContentPlaceHolder_defAddress_lblAddress2')]\").text,\n",
    "        # address_3=driver.find_elements(By.XPATH, \"//*[(@id = 'SheetContentPlaceHolder_defAddress_lblAddress3')]\").text,\n",
    "        city_state_zip=driver.find_element(By.XPATH, \"//*[(@id = 'SheetContentPlaceHolder_defAddress_lblCSZ')]\").text,\n",
    "        race=driver.find_element(By.XPATH, \"//*[(@id = 'SheetContentPlaceHolder_defIDChar_lblRace')]\").text,\n",
    "        height=driver.find_element(By.XPATH, \"//*[(@id = 'SheetContentPlaceHolder_defIDChar_lblHeight')]\").text,\n",
    "        sex=driver.find_element(By.XPATH, \"//*[(@id = 'SheetContentPlaceHolder_defIDChar_lblSex')]\").text,\n",
    "        weight=driver.find_element(By.XPATH, \"//*[(@id = 'SheetContentPlaceHolder_defIDChar_lblWeight')]\").text,\n",
    "        age=driver.find_element(By.XPATH, \"//*[(@id = 'SheetContentPlaceHolder_defIDChar_lblAge')]\").text,\n",
    "        eyes=driver.find_element(By.XPATH, \"//*[(@id = 'SheetContentPlaceHolder_defIDChar_lblEyes')]\").text,\n",
    "        date_of_birth=driver.find_element(By.XPATH, \"//*[(@id = 'SheetContentPlaceHolder_defIDChar_lblDOB')]\").text,\n",
    "        hair=driver.find_element(By.XPATH, \"//*[(@id = 'SheetContentPlaceHolder_defIDChar_lblHair')]\").text,\n",
    "        )\n",
    "    # anticipates terms of service\n",
    "    db.add(defendent)\n",
    "    db.commit()\n",
    "    alias_table = get_table(case_number, header_xpath=\"//table[(@id = 'SheetContentPlaceHolder_defAlias_gvAlias')]//th\", data_xpath=\"//table[(@id = 'SheetContentPlaceHolder_defAlias_gvAlias')]//td\")\n",
    "    alias_table[\"defendant_id\"] = defendent.defendant_id\n",
    "    write_pandas_df_to_db(db, alias_table, \"alias\")\n",
    "    return driver, case_number\n",
    "\n",
    "\n",
    "def get_attorney_table(db, driver, case_number, table_data):\n",
    "    data = driver.find_elements(By.XPATH, table_data)\n",
    "    data_list = [d.text for d in data]\n",
    "    atts = [x for x in list(set(data_list)) if x.count(\"Address/Phone\") ==1 and x.count(\"Attorney Name\") ==1]\n",
    "    attorney_names = [x.split(\"\\nAddress/Phone:\")[0].replace(\"Attorney Name:\", \"\").strip() for x in atts]\n",
    "    attorney_address = [x.split(\"\\nAddress/Phone:\")[1].split(\"\\nPh:\")[0].strip() for x in atts]\n",
    "    attorney_phone = [x.split(\"\\nAddress/Phone:\")[1].split(\"\\nPh:\")[1].strip() for x in atts]\n",
    "    for n, a, p in zip(attorney_names, attorney_address, attorney_phone):\n",
    "        attorney = models.Attorney(\n",
    "            case_number=case_number,\n",
    "            name=n,\n",
    "            address=a,\n",
    "            phone=p\n",
    "        )\n",
    "        db.add(attorney)\n",
    "    db.commit()\n",
    "    return driver\n",
    "\n",
    "def fetch_attorney_info(db, driver, case_number):\n",
    "    WebDriverWait(driver, 2).until(EC.element_to_be_clickable((By.ID,\"SheetContentPlaceHolder_caseHeader_lbAttorney\"))).click()\n",
    "    driver = check_tos(driver)\n",
    "    driver = get_attorney_table(db, driver, case_number, \"//table[(@id='SheetContentPlaceHolder_attyInfo_gvAttyInfo')]//*\")\n",
    "    return driver, case_number\n"
   ]
  },
  {
   "cell_type": "code",
   "execution_count": null,
   "metadata": {},
   "outputs": [],
   "source": []
  }
 ],
 "metadata": {
  "kernelspec": {
   "display_name": "Python 3.10.0 ('.venv': venv)",
   "language": "python",
   "name": "python3"
  },
  "language_info": {
   "codemirror_mode": {
    "name": "ipython",
    "version": 3
   },
   "file_extension": ".py",
   "mimetype": "text/x-python",
   "name": "python",
   "nbconvert_exporter": "python",
   "pygments_lexer": "ipython3",
   "version": "3.10.0"
  },
  "vscode": {
   "interpreter": {
    "hash": "da8c13c39276f1ff4ff53aa12e588860d3000a93f5dfc4cfbf5db1e4ccd5d515"
   }
  }
 },
 "nbformat": 4,
 "nbformat_minor": 4
}
