{
 "cells": [
  {
   "cell_type": "code",
   "execution_count": 1,
   "metadata": {},
   "outputs": [],
   "source": [
    "import sys"
   ]
  },
  {
   "cell_type": "code",
   "execution_count": 2,
   "metadata": {},
   "outputs": [
    {
     "name": "stdout",
     "output_type": "stream",
     "text": [
      "['/Users/nmolivo/Documents/Repos/case_scrape/notebooks', '/Library/Frameworks/Python.framework/Versions/3.10/lib/python310.zip', '/Library/Frameworks/Python.framework/Versions/3.10/lib/python3.10', '/Library/Frameworks/Python.framework/Versions/3.10/lib/python3.10/lib-dynload', '', '/Users/nmolivo/Documents/Repos/case_scrape/.venv/lib/python3.10/site-packages']\n"
     ]
    }
   ],
   "source": [
    "print(sys.path)"
   ]
  },
  {
   "cell_type": "code",
   "execution_count": 3,
   "metadata": {},
   "outputs": [],
   "source": [
    "sys.path.append(\"/Users/nmolivo/Documents/Repos/case_scrape\")"
   ]
  },
  {
   "cell_type": "code",
   "execution_count": 4,
   "metadata": {},
   "outputs": [],
   "source": [
    "import os\n",
    "import pandas as pd\n",
    "from sqlalchemy import create_engine\n",
    "from sqlalchemy.orm import Session, sessionmaker, scoped_session\n",
    "from chromedriver_py import binary_path\n",
    "from datetime import datetime\n",
    "from selenium import webdriver\n",
    "from selenium.webdriver.chrome.options import Options\n",
    "from selenium.webdriver.chrome.webdriver import WebDriver\n",
    "from selenium.webdriver.common.by import By\n",
    "from selenium.webdriver.common.keys import Keys\n",
    "from selenium.common.exceptions import TimeoutException, WebDriverException#, NoSuchElementException\n",
    "from selenium.webdriver.support.ui import WebDriverWait, Select\n",
    "from selenium.webdriver.support import expected_conditions as EC\n",
    "from sqlalchemy.util.compat import contextmanager\n",
    "import random\n",
    "from typing import Tuple\n"
   ]
  },
  {
   "cell_type": "code",
   "execution_count": 5,
   "metadata": {},
   "outputs": [],
   "source": [
    "from case_scrape import models"
   ]
  },
  {
   "cell_type": "code",
   "execution_count": 6,
   "metadata": {},
   "outputs": [],
   "source": [
    "from case_scrape.models import Base\n",
    "from case_scrape.db.db_config import DBConfig\n",
    "\n",
    "\n",
    "def init_db():\n",
    "    db_config = DBConfig(\n",
    "        password=os.getenv(\"DB_PASSWORD\"),\n",
    "        user=os.getenv(\"DB_USER\"),\n",
    "        host=\"cuya-courts.cz4nubeqeyzc.us-east-1.rds.amazonaws.com\"\n",
    "    )\n",
    "    engine = db_config.get_engine()\n",
    "\n",
    "    Base.metadata.create_all(bind=engine, checkfirst=True)\n",
    "\n",
    "    print(\"Initialized the db\")\n",
    "\n",
    "def delete_db():\n",
    "\n",
    "    engine = DBConfig(\n",
    "        password=os.getenv(\"DB_PASSWORD\"),\n",
    "        user=os.getenv(\"DB_USER\")\n",
    "    ).get_engine()\n",
    "\n",
    "    Base.metadata.drop_all(bind=engine)\n",
    "\n",
    "    print(\"Cleared the db\")"
   ]
  },
  {
   "cell_type": "code",
   "execution_count": 9,
   "metadata": {},
   "outputs": [
    {
     "name": "stdout",
     "output_type": "stream",
     "text": [
      "Cleared the db\n"
     ]
    }
   ],
   "source": [
    "delete_db()"
   ]
  },
  {
   "cell_type": "code",
   "execution_count": 8,
   "metadata": {},
   "outputs": [
    {
     "ename": "OperationalError",
     "evalue": "(psycopg2.OperationalError) connection to server at \"cuya-courts.cz4nubeqeyzc.us-east-1.rds.amazonaws.com\" (52.202.190.210), port 5432 failed: Operation timed out\n\tIs the server running on that host and accepting TCP/IP connections?\n\n(Background on this error at: https://sqlalche.me/e/14/e3q8)",
     "output_type": "error",
     "traceback": [
      "\u001b[0;31m---------------------------------------------------------------------------\u001b[0m",
      "\u001b[0;31mOperationalError\u001b[0m                          Traceback (most recent call last)",
      "File \u001b[0;32m~/Documents/Repos/case_scrape/.venv/lib/python3.10/site-packages/sqlalchemy/engine/base.py:3361\u001b[0m, in \u001b[0;36mEngine._wrap_pool_connect\u001b[0;34m(self, fn, connection)\u001b[0m\n\u001b[1;32m   3360\u001b[0m \u001b[39mtry\u001b[39;00m:\n\u001b[0;32m-> 3361\u001b[0m     \u001b[39mreturn\u001b[39;00m fn()\n\u001b[1;32m   3362\u001b[0m \u001b[39mexcept\u001b[39;00m dialect\u001b[39m.\u001b[39mdbapi\u001b[39m.\u001b[39mError \u001b[39mas\u001b[39;00m e:\n",
      "File \u001b[0;32m~/Documents/Repos/case_scrape/.venv/lib/python3.10/site-packages/sqlalchemy/pool/base.py:310\u001b[0m, in \u001b[0;36mPool.connect\u001b[0;34m(self)\u001b[0m\n\u001b[1;32m    303\u001b[0m \u001b[39m\"\"\"Return a DBAPI connection from the pool.\u001b[39;00m\n\u001b[1;32m    304\u001b[0m \n\u001b[1;32m    305\u001b[0m \u001b[39mThe connection is instrumented such that when its\u001b[39;00m\n\u001b[0;32m   (...)\u001b[0m\n\u001b[1;32m    308\u001b[0m \n\u001b[1;32m    309\u001b[0m \u001b[39m\"\"\"\u001b[39;00m\n\u001b[0;32m--> 310\u001b[0m \u001b[39mreturn\u001b[39;00m _ConnectionFairy\u001b[39m.\u001b[39;49m_checkout(\u001b[39mself\u001b[39;49m)\n",
      "File \u001b[0;32m~/Documents/Repos/case_scrape/.venv/lib/python3.10/site-packages/sqlalchemy/pool/base.py:868\u001b[0m, in \u001b[0;36m_ConnectionFairy._checkout\u001b[0;34m(cls, pool, threadconns, fairy)\u001b[0m\n\u001b[1;32m    867\u001b[0m \u001b[39mif\u001b[39;00m \u001b[39mnot\u001b[39;00m fairy:\n\u001b[0;32m--> 868\u001b[0m     fairy \u001b[39m=\u001b[39m _ConnectionRecord\u001b[39m.\u001b[39;49mcheckout(pool)\n\u001b[1;32m    870\u001b[0m     fairy\u001b[39m.\u001b[39m_pool \u001b[39m=\u001b[39m pool\n",
      "File \u001b[0;32m~/Documents/Repos/case_scrape/.venv/lib/python3.10/site-packages/sqlalchemy/pool/base.py:476\u001b[0m, in \u001b[0;36m_ConnectionRecord.checkout\u001b[0;34m(cls, pool)\u001b[0m\n\u001b[1;32m    474\u001b[0m \u001b[39m@classmethod\u001b[39m\n\u001b[1;32m    475\u001b[0m \u001b[39mdef\u001b[39;00m \u001b[39mcheckout\u001b[39m(\u001b[39mcls\u001b[39m, pool):\n\u001b[0;32m--> 476\u001b[0m     rec \u001b[39m=\u001b[39m pool\u001b[39m.\u001b[39;49m_do_get()\n\u001b[1;32m    477\u001b[0m     \u001b[39mtry\u001b[39;00m:\n",
      "File \u001b[0;32m~/Documents/Repos/case_scrape/.venv/lib/python3.10/site-packages/sqlalchemy/pool/impl.py:145\u001b[0m, in \u001b[0;36mQueuePool._do_get\u001b[0;34m(self)\u001b[0m\n\u001b[1;32m    144\u001b[0m \u001b[39mexcept\u001b[39;00m:\n\u001b[0;32m--> 145\u001b[0m     \u001b[39mwith\u001b[39;00m util\u001b[39m.\u001b[39msafe_reraise():\n\u001b[1;32m    146\u001b[0m         \u001b[39mself\u001b[39m\u001b[39m.\u001b[39m_dec_overflow()\n",
      "File \u001b[0;32m~/Documents/Repos/case_scrape/.venv/lib/python3.10/site-packages/sqlalchemy/util/langhelpers.py:70\u001b[0m, in \u001b[0;36msafe_reraise.__exit__\u001b[0;34m(self, type_, value, traceback)\u001b[0m\n\u001b[1;32m     69\u001b[0m     \u001b[39mif\u001b[39;00m \u001b[39mnot\u001b[39;00m \u001b[39mself\u001b[39m\u001b[39m.\u001b[39mwarn_only:\n\u001b[0;32m---> 70\u001b[0m         compat\u001b[39m.\u001b[39;49mraise_(\n\u001b[1;32m     71\u001b[0m             exc_value,\n\u001b[1;32m     72\u001b[0m             with_traceback\u001b[39m=\u001b[39;49mexc_tb,\n\u001b[1;32m     73\u001b[0m         )\n\u001b[1;32m     74\u001b[0m \u001b[39melse\u001b[39;00m:\n",
      "File \u001b[0;32m~/Documents/Repos/case_scrape/.venv/lib/python3.10/site-packages/sqlalchemy/util/compat.py:208\u001b[0m, in \u001b[0;36mraise_\u001b[0;34m(***failed resolving arguments***)\u001b[0m\n\u001b[1;32m    207\u001b[0m \u001b[39mtry\u001b[39;00m:\n\u001b[0;32m--> 208\u001b[0m     \u001b[39mraise\u001b[39;00m exception\n\u001b[1;32m    209\u001b[0m \u001b[39mfinally\u001b[39;00m:\n\u001b[1;32m    210\u001b[0m     \u001b[39m# credit to\u001b[39;00m\n\u001b[1;32m    211\u001b[0m     \u001b[39m# https://cosmicpercolator.com/2016/01/13/exception-leaks-in-python-2-and-3/\u001b[39;00m\n\u001b[1;32m    212\u001b[0m     \u001b[39m# as the __traceback__ object creates a cycle\u001b[39;00m\n",
      "File \u001b[0;32m~/Documents/Repos/case_scrape/.venv/lib/python3.10/site-packages/sqlalchemy/pool/impl.py:143\u001b[0m, in \u001b[0;36mQueuePool._do_get\u001b[0;34m(self)\u001b[0m\n\u001b[1;32m    142\u001b[0m \u001b[39mtry\u001b[39;00m:\n\u001b[0;32m--> 143\u001b[0m     \u001b[39mreturn\u001b[39;00m \u001b[39mself\u001b[39;49m\u001b[39m.\u001b[39;49m_create_connection()\n\u001b[1;32m    144\u001b[0m \u001b[39mexcept\u001b[39;00m:\n",
      "File \u001b[0;32m~/Documents/Repos/case_scrape/.venv/lib/python3.10/site-packages/sqlalchemy/pool/base.py:256\u001b[0m, in \u001b[0;36mPool._create_connection\u001b[0;34m(self)\u001b[0m\n\u001b[1;32m    254\u001b[0m \u001b[39m\"\"\"Called by subclasses to create a new ConnectionRecord.\"\"\"\u001b[39;00m\n\u001b[0;32m--> 256\u001b[0m \u001b[39mreturn\u001b[39;00m _ConnectionRecord(\u001b[39mself\u001b[39;49m)\n",
      "File \u001b[0;32m~/Documents/Repos/case_scrape/.venv/lib/python3.10/site-packages/sqlalchemy/pool/base.py:371\u001b[0m, in \u001b[0;36m_ConnectionRecord.__init__\u001b[0;34m(self, pool, connect)\u001b[0m\n\u001b[1;32m    370\u001b[0m \u001b[39mif\u001b[39;00m connect:\n\u001b[0;32m--> 371\u001b[0m     \u001b[39mself\u001b[39;49m\u001b[39m.\u001b[39;49m__connect()\n\u001b[1;32m    372\u001b[0m \u001b[39mself\u001b[39m\u001b[39m.\u001b[39mfinalize_callback \u001b[39m=\u001b[39m deque()\n",
      "File \u001b[0;32m~/Documents/Repos/case_scrape/.venv/lib/python3.10/site-packages/sqlalchemy/pool/base.py:665\u001b[0m, in \u001b[0;36m_ConnectionRecord.__connect\u001b[0;34m(self)\u001b[0m\n\u001b[1;32m    664\u001b[0m \u001b[39mexcept\u001b[39;00m \u001b[39mException\u001b[39;00m \u001b[39mas\u001b[39;00m e:\n\u001b[0;32m--> 665\u001b[0m     \u001b[39mwith\u001b[39;00m util\u001b[39m.\u001b[39msafe_reraise():\n\u001b[1;32m    666\u001b[0m         pool\u001b[39m.\u001b[39mlogger\u001b[39m.\u001b[39mdebug(\u001b[39m\"\u001b[39m\u001b[39mError on connect(): \u001b[39m\u001b[39m%s\u001b[39;00m\u001b[39m\"\u001b[39m, e)\n",
      "File \u001b[0;32m~/Documents/Repos/case_scrape/.venv/lib/python3.10/site-packages/sqlalchemy/util/langhelpers.py:70\u001b[0m, in \u001b[0;36msafe_reraise.__exit__\u001b[0;34m(self, type_, value, traceback)\u001b[0m\n\u001b[1;32m     69\u001b[0m     \u001b[39mif\u001b[39;00m \u001b[39mnot\u001b[39;00m \u001b[39mself\u001b[39m\u001b[39m.\u001b[39mwarn_only:\n\u001b[0;32m---> 70\u001b[0m         compat\u001b[39m.\u001b[39;49mraise_(\n\u001b[1;32m     71\u001b[0m             exc_value,\n\u001b[1;32m     72\u001b[0m             with_traceback\u001b[39m=\u001b[39;49mexc_tb,\n\u001b[1;32m     73\u001b[0m         )\n\u001b[1;32m     74\u001b[0m \u001b[39melse\u001b[39;00m:\n",
      "File \u001b[0;32m~/Documents/Repos/case_scrape/.venv/lib/python3.10/site-packages/sqlalchemy/util/compat.py:208\u001b[0m, in \u001b[0;36mraise_\u001b[0;34m(***failed resolving arguments***)\u001b[0m\n\u001b[1;32m    207\u001b[0m \u001b[39mtry\u001b[39;00m:\n\u001b[0;32m--> 208\u001b[0m     \u001b[39mraise\u001b[39;00m exception\n\u001b[1;32m    209\u001b[0m \u001b[39mfinally\u001b[39;00m:\n\u001b[1;32m    210\u001b[0m     \u001b[39m# credit to\u001b[39;00m\n\u001b[1;32m    211\u001b[0m     \u001b[39m# https://cosmicpercolator.com/2016/01/13/exception-leaks-in-python-2-and-3/\u001b[39;00m\n\u001b[1;32m    212\u001b[0m     \u001b[39m# as the __traceback__ object creates a cycle\u001b[39;00m\n",
      "File \u001b[0;32m~/Documents/Repos/case_scrape/.venv/lib/python3.10/site-packages/sqlalchemy/pool/base.py:661\u001b[0m, in \u001b[0;36m_ConnectionRecord.__connect\u001b[0;34m(self)\u001b[0m\n\u001b[1;32m    660\u001b[0m \u001b[39mself\u001b[39m\u001b[39m.\u001b[39mstarttime \u001b[39m=\u001b[39m time\u001b[39m.\u001b[39mtime()\n\u001b[0;32m--> 661\u001b[0m \u001b[39mself\u001b[39m\u001b[39m.\u001b[39mdbapi_connection \u001b[39m=\u001b[39m connection \u001b[39m=\u001b[39m pool\u001b[39m.\u001b[39;49m_invoke_creator(\u001b[39mself\u001b[39;49m)\n\u001b[1;32m    662\u001b[0m pool\u001b[39m.\u001b[39mlogger\u001b[39m.\u001b[39mdebug(\u001b[39m\"\u001b[39m\u001b[39mCreated new connection \u001b[39m\u001b[39m%r\u001b[39;00m\u001b[39m\"\u001b[39m, connection)\n",
      "File \u001b[0;32m~/Documents/Repos/case_scrape/.venv/lib/python3.10/site-packages/sqlalchemy/engine/create.py:578\u001b[0m, in \u001b[0;36mcreate_engine.<locals>.connect\u001b[0;34m(connection_record)\u001b[0m\n\u001b[1;32m    577\u001b[0m             \u001b[39mreturn\u001b[39;00m connection\n\u001b[0;32m--> 578\u001b[0m \u001b[39mreturn\u001b[39;00m dialect\u001b[39m.\u001b[39;49mconnect(\u001b[39m*\u001b[39;49mcargs, \u001b[39m*\u001b[39;49m\u001b[39m*\u001b[39;49mcparams)\n",
      "File \u001b[0;32m~/Documents/Repos/case_scrape/.venv/lib/python3.10/site-packages/sqlalchemy/engine/default.py:597\u001b[0m, in \u001b[0;36mDefaultDialect.connect\u001b[0;34m(self, *cargs, **cparams)\u001b[0m\n\u001b[1;32m    595\u001b[0m \u001b[39mdef\u001b[39;00m \u001b[39mconnect\u001b[39m(\u001b[39mself\u001b[39m, \u001b[39m*\u001b[39mcargs, \u001b[39m*\u001b[39m\u001b[39m*\u001b[39mcparams):\n\u001b[1;32m    596\u001b[0m     \u001b[39m# inherits the docstring from interfaces.Dialect.connect\u001b[39;00m\n\u001b[0;32m--> 597\u001b[0m     \u001b[39mreturn\u001b[39;00m \u001b[39mself\u001b[39;49m\u001b[39m.\u001b[39;49mdbapi\u001b[39m.\u001b[39;49mconnect(\u001b[39m*\u001b[39;49mcargs, \u001b[39m*\u001b[39;49m\u001b[39m*\u001b[39;49mcparams)\n",
      "File \u001b[0;32m~/Documents/Repos/case_scrape/.venv/lib/python3.10/site-packages/psycopg2/__init__.py:122\u001b[0m, in \u001b[0;36mconnect\u001b[0;34m(dsn, connection_factory, cursor_factory, **kwargs)\u001b[0m\n\u001b[1;32m    121\u001b[0m dsn \u001b[39m=\u001b[39m _ext\u001b[39m.\u001b[39mmake_dsn(dsn, \u001b[39m*\u001b[39m\u001b[39m*\u001b[39mkwargs)\n\u001b[0;32m--> 122\u001b[0m conn \u001b[39m=\u001b[39m _connect(dsn, connection_factory\u001b[39m=\u001b[39;49mconnection_factory, \u001b[39m*\u001b[39;49m\u001b[39m*\u001b[39;49mkwasync)\n\u001b[1;32m    123\u001b[0m \u001b[39mif\u001b[39;00m cursor_factory \u001b[39mis\u001b[39;00m \u001b[39mnot\u001b[39;00m \u001b[39mNone\u001b[39;00m:\n",
      "\u001b[0;31mOperationalError\u001b[0m: connection to server at \"cuya-courts.cz4nubeqeyzc.us-east-1.rds.amazonaws.com\" (52.202.190.210), port 5432 failed: Operation timed out\n\tIs the server running on that host and accepting TCP/IP connections?\n",
      "\nThe above exception was the direct cause of the following exception:\n",
      "\u001b[0;31mOperationalError\u001b[0m                          Traceback (most recent call last)",
      "Cell \u001b[0;32mIn [8], line 1\u001b[0m\n\u001b[0;32m----> 1\u001b[0m init_db()\n",
      "Cell \u001b[0;32mIn [6], line 13\u001b[0m, in \u001b[0;36minit_db\u001b[0;34m()\u001b[0m\n\u001b[1;32m      6\u001b[0m db_config \u001b[39m=\u001b[39m DBConfig(\n\u001b[1;32m      7\u001b[0m     password\u001b[39m=\u001b[39mos\u001b[39m.\u001b[39mgetenv(\u001b[39m\"\u001b[39m\u001b[39mDB_PASSWORD\u001b[39m\u001b[39m\"\u001b[39m),\n\u001b[1;32m      8\u001b[0m     user\u001b[39m=\u001b[39mos\u001b[39m.\u001b[39mgetenv(\u001b[39m\"\u001b[39m\u001b[39mDB_USER\u001b[39m\u001b[39m\"\u001b[39m),\n\u001b[1;32m      9\u001b[0m     host\u001b[39m=\u001b[39m\u001b[39m\"\u001b[39m\u001b[39mcuya-courts.cz4nubeqeyzc.us-east-1.rds.amazonaws.com\u001b[39m\u001b[39m\"\u001b[39m\n\u001b[1;32m     10\u001b[0m )\n\u001b[1;32m     11\u001b[0m engine \u001b[39m=\u001b[39m db_config\u001b[39m.\u001b[39mget_engine()\n\u001b[0;32m---> 13\u001b[0m Base\u001b[39m.\u001b[39;49mmetadata\u001b[39m.\u001b[39;49mcreate_all(bind\u001b[39m=\u001b[39;49mengine)\n\u001b[1;32m     15\u001b[0m \u001b[39mprint\u001b[39m(\u001b[39m\"\u001b[39m\u001b[39mInitialized the db\u001b[39m\u001b[39m\"\u001b[39m)\n",
      "File \u001b[0;32m~/Documents/Repos/case_scrape/.venv/lib/python3.10/site-packages/sqlalchemy/sql/schema.py:4917\u001b[0m, in \u001b[0;36mMetaData.create_all\u001b[0;34m(self, bind, tables, checkfirst)\u001b[0m\n\u001b[1;32m   4915\u001b[0m \u001b[39mif\u001b[39;00m bind \u001b[39mis\u001b[39;00m \u001b[39mNone\u001b[39;00m:\n\u001b[1;32m   4916\u001b[0m     bind \u001b[39m=\u001b[39m _bind_or_error(\u001b[39mself\u001b[39m)\n\u001b[0;32m-> 4917\u001b[0m bind\u001b[39m.\u001b[39;49m_run_ddl_visitor(\n\u001b[1;32m   4918\u001b[0m     ddl\u001b[39m.\u001b[39;49mSchemaGenerator, \u001b[39mself\u001b[39;49m, checkfirst\u001b[39m=\u001b[39;49mcheckfirst, tables\u001b[39m=\u001b[39;49mtables\n\u001b[1;32m   4919\u001b[0m )\n",
      "File \u001b[0;32m~/Documents/Repos/case_scrape/.venv/lib/python3.10/site-packages/sqlalchemy/engine/base.py:3227\u001b[0m, in \u001b[0;36mEngine._run_ddl_visitor\u001b[0;34m(self, visitorcallable, element, **kwargs)\u001b[0m\n\u001b[1;32m   3226\u001b[0m \u001b[39mdef\u001b[39;00m \u001b[39m_run_ddl_visitor\u001b[39m(\u001b[39mself\u001b[39m, visitorcallable, element, \u001b[39m*\u001b[39m\u001b[39m*\u001b[39mkwargs):\n\u001b[0;32m-> 3227\u001b[0m     \u001b[39mwith\u001b[39;00m \u001b[39mself\u001b[39;49m\u001b[39m.\u001b[39;49mbegin() \u001b[39mas\u001b[39;00m conn:\n\u001b[1;32m   3228\u001b[0m         conn\u001b[39m.\u001b[39m_run_ddl_visitor(visitorcallable, element, \u001b[39m*\u001b[39m\u001b[39m*\u001b[39mkwargs)\n",
      "File \u001b[0;32m~/Documents/Repos/case_scrape/.venv/lib/python3.10/site-packages/sqlalchemy/engine/base.py:3143\u001b[0m, in \u001b[0;36mEngine.begin\u001b[0;34m(self, close_with_result)\u001b[0m\n\u001b[1;32m   3141\u001b[0m     conn \u001b[39m=\u001b[39m \u001b[39mself\u001b[39m\u001b[39m.\u001b[39mconnect()\n\u001b[1;32m   3142\u001b[0m \u001b[39melse\u001b[39;00m:\n\u001b[0;32m-> 3143\u001b[0m     conn \u001b[39m=\u001b[39m \u001b[39mself\u001b[39;49m\u001b[39m.\u001b[39;49mconnect(close_with_result\u001b[39m=\u001b[39;49mclose_with_result)\n\u001b[1;32m   3144\u001b[0m \u001b[39mtry\u001b[39;00m:\n\u001b[1;32m   3145\u001b[0m     trans \u001b[39m=\u001b[39m conn\u001b[39m.\u001b[39mbegin()\n",
      "File \u001b[0;32m~/Documents/Repos/case_scrape/.venv/lib/python3.10/site-packages/sqlalchemy/engine/base.py:3315\u001b[0m, in \u001b[0;36mEngine.connect\u001b[0;34m(self, close_with_result)\u001b[0m\n\u001b[1;32m   3300\u001b[0m \u001b[39mdef\u001b[39;00m \u001b[39mconnect\u001b[39m(\u001b[39mself\u001b[39m, close_with_result\u001b[39m=\u001b[39m\u001b[39mFalse\u001b[39;00m):\n\u001b[1;32m   3301\u001b[0m     \u001b[39m\"\"\"Return a new :class:`_engine.Connection` object.\u001b[39;00m\n\u001b[1;32m   3302\u001b[0m \n\u001b[1;32m   3303\u001b[0m \u001b[39m    The :class:`_engine.Connection` object is a facade that uses a DBAPI\u001b[39;00m\n\u001b[0;32m   (...)\u001b[0m\n\u001b[1;32m   3312\u001b[0m \n\u001b[1;32m   3313\u001b[0m \u001b[39m    \"\"\"\u001b[39;00m\n\u001b[0;32m-> 3315\u001b[0m     \u001b[39mreturn\u001b[39;00m \u001b[39mself\u001b[39;49m\u001b[39m.\u001b[39;49m_connection_cls(\u001b[39mself\u001b[39;49m, close_with_result\u001b[39m=\u001b[39;49mclose_with_result)\n",
      "File \u001b[0;32m~/Documents/Repos/case_scrape/.venv/lib/python3.10/site-packages/sqlalchemy/engine/base.py:96\u001b[0m, in \u001b[0;36mConnection.__init__\u001b[0;34m(self, engine, connection, close_with_result, _branch_from, _execution_options, _dispatch, _has_events, _allow_revalidate)\u001b[0m\n\u001b[1;32m     91\u001b[0m     \u001b[39mself\u001b[39m\u001b[39m.\u001b[39m_has_events \u001b[39m=\u001b[39m _branch_from\u001b[39m.\u001b[39m_has_events\n\u001b[1;32m     92\u001b[0m \u001b[39melse\u001b[39;00m:\n\u001b[1;32m     93\u001b[0m     \u001b[39mself\u001b[39m\u001b[39m.\u001b[39m_dbapi_connection \u001b[39m=\u001b[39m (\n\u001b[1;32m     94\u001b[0m         connection\n\u001b[1;32m     95\u001b[0m         \u001b[39mif\u001b[39;00m connection \u001b[39mis\u001b[39;00m \u001b[39mnot\u001b[39;00m \u001b[39mNone\u001b[39;00m\n\u001b[0;32m---> 96\u001b[0m         \u001b[39melse\u001b[39;00m engine\u001b[39m.\u001b[39;49mraw_connection()\n\u001b[1;32m     97\u001b[0m     )\n\u001b[1;32m     99\u001b[0m     \u001b[39mself\u001b[39m\u001b[39m.\u001b[39m_transaction \u001b[39m=\u001b[39m \u001b[39mself\u001b[39m\u001b[39m.\u001b[39m_nested_transaction \u001b[39m=\u001b[39m \u001b[39mNone\u001b[39;00m\n\u001b[1;32m    100\u001b[0m     \u001b[39mself\u001b[39m\u001b[39m.\u001b[39m__savepoint_seq \u001b[39m=\u001b[39m \u001b[39m0\u001b[39m\n",
      "File \u001b[0;32m~/Documents/Repos/case_scrape/.venv/lib/python3.10/site-packages/sqlalchemy/engine/base.py:3394\u001b[0m, in \u001b[0;36mEngine.raw_connection\u001b[0;34m(self, _connection)\u001b[0m\n\u001b[1;32m   3372\u001b[0m \u001b[39mdef\u001b[39;00m \u001b[39mraw_connection\u001b[39m(\u001b[39mself\u001b[39m, _connection\u001b[39m=\u001b[39m\u001b[39mNone\u001b[39;00m):\n\u001b[1;32m   3373\u001b[0m     \u001b[39m\"\"\"Return a \"raw\" DBAPI connection from the connection pool.\u001b[39;00m\n\u001b[1;32m   3374\u001b[0m \n\u001b[1;32m   3375\u001b[0m \u001b[39m    The returned object is a proxied version of the DBAPI\u001b[39;00m\n\u001b[0;32m   (...)\u001b[0m\n\u001b[1;32m   3392\u001b[0m \n\u001b[1;32m   3393\u001b[0m \u001b[39m    \"\"\"\u001b[39;00m\n\u001b[0;32m-> 3394\u001b[0m     \u001b[39mreturn\u001b[39;00m \u001b[39mself\u001b[39;49m\u001b[39m.\u001b[39;49m_wrap_pool_connect(\u001b[39mself\u001b[39;49m\u001b[39m.\u001b[39;49mpool\u001b[39m.\u001b[39;49mconnect, _connection)\n",
      "File \u001b[0;32m~/Documents/Repos/case_scrape/.venv/lib/python3.10/site-packages/sqlalchemy/engine/base.py:3364\u001b[0m, in \u001b[0;36mEngine._wrap_pool_connect\u001b[0;34m(self, fn, connection)\u001b[0m\n\u001b[1;32m   3362\u001b[0m \u001b[39mexcept\u001b[39;00m dialect\u001b[39m.\u001b[39mdbapi\u001b[39m.\u001b[39mError \u001b[39mas\u001b[39;00m e:\n\u001b[1;32m   3363\u001b[0m     \u001b[39mif\u001b[39;00m connection \u001b[39mis\u001b[39;00m \u001b[39mNone\u001b[39;00m:\n\u001b[0;32m-> 3364\u001b[0m         Connection\u001b[39m.\u001b[39;49m_handle_dbapi_exception_noconnection(\n\u001b[1;32m   3365\u001b[0m             e, dialect, \u001b[39mself\u001b[39;49m\n\u001b[1;32m   3366\u001b[0m         )\n\u001b[1;32m   3367\u001b[0m     \u001b[39melse\u001b[39;00m:\n\u001b[1;32m   3368\u001b[0m         util\u001b[39m.\u001b[39mraise_(\n\u001b[1;32m   3369\u001b[0m             sys\u001b[39m.\u001b[39mexc_info()[\u001b[39m1\u001b[39m], with_traceback\u001b[39m=\u001b[39msys\u001b[39m.\u001b[39mexc_info()[\u001b[39m2\u001b[39m]\n\u001b[1;32m   3370\u001b[0m         )\n",
      "File \u001b[0;32m~/Documents/Repos/case_scrape/.venv/lib/python3.10/site-packages/sqlalchemy/engine/base.py:2198\u001b[0m, in \u001b[0;36mConnection._handle_dbapi_exception_noconnection\u001b[0;34m(cls, e, dialect, engine)\u001b[0m\n\u001b[1;32m   2196\u001b[0m     util\u001b[39m.\u001b[39mraise_(newraise, with_traceback\u001b[39m=\u001b[39mexc_info[\u001b[39m2\u001b[39m], from_\u001b[39m=\u001b[39me)\n\u001b[1;32m   2197\u001b[0m \u001b[39melif\u001b[39;00m should_wrap:\n\u001b[0;32m-> 2198\u001b[0m     util\u001b[39m.\u001b[39;49mraise_(\n\u001b[1;32m   2199\u001b[0m         sqlalchemy_exception, with_traceback\u001b[39m=\u001b[39;49mexc_info[\u001b[39m2\u001b[39;49m], from_\u001b[39m=\u001b[39;49me\n\u001b[1;32m   2200\u001b[0m     )\n\u001b[1;32m   2201\u001b[0m \u001b[39melse\u001b[39;00m:\n\u001b[1;32m   2202\u001b[0m     util\u001b[39m.\u001b[39mraise_(exc_info[\u001b[39m1\u001b[39m], with_traceback\u001b[39m=\u001b[39mexc_info[\u001b[39m2\u001b[39m])\n",
      "File \u001b[0;32m~/Documents/Repos/case_scrape/.venv/lib/python3.10/site-packages/sqlalchemy/util/compat.py:208\u001b[0m, in \u001b[0;36mraise_\u001b[0;34m(***failed resolving arguments***)\u001b[0m\n\u001b[1;32m    205\u001b[0m     exception\u001b[39m.\u001b[39m__cause__ \u001b[39m=\u001b[39m replace_context\n\u001b[1;32m    207\u001b[0m \u001b[39mtry\u001b[39;00m:\n\u001b[0;32m--> 208\u001b[0m     \u001b[39mraise\u001b[39;00m exception\n\u001b[1;32m    209\u001b[0m \u001b[39mfinally\u001b[39;00m:\n\u001b[1;32m    210\u001b[0m     \u001b[39m# credit to\u001b[39;00m\n\u001b[1;32m    211\u001b[0m     \u001b[39m# https://cosmicpercolator.com/2016/01/13/exception-leaks-in-python-2-and-3/\u001b[39;00m\n\u001b[1;32m    212\u001b[0m     \u001b[39m# as the __traceback__ object creates a cycle\u001b[39;00m\n\u001b[1;32m    213\u001b[0m     \u001b[39mdel\u001b[39;00m exception, replace_context, from_, with_traceback\n",
      "File \u001b[0;32m~/Documents/Repos/case_scrape/.venv/lib/python3.10/site-packages/sqlalchemy/engine/base.py:3361\u001b[0m, in \u001b[0;36mEngine._wrap_pool_connect\u001b[0;34m(self, fn, connection)\u001b[0m\n\u001b[1;32m   3359\u001b[0m dialect \u001b[39m=\u001b[39m \u001b[39mself\u001b[39m\u001b[39m.\u001b[39mdialect\n\u001b[1;32m   3360\u001b[0m \u001b[39mtry\u001b[39;00m:\n\u001b[0;32m-> 3361\u001b[0m     \u001b[39mreturn\u001b[39;00m fn()\n\u001b[1;32m   3362\u001b[0m \u001b[39mexcept\u001b[39;00m dialect\u001b[39m.\u001b[39mdbapi\u001b[39m.\u001b[39mError \u001b[39mas\u001b[39;00m e:\n\u001b[1;32m   3363\u001b[0m     \u001b[39mif\u001b[39;00m connection \u001b[39mis\u001b[39;00m \u001b[39mNone\u001b[39;00m:\n",
      "File \u001b[0;32m~/Documents/Repos/case_scrape/.venv/lib/python3.10/site-packages/sqlalchemy/pool/base.py:310\u001b[0m, in \u001b[0;36mPool.connect\u001b[0;34m(self)\u001b[0m\n\u001b[1;32m    302\u001b[0m \u001b[39mdef\u001b[39;00m \u001b[39mconnect\u001b[39m(\u001b[39mself\u001b[39m):\n\u001b[1;32m    303\u001b[0m     \u001b[39m\"\"\"Return a DBAPI connection from the pool.\u001b[39;00m\n\u001b[1;32m    304\u001b[0m \n\u001b[1;32m    305\u001b[0m \u001b[39m    The connection is instrumented such that when its\u001b[39;00m\n\u001b[0;32m   (...)\u001b[0m\n\u001b[1;32m    308\u001b[0m \n\u001b[1;32m    309\u001b[0m \u001b[39m    \"\"\"\u001b[39;00m\n\u001b[0;32m--> 310\u001b[0m     \u001b[39mreturn\u001b[39;00m _ConnectionFairy\u001b[39m.\u001b[39;49m_checkout(\u001b[39mself\u001b[39;49m)\n",
      "File \u001b[0;32m~/Documents/Repos/case_scrape/.venv/lib/python3.10/site-packages/sqlalchemy/pool/base.py:868\u001b[0m, in \u001b[0;36m_ConnectionFairy._checkout\u001b[0;34m(cls, pool, threadconns, fairy)\u001b[0m\n\u001b[1;32m    865\u001b[0m \u001b[39m@classmethod\u001b[39m\n\u001b[1;32m    866\u001b[0m \u001b[39mdef\u001b[39;00m \u001b[39m_checkout\u001b[39m(\u001b[39mcls\u001b[39m, pool, threadconns\u001b[39m=\u001b[39m\u001b[39mNone\u001b[39;00m, fairy\u001b[39m=\u001b[39m\u001b[39mNone\u001b[39;00m):\n\u001b[1;32m    867\u001b[0m     \u001b[39mif\u001b[39;00m \u001b[39mnot\u001b[39;00m fairy:\n\u001b[0;32m--> 868\u001b[0m         fairy \u001b[39m=\u001b[39m _ConnectionRecord\u001b[39m.\u001b[39;49mcheckout(pool)\n\u001b[1;32m    870\u001b[0m         fairy\u001b[39m.\u001b[39m_pool \u001b[39m=\u001b[39m pool\n\u001b[1;32m    871\u001b[0m         fairy\u001b[39m.\u001b[39m_counter \u001b[39m=\u001b[39m \u001b[39m0\u001b[39m\n",
      "File \u001b[0;32m~/Documents/Repos/case_scrape/.venv/lib/python3.10/site-packages/sqlalchemy/pool/base.py:476\u001b[0m, in \u001b[0;36m_ConnectionRecord.checkout\u001b[0;34m(cls, pool)\u001b[0m\n\u001b[1;32m    474\u001b[0m \u001b[39m@classmethod\u001b[39m\n\u001b[1;32m    475\u001b[0m \u001b[39mdef\u001b[39;00m \u001b[39mcheckout\u001b[39m(\u001b[39mcls\u001b[39m, pool):\n\u001b[0;32m--> 476\u001b[0m     rec \u001b[39m=\u001b[39m pool\u001b[39m.\u001b[39;49m_do_get()\n\u001b[1;32m    477\u001b[0m     \u001b[39mtry\u001b[39;00m:\n\u001b[1;32m    478\u001b[0m         dbapi_connection \u001b[39m=\u001b[39m rec\u001b[39m.\u001b[39mget_connection()\n",
      "File \u001b[0;32m~/Documents/Repos/case_scrape/.venv/lib/python3.10/site-packages/sqlalchemy/pool/impl.py:145\u001b[0m, in \u001b[0;36mQueuePool._do_get\u001b[0;34m(self)\u001b[0m\n\u001b[1;32m    143\u001b[0m         \u001b[39mreturn\u001b[39;00m \u001b[39mself\u001b[39m\u001b[39m.\u001b[39m_create_connection()\n\u001b[1;32m    144\u001b[0m     \u001b[39mexcept\u001b[39;00m:\n\u001b[0;32m--> 145\u001b[0m         \u001b[39mwith\u001b[39;00m util\u001b[39m.\u001b[39msafe_reraise():\n\u001b[1;32m    146\u001b[0m             \u001b[39mself\u001b[39m\u001b[39m.\u001b[39m_dec_overflow()\n\u001b[1;32m    147\u001b[0m \u001b[39melse\u001b[39;00m:\n",
      "File \u001b[0;32m~/Documents/Repos/case_scrape/.venv/lib/python3.10/site-packages/sqlalchemy/util/langhelpers.py:70\u001b[0m, in \u001b[0;36msafe_reraise.__exit__\u001b[0;34m(self, type_, value, traceback)\u001b[0m\n\u001b[1;32m     68\u001b[0m     \u001b[39mself\u001b[39m\u001b[39m.\u001b[39m_exc_info \u001b[39m=\u001b[39m \u001b[39mNone\u001b[39;00m  \u001b[39m# remove potential circular references\u001b[39;00m\n\u001b[1;32m     69\u001b[0m     \u001b[39mif\u001b[39;00m \u001b[39mnot\u001b[39;00m \u001b[39mself\u001b[39m\u001b[39m.\u001b[39mwarn_only:\n\u001b[0;32m---> 70\u001b[0m         compat\u001b[39m.\u001b[39;49mraise_(\n\u001b[1;32m     71\u001b[0m             exc_value,\n\u001b[1;32m     72\u001b[0m             with_traceback\u001b[39m=\u001b[39;49mexc_tb,\n\u001b[1;32m     73\u001b[0m         )\n\u001b[1;32m     74\u001b[0m \u001b[39melse\u001b[39;00m:\n\u001b[1;32m     75\u001b[0m     \u001b[39mif\u001b[39;00m \u001b[39mnot\u001b[39;00m compat\u001b[39m.\u001b[39mpy3k \u001b[39mand\u001b[39;00m \u001b[39mself\u001b[39m\u001b[39m.\u001b[39m_exc_info \u001b[39mand\u001b[39;00m \u001b[39mself\u001b[39m\u001b[39m.\u001b[39m_exc_info[\u001b[39m1\u001b[39m]:\n\u001b[1;32m     76\u001b[0m         \u001b[39m# emulate Py3K's behavior of telling us when an exception\u001b[39;00m\n\u001b[1;32m     77\u001b[0m         \u001b[39m# occurs in an exception handler.\u001b[39;00m\n",
      "File \u001b[0;32m~/Documents/Repos/case_scrape/.venv/lib/python3.10/site-packages/sqlalchemy/util/compat.py:208\u001b[0m, in \u001b[0;36mraise_\u001b[0;34m(***failed resolving arguments***)\u001b[0m\n\u001b[1;32m    205\u001b[0m     exception\u001b[39m.\u001b[39m__cause__ \u001b[39m=\u001b[39m replace_context\n\u001b[1;32m    207\u001b[0m \u001b[39mtry\u001b[39;00m:\n\u001b[0;32m--> 208\u001b[0m     \u001b[39mraise\u001b[39;00m exception\n\u001b[1;32m    209\u001b[0m \u001b[39mfinally\u001b[39;00m:\n\u001b[1;32m    210\u001b[0m     \u001b[39m# credit to\u001b[39;00m\n\u001b[1;32m    211\u001b[0m     \u001b[39m# https://cosmicpercolator.com/2016/01/13/exception-leaks-in-python-2-and-3/\u001b[39;00m\n\u001b[1;32m    212\u001b[0m     \u001b[39m# as the __traceback__ object creates a cycle\u001b[39;00m\n\u001b[1;32m    213\u001b[0m     \u001b[39mdel\u001b[39;00m exception, replace_context, from_, with_traceback\n",
      "File \u001b[0;32m~/Documents/Repos/case_scrape/.venv/lib/python3.10/site-packages/sqlalchemy/pool/impl.py:143\u001b[0m, in \u001b[0;36mQueuePool._do_get\u001b[0;34m(self)\u001b[0m\n\u001b[1;32m    141\u001b[0m \u001b[39mif\u001b[39;00m \u001b[39mself\u001b[39m\u001b[39m.\u001b[39m_inc_overflow():\n\u001b[1;32m    142\u001b[0m     \u001b[39mtry\u001b[39;00m:\n\u001b[0;32m--> 143\u001b[0m         \u001b[39mreturn\u001b[39;00m \u001b[39mself\u001b[39;49m\u001b[39m.\u001b[39;49m_create_connection()\n\u001b[1;32m    144\u001b[0m     \u001b[39mexcept\u001b[39;00m:\n\u001b[1;32m    145\u001b[0m         \u001b[39mwith\u001b[39;00m util\u001b[39m.\u001b[39msafe_reraise():\n",
      "File \u001b[0;32m~/Documents/Repos/case_scrape/.venv/lib/python3.10/site-packages/sqlalchemy/pool/base.py:256\u001b[0m, in \u001b[0;36mPool._create_connection\u001b[0;34m(self)\u001b[0m\n\u001b[1;32m    253\u001b[0m \u001b[39mdef\u001b[39;00m \u001b[39m_create_connection\u001b[39m(\u001b[39mself\u001b[39m):\n\u001b[1;32m    254\u001b[0m     \u001b[39m\"\"\"Called by subclasses to create a new ConnectionRecord.\"\"\"\u001b[39;00m\n\u001b[0;32m--> 256\u001b[0m     \u001b[39mreturn\u001b[39;00m _ConnectionRecord(\u001b[39mself\u001b[39;49m)\n",
      "File \u001b[0;32m~/Documents/Repos/case_scrape/.venv/lib/python3.10/site-packages/sqlalchemy/pool/base.py:371\u001b[0m, in \u001b[0;36m_ConnectionRecord.__init__\u001b[0;34m(self, pool, connect)\u001b[0m\n\u001b[1;32m    369\u001b[0m \u001b[39mself\u001b[39m\u001b[39m.\u001b[39m__pool \u001b[39m=\u001b[39m pool\n\u001b[1;32m    370\u001b[0m \u001b[39mif\u001b[39;00m connect:\n\u001b[0;32m--> 371\u001b[0m     \u001b[39mself\u001b[39;49m\u001b[39m.\u001b[39;49m__connect()\n\u001b[1;32m    372\u001b[0m \u001b[39mself\u001b[39m\u001b[39m.\u001b[39mfinalize_callback \u001b[39m=\u001b[39m deque()\n",
      "File \u001b[0;32m~/Documents/Repos/case_scrape/.venv/lib/python3.10/site-packages/sqlalchemy/pool/base.py:665\u001b[0m, in \u001b[0;36m_ConnectionRecord.__connect\u001b[0;34m(self)\u001b[0m\n\u001b[1;32m    663\u001b[0m     \u001b[39mself\u001b[39m\u001b[39m.\u001b[39mfresh \u001b[39m=\u001b[39m \u001b[39mTrue\u001b[39;00m\n\u001b[1;32m    664\u001b[0m \u001b[39mexcept\u001b[39;00m \u001b[39mException\u001b[39;00m \u001b[39mas\u001b[39;00m e:\n\u001b[0;32m--> 665\u001b[0m     \u001b[39mwith\u001b[39;00m util\u001b[39m.\u001b[39msafe_reraise():\n\u001b[1;32m    666\u001b[0m         pool\u001b[39m.\u001b[39mlogger\u001b[39m.\u001b[39mdebug(\u001b[39m\"\u001b[39m\u001b[39mError on connect(): \u001b[39m\u001b[39m%s\u001b[39;00m\u001b[39m\"\u001b[39m, e)\n\u001b[1;32m    667\u001b[0m \u001b[39melse\u001b[39;00m:\n\u001b[1;32m    668\u001b[0m     \u001b[39m# in SQLAlchemy 1.4 the first_connect event is not used by\u001b[39;00m\n\u001b[1;32m    669\u001b[0m     \u001b[39m# the engine, so this will usually not be set\u001b[39;00m\n",
      "File \u001b[0;32m~/Documents/Repos/case_scrape/.venv/lib/python3.10/site-packages/sqlalchemy/util/langhelpers.py:70\u001b[0m, in \u001b[0;36msafe_reraise.__exit__\u001b[0;34m(self, type_, value, traceback)\u001b[0m\n\u001b[1;32m     68\u001b[0m     \u001b[39mself\u001b[39m\u001b[39m.\u001b[39m_exc_info \u001b[39m=\u001b[39m \u001b[39mNone\u001b[39;00m  \u001b[39m# remove potential circular references\u001b[39;00m\n\u001b[1;32m     69\u001b[0m     \u001b[39mif\u001b[39;00m \u001b[39mnot\u001b[39;00m \u001b[39mself\u001b[39m\u001b[39m.\u001b[39mwarn_only:\n\u001b[0;32m---> 70\u001b[0m         compat\u001b[39m.\u001b[39;49mraise_(\n\u001b[1;32m     71\u001b[0m             exc_value,\n\u001b[1;32m     72\u001b[0m             with_traceback\u001b[39m=\u001b[39;49mexc_tb,\n\u001b[1;32m     73\u001b[0m         )\n\u001b[1;32m     74\u001b[0m \u001b[39melse\u001b[39;00m:\n\u001b[1;32m     75\u001b[0m     \u001b[39mif\u001b[39;00m \u001b[39mnot\u001b[39;00m compat\u001b[39m.\u001b[39mpy3k \u001b[39mand\u001b[39;00m \u001b[39mself\u001b[39m\u001b[39m.\u001b[39m_exc_info \u001b[39mand\u001b[39;00m \u001b[39mself\u001b[39m\u001b[39m.\u001b[39m_exc_info[\u001b[39m1\u001b[39m]:\n\u001b[1;32m     76\u001b[0m         \u001b[39m# emulate Py3K's behavior of telling us when an exception\u001b[39;00m\n\u001b[1;32m     77\u001b[0m         \u001b[39m# occurs in an exception handler.\u001b[39;00m\n",
      "File \u001b[0;32m~/Documents/Repos/case_scrape/.venv/lib/python3.10/site-packages/sqlalchemy/util/compat.py:208\u001b[0m, in \u001b[0;36mraise_\u001b[0;34m(***failed resolving arguments***)\u001b[0m\n\u001b[1;32m    205\u001b[0m     exception\u001b[39m.\u001b[39m__cause__ \u001b[39m=\u001b[39m replace_context\n\u001b[1;32m    207\u001b[0m \u001b[39mtry\u001b[39;00m:\n\u001b[0;32m--> 208\u001b[0m     \u001b[39mraise\u001b[39;00m exception\n\u001b[1;32m    209\u001b[0m \u001b[39mfinally\u001b[39;00m:\n\u001b[1;32m    210\u001b[0m     \u001b[39m# credit to\u001b[39;00m\n\u001b[1;32m    211\u001b[0m     \u001b[39m# https://cosmicpercolator.com/2016/01/13/exception-leaks-in-python-2-and-3/\u001b[39;00m\n\u001b[1;32m    212\u001b[0m     \u001b[39m# as the __traceback__ object creates a cycle\u001b[39;00m\n\u001b[1;32m    213\u001b[0m     \u001b[39mdel\u001b[39;00m exception, replace_context, from_, with_traceback\n",
      "File \u001b[0;32m~/Documents/Repos/case_scrape/.venv/lib/python3.10/site-packages/sqlalchemy/pool/base.py:661\u001b[0m, in \u001b[0;36m_ConnectionRecord.__connect\u001b[0;34m(self)\u001b[0m\n\u001b[1;32m    659\u001b[0m \u001b[39mtry\u001b[39;00m:\n\u001b[1;32m    660\u001b[0m     \u001b[39mself\u001b[39m\u001b[39m.\u001b[39mstarttime \u001b[39m=\u001b[39m time\u001b[39m.\u001b[39mtime()\n\u001b[0;32m--> 661\u001b[0m     \u001b[39mself\u001b[39m\u001b[39m.\u001b[39mdbapi_connection \u001b[39m=\u001b[39m connection \u001b[39m=\u001b[39m pool\u001b[39m.\u001b[39;49m_invoke_creator(\u001b[39mself\u001b[39;49m)\n\u001b[1;32m    662\u001b[0m     pool\u001b[39m.\u001b[39mlogger\u001b[39m.\u001b[39mdebug(\u001b[39m\"\u001b[39m\u001b[39mCreated new connection \u001b[39m\u001b[39m%r\u001b[39;00m\u001b[39m\"\u001b[39m, connection)\n\u001b[1;32m    663\u001b[0m     \u001b[39mself\u001b[39m\u001b[39m.\u001b[39mfresh \u001b[39m=\u001b[39m \u001b[39mTrue\u001b[39;00m\n",
      "File \u001b[0;32m~/Documents/Repos/case_scrape/.venv/lib/python3.10/site-packages/sqlalchemy/engine/create.py:578\u001b[0m, in \u001b[0;36mcreate_engine.<locals>.connect\u001b[0;34m(connection_record)\u001b[0m\n\u001b[1;32m    576\u001b[0m         \u001b[39mif\u001b[39;00m connection \u001b[39mis\u001b[39;00m \u001b[39mnot\u001b[39;00m \u001b[39mNone\u001b[39;00m:\n\u001b[1;32m    577\u001b[0m             \u001b[39mreturn\u001b[39;00m connection\n\u001b[0;32m--> 578\u001b[0m \u001b[39mreturn\u001b[39;00m dialect\u001b[39m.\u001b[39;49mconnect(\u001b[39m*\u001b[39;49mcargs, \u001b[39m*\u001b[39;49m\u001b[39m*\u001b[39;49mcparams)\n",
      "File \u001b[0;32m~/Documents/Repos/case_scrape/.venv/lib/python3.10/site-packages/sqlalchemy/engine/default.py:597\u001b[0m, in \u001b[0;36mDefaultDialect.connect\u001b[0;34m(self, *cargs, **cparams)\u001b[0m\n\u001b[1;32m    595\u001b[0m \u001b[39mdef\u001b[39;00m \u001b[39mconnect\u001b[39m(\u001b[39mself\u001b[39m, \u001b[39m*\u001b[39mcargs, \u001b[39m*\u001b[39m\u001b[39m*\u001b[39mcparams):\n\u001b[1;32m    596\u001b[0m     \u001b[39m# inherits the docstring from interfaces.Dialect.connect\u001b[39;00m\n\u001b[0;32m--> 597\u001b[0m     \u001b[39mreturn\u001b[39;00m \u001b[39mself\u001b[39;49m\u001b[39m.\u001b[39;49mdbapi\u001b[39m.\u001b[39;49mconnect(\u001b[39m*\u001b[39;49mcargs, \u001b[39m*\u001b[39;49m\u001b[39m*\u001b[39;49mcparams)\n",
      "File \u001b[0;32m~/Documents/Repos/case_scrape/.venv/lib/python3.10/site-packages/psycopg2/__init__.py:122\u001b[0m, in \u001b[0;36mconnect\u001b[0;34m(dsn, connection_factory, cursor_factory, **kwargs)\u001b[0m\n\u001b[1;32m    119\u001b[0m     kwasync[\u001b[39m'\u001b[39m\u001b[39masync_\u001b[39m\u001b[39m'\u001b[39m] \u001b[39m=\u001b[39m kwargs\u001b[39m.\u001b[39mpop(\u001b[39m'\u001b[39m\u001b[39masync_\u001b[39m\u001b[39m'\u001b[39m)\n\u001b[1;32m    121\u001b[0m dsn \u001b[39m=\u001b[39m _ext\u001b[39m.\u001b[39mmake_dsn(dsn, \u001b[39m*\u001b[39m\u001b[39m*\u001b[39mkwargs)\n\u001b[0;32m--> 122\u001b[0m conn \u001b[39m=\u001b[39m _connect(dsn, connection_factory\u001b[39m=\u001b[39;49mconnection_factory, \u001b[39m*\u001b[39;49m\u001b[39m*\u001b[39;49mkwasync)\n\u001b[1;32m    123\u001b[0m \u001b[39mif\u001b[39;00m cursor_factory \u001b[39mis\u001b[39;00m \u001b[39mnot\u001b[39;00m \u001b[39mNone\u001b[39;00m:\n\u001b[1;32m    124\u001b[0m     conn\u001b[39m.\u001b[39mcursor_factory \u001b[39m=\u001b[39m cursor_factory\n",
      "\u001b[0;31mOperationalError\u001b[0m: (psycopg2.OperationalError) connection to server at \"cuya-courts.cz4nubeqeyzc.us-east-1.rds.amazonaws.com\" (52.202.190.210), port 5432 failed: Operation timed out\n\tIs the server running on that host and accepting TCP/IP connections?\n\n(Background on this error at: https://sqlalche.me/e/14/e3q8)"
     ]
    }
   ],
   "source": [
    "init_db()\n"
   ]
  },
  {
   "cell_type": "code",
   "execution_count": null,
   "metadata": {},
   "outputs": [],
   "source": []
  },
  {
   "cell_type": "code",
   "execution_count": null,
   "metadata": {},
   "outputs": [],
   "source": [
    "driver.close()\n",
    "session.close()"
   ]
  },
  {
   "cell_type": "code",
   "execution_count": null,
   "metadata": {},
   "outputs": [],
   "source": [
    "driver.quit()"
   ]
  },
  {
   "cell_type": "code",
   "execution_count": 9,
   "metadata": {},
   "outputs": [],
   "source": [
    "engine = DBConfig(\n",
    "        password=os.getenv(\"DB_PASSWORD\"),\n",
    "        user=os.getenv(\"DB_USER\")\n",
    "    ).get_engine()\n",
    "\n",
    "Session = sessionmaker(bind=engine)\n",
    "session = Session()\n",
    "\n"
   ]
  },
  {
   "cell_type": "code",
   "execution_count": 10,
   "metadata": {},
   "outputs": [],
   "source": [
    "from selenium import webdriver\n",
    "from webdriver_manager.chrome import ChromeDriverManager\n",
    "from selenium.webdriver.chrome.service import Service as ChromeService\n",
    "opts = Options()\n",
    "opts.headless = True"
   ]
  },
  {
   "cell_type": "code",
   "execution_count": null,
   "metadata": {},
   "outputs": [],
   "source": [
    "case_numbers = [str(x) for x in range(655783, 666532)] \n",
    "# [str(x) for x in range(655656, 666532)] + \\\n",
    "# [str(x) for x in range(647313, 655655)] + \\\n",
    "# [str(x) for x in range(635863, 647312)] + \\\n",
    "# [str(x) for x in range(624667, 635860)] + \\\n",
    "# [str(x) for x in range(612912, 624666)] + \\\n",
    "# [str(x) for x in range(602355, 612910)] "
   ]
  },
  {
   "cell_type": "code",
   "execution_count": null,
   "metadata": {},
   "outputs": [],
   "source": [
    "case_no_str"
   ]
  },
  {
   "cell_type": "code",
   "execution_count": 12,
   "metadata": {},
   "outputs": [
    {
     "name": "stderr",
     "output_type": "stream",
     "text": [
      "[WDM] - Downloading: 100%|██████████| 8.61M/8.61M [00:02<00:00, 3.33MB/s]\n"
     ]
    }
   ],
   "source": [
    "service = ChromeService(executable_path = ChromeDriverManager().install())\n",
    "driver = webdriver.Chrome(options = opts, service=service)"
   ]
  },
  {
   "cell_type": "code",
   "execution_count": null,
   "metadata": {},
   "outputs": [],
   "source": []
  },
  {
   "cell_type": "code",
   "execution_count": null,
   "metadata": {},
   "outputs": [],
   "source": [
    "driver = search_case_number(driver, case_no_str)"
   ]
  },
  {
   "cell_type": "code",
   "execution_count": null,
   "metadata": {},
   "outputs": [],
   "source": [
    "type(driver)"
   ]
  },
  {
   "cell_type": "code",
   "execution_count": null,
   "metadata": {},
   "outputs": [],
   "source": [
    "for case_no_str in case_numbers:\n",
    "    session = Session()\n",
    "    service = ChromeService(executable_path = ChromeDriverManager().install())\n",
    "    driver = webdriver.Chrome(options = opts, service=service)\n",
    "    data_elems = driver.find_elements(By.XPATH, \"//*[(@id='SheetContentPlaceHolder_ctl00_gvCaseResults')]//*[@href]\")\n",
    "    if len(data_elems) > 0:\n",
    "        for i, elem in enumerate(data_elems):\n",
    "            data_elems = driver.find_elements(By.XPATH, \"//*[(@id='SheetContentPlaceHolder_ctl00_gvCaseResults')]//*[@href]\")\n",
    "            data_elems[i].click()\n",
    "            driver, case_number = fetch_case_summary(session, driver)\n",
    "            driver, case_number = fetch_case_summary_tables(session, driver, case_number)\n",
    "            driver, case_number = fetch_docket_info(session, driver, case_number)\n",
    "            driver.back()\n",
    "            driver = check_tos(driver)\n",
    "            driver, case_number = fetch_cost_info(session, driver, case_number)\n",
    "            driver.back()\n",
    "            driver = check_tos(driver)\n",
    "            driver, case_number = fetch_defendant_info(session, driver, case_number)\n",
    "            driver.back()\n",
    "            driver = check_tos(driver)\n",
    "            driver, case_number = fetch_attorney_info(session, driver, case_number)\n",
    "            driver.back()\n",
    "            driver = check_tos(driver)\n",
    "            driver.back()\n",
    "    else:\n",
    "        try:\n",
    "            driver, case_number = fetch_case_summary(session, driver)\n",
    "        except TimeoutException:\n",
    "            driver.close()\n",
    "            driver.quit()\n",
    "            session.close()\n",
    "            continue\n",
    "        driver, case_number = fetch_case_summary_tables(session, driver, case_number)\n",
    "        driver, case_number = fetch_docket_info(session, driver, case_number)\n",
    "        driver, case_number = fetch_cost_info(session, driver, case_number)\n",
    "        driver, case_number = fetch_defendant_info(session, driver, case_number)\n",
    "        driver, case_number = fetch_attorney_info(session, driver, case_number)\n",
    "        driver.close()\n",
    "        driver.quit()\n",
    "        session.close()\n",
    "\n",
    "    "
   ]
  },
  {
   "cell_type": "code",
   "execution_count": null,
   "metadata": {},
   "outputs": [],
   "source": [
    "from re import I\n",
    "import sqlalchemy\n",
    "\n",
    "\n",
    "# opts = Options()\n",
    "# # opts.headless = True\n",
    "# driver = webdriver.Chrome(ChromeDriverManager().install(), options=opts)#, executable_path=binary_path)\n",
    "\n",
    "def check_tos(driver):\n",
    "    # anticipates terms of service pop up\n",
    "    driver.implicitly_wait(random.randrange(1,5))\n",
    "    if \"TOS\" in driver.current_url:\n",
    "        try:\n",
    "            WebDriverWait(driver, 10).until(EC.element_to_be_clickable((By.ID, \"SheetContentPlaceHolder_btnYes\"))).click()\n",
    "        except WebDriverException:\n",
    "            return driver\n",
    "        driver.implicitly_wait(3)\n",
    "    return driver\n",
    "\n",
    "def search_case_number(driver: WebDriver, case_number: str) -> webdriver.Chrome:\n",
    "    \"\"\"Goes to search page, upon landing on the search page, this function will navigate the agreement and then enter a case \n",
    "    number to search criminal records and click the submit button.\n",
    "    Be sure to already be on the case search page when you run this function.\"\"\"\n",
    "    driver.get(\"https://cpdocket.cp.cuyahogacounty.us/Search.aspx\") \n",
    "    driver = check_tos(driver)\n",
    "    WebDriverWait(driver, 10).until(\n",
    "        EC.element_to_be_clickable((By.XPATH, \"//*[(@id = 'SheetContentPlaceHolder_rbCrCase')]\"))).click()\n",
    "    driver.implicitly_wait(2)\n",
    "    \n",
    "    if len(driver.find_elements(By.ID, \"SheetContentPlaceHolder_btnYes\")) > 0:\n",
    "        WebDriverWait(driver, 10).until(EC.element_to_be_clickable((By.ID, \"SheetContentPlaceHolder_btnYes\"))).click()\n",
    "        WebDriverWait(driver, 10).until(EC.element_to_be_clickable((By.XPATH, \"//*[(@id = 'SheetContentPlaceHolder_rbCrCase')]\"))).click()\n",
    "        driver.implicitly_wait(3)\n",
    "    \n",
    "    # checks if searching elements are there\n",
    "    if len(driver.find_elements(By.ID, \"SheetContentPlaceHolder_ctl00_gvCaseResults\")) == 0:\n",
    "        text_box = driver.find_element(By.XPATH, \"//input[(@type = 'text')]\")\n",
    "        text_box.clear()\n",
    "        text_box.send_keys(case_number)\n",
    "        WebDriverWait(driver, 10).until(EC.element_to_be_clickable((By.ID, \"SheetContentPlaceHolder_criminalCaseSearch_btnSubmitCase\"))).click()\n",
    "        driver.implicitly_wait(random.randint(4,15))\n",
    "\n",
    "    return driver\n",
    "\n",
    "def get_table(case_number: str, header_xpath: str, data_xpath: str) -> pd.DataFrame:\n",
    "    headers = driver.find_elements(By.XPATH, header_xpath)\n",
    "    data = driver.find_elements(By.XPATH, data_xpath)\n",
    "    data_list = [d.text for d in data]\n",
    "    table = {}\n",
    "    for i, h in enumerate(headers):\n",
    "        table[h.text.upper().strip()]=data_list[i::len(headers)]\n",
    "    df = pd.DataFrame(table)\n",
    "    df[\"CASE_NUMBER\"] = case_number\n",
    "    return df\n",
    "\n",
    "def write_pandas_df_to_db(db, df: pd.DataFrame, table_to_write_to: str):\n",
    "    engine = db.get_bind()\n",
    "    df.columns = df.columns.str.replace(\" \", \"_\")\n",
    "    df.columns = df.columns.str.lower()\n",
    "    df.columns = df.columns.str.replace(\"/\",\"_\")\n",
    "    df.columns = df.columns.str.replace(\".\", \"\")\n",
    "    df.to_sql(table_to_write_to, engine, if_exists=\"append\", index=False)\n",
    "\n",
    "def fetch_case_summary(db, driver) -> str:\n",
    "    \"\"\"commits returns case_number\"\"\"\n",
    "    WebDriverWait(driver,10).until(EC.element_to_be_clickable((By.XPATH, \"//*[(@id = 'SheetContentPlaceHolder_caseSummary_lblCaseNumber')]\")))\n",
    "    case_number = driver.find_element(By.XPATH, \"//*[(@id = 'SheetContentPlaceHolder_caseSummary_lblCaseNumber')]\").text\n",
    "    case_defendant=models.CaseDefendant(\n",
    "        case_number= case_number,\n",
    "        scrape_time=datetime.now(),\n",
    "        status=driver.find_element(By.XPATH, \"//*[(@id = 'SheetContentPlaceHolder_caseSummary_lblCaseStatus')]\").text,\n",
    "        judge_name=driver.find_element(By.XPATH, \"//*[(@id = 'SheetContentPlaceHolder_caseSummary_lblJudgeName')]\").text,\n",
    "        next_event=driver.find_element(By.XPATH, \"//*[(@id = 'SheetContentPlaceHolder_caseSummary_lblNextEvent')]\").text,\n",
    "        arrested_date=driver.find_element(By.XPATH, \"//*[(@id = 'SheetContentPlaceHolder_caseSummary_lblArrested')]\").text,\n",
    "        arresting_agency=driver.find_element(By.XPATH, \"//*[(@id = 'SheetContentPlaceHolder_caseSummary_lblArrestingAgency')]\").text,\n",
    "        arresting_agency_report=driver.find_element(By.XPATH, \"//*[(@id = 'SheetContentPlaceHolder_caseSummary_lblArestingAgencyReport')]\").text,\n",
    "        court_of_appeals_case=driver.find_element(By.XPATH, \"//*[(@id = 'SheetContentPlaceHolder_caseSummary_lblCOACase')]\").text,\n",
    "        date_scraped=datetime.now(),\n",
    "        defendant_id=driver.find_element(By.XPATH, \"//*[(@id = 'SheetContentPlaceHolder_caseSummary_lblNumber')]\").text,\n",
    "        name=driver.find_element(By.XPATH, \"//*[(@id = 'SheetContentPlaceHolder_caseSummary_lblName')]\").text,\n",
    "        defendant_status=driver.find_element(By.XPATH, \"//*[(@id = 'SheetContentPlaceHolder_caseSummary_defStatus_lblDefStatus')]\").text,\n",
    "        date_of_birth=driver.find_element(By.XPATH, \"//*[(@id = 'SheetContentPlaceHolder_caseSummary_lblDOB')]\").text,\n",
    "        race=driver.find_element(By.XPATH, \"//*[(@id = 'SheetContentPlaceHolder_caseSummary_lblRace')]\").text,\n",
    "        sex=driver.find_element(By.XPATH, \"//*[(@id = 'SheetContentPlaceHolder_caseSummary_lblSex')]\").text,\n",
    "        other_cases=driver.find_element(By.XPATH, \"//*[(@id = 'SheetContentPlaceHolder_caseSummary_otherCases_lblOtherCases')]\").text,\n",
    "        co_defendants=driver.find_element(By.XPATH, \"//*[(@id = 'SheetContentPlaceHolder_caseSummary_otherDefs_lblCoDefs')]\").text\n",
    "    ) \n",
    "    db.merge(case_defendant)  \n",
    "    db.commit()\n",
    "    return driver, case_number\n",
    "\n",
    "def fetch_case_summary_tables(db, driver, case_number) -> Tuple[WebDriver, str]:\n",
    "    \"\"\"gets info from case summary page\"\"\"\n",
    "    #additional tables\n",
    "    charge_df = get_table(case_number, \n",
    "                        header_xpath=\"//table[(@id = 'SheetContentPlaceHolder_caseCharges_gvCharges')]//th\", \n",
    "                        data_xpath=\"//table[(@id = 'SheetContentPlaceHolder_caseCharges_gvCharges')]//td\")\n",
    "    write_pandas_df_to_db(db, charge_df, \"charge\")\n",
    "    \n",
    "    bond_df = get_table(case_number, \n",
    "                        header_xpath=\"//table[(@id = 'SheetContentPlaceHolder_caseBondInfo_gvBonds')]//th\", \n",
    "                        data_xpath=\"//table[(@id = 'SheetContentPlaceHolder_caseBondInfo_gvBonds')]//td\")\n",
    "    write_pandas_df_to_db(db, bond_df, \"bond\")\n",
    "    \n",
    "    action_df = get_table(case_number,\n",
    "                        header_xpath=\"//table[(@id = 'SheetContentPlaceHolder_caseActions_gvActions')]//th\",\n",
    "                        data_xpath=\"//table[(@id = 'SheetContentPlaceHolder_caseActions_gvActions')]//td\")\n",
    "    write_pandas_df_to_db(db, action_df, \"action\")\n",
    "    return driver, case_number\n",
    "\n",
    "\n",
    "def save_down_pdfs(driver, case_number):\n",
    "    driver.find_elements(By.TAG_NAME, \"td\").href\n",
    "\n",
    "\n",
    "def record_scrape(driver, case_number):\n",
    "    '''ERROR: No cases found matching criteria.'''\n",
    "\n",
    "\n",
    "\n",
    "def fetch_docket_info(db, driver, case_number):\n",
    "    \"\"\"from case summary page, clicks docket, downloads information\"\"\"\n",
    "    WebDriverWait(driver, 10).until(EC.element_to_be_clickable((By.ID, \"SheetContentPlaceHolder_caseHeader_lbDocket\"))).click()\n",
    "    driver = check_tos(driver)\n",
    "    docket_table = get_table(case_number,\n",
    "    header_xpath=\"//table[(@id = 'SheetContentPlaceHolder_caseDocket_gvDocketInformation')]//th\",\n",
    "    data_xpath=\"//table[(@id = 'SheetContentPlaceHolder_caseDocket_gvDocketInformation')]//td\")\n",
    "    pdfs = save_down_pdfs()\n",
    "    docket_table.drop('VIEW IMAGE', axis=1, inplace=True)\n",
    "    write_pandas_df_to_db(db, docket_table, \"docket\")\n",
    "    return driver, case_number\n",
    "\n",
    "def fetch_cost_info(db, driver, case_number):\n",
    "    WebDriverWait(driver, 2).until(EC.element_to_be_clickable((By.ID,\"SheetContentPlaceHolder_caseHeader_lbCosts\"))).click()\n",
    "    # anticipates terms of service\n",
    "    driver = check_tos(driver)\n",
    "    #SheetContentPlaceHolder_caseCosts_gvCosts\n",
    "    cost_table = get_table(case_number, header_xpath=\"//table[(@id = 'SheetContentPlaceHolder_caseCosts_gvCosts')]//th\", data_xpath=\"//table[(@id = 'SheetContentPlaceHolder_caseCosts_gvCosts')]//td\")\n",
    "    cost_table[cost_table[\"ACCOUNT\"].str.contains(\"TOTAL\") == False]\n",
    "    write_pandas_df_to_db(db, cost_table, \"cost\")\n",
    "    return driver, case_number\n",
    "        \n",
    "def fetch_defendant_info(db, driver, case_number):\n",
    "    WebDriverWait(driver, 2).until(EC.element_to_be_clickable((By.ID,\"SheetContentPlaceHolder_caseHeader_lbDefendant\"))).click()\n",
    "    driver = check_tos(driver)\n",
    "    defendent = models.Defendant(\n",
    "        name=driver.find_element(By.XPATH, \"//*[(@id = 'SheetContentPlaceHolder_defGeneral_lblName')]\").text,\n",
    "        id=driver.find_element(By.XPATH, \"//*[(@id = 'SheetContentPlaceHolder_defGeneral_lblDefID')]\").text,\n",
    "        status=driver.find_element(By.XPATH, \"//*[(@id = 'SheetContentPlaceHolder_defGeneral_defStatus_lblDefStatus')]\").text,\n",
    "        marital_status=driver.find_element(By.XPATH, \"//*[(@id = 'SheetContentPlaceHolder_defGeneral_lblMaritalStatus')]\").text,\n",
    "        birth_city=driver.find_element(By.XPATH, \"//*[(@id = 'SheetContentPlaceHolder_defGeneral_lblBirthCity')]\").text,\n",
    "        birth_state=driver.find_element(By.XPATH, \"//*[(@id = 'SheetContentPlaceHolder_defGeneral_lblBirthState')]\").text,\n",
    "        citizenship=driver.find_element(By.XPATH, \"//*[(@id = 'SheetContentPlaceHolder_defGeneral_lblCitizenship')]\").text,\n",
    "        address_1=driver.find_element(By.XPATH, \"//*[(@id = 'SheetContentPlaceHolder_defAddress_lblAddress1')]\").text,\n",
    "        address_2=driver.find_element(By.XPATH, \"//*[(@id = 'SheetContentPlaceHolder_defAddress_lblAddress2')]\").text,\n",
    "        # address_3=driver.find_elements(By.XPATH, \"//*[(@id = 'SheetContentPlaceHolder_defAddress_lblAddress3')]\").text,\n",
    "        city_state_zip=driver.find_element(By.XPATH, \"//*[(@id = 'SheetContentPlaceHolder_defAddress_lblCSZ')]\").text,\n",
    "        race=driver.find_element(By.XPATH, \"//*[(@id = 'SheetContentPlaceHolder_defIDChar_lblRace')]\").text,\n",
    "        height=driver.find_element(By.XPATH, \"//*[(@id = 'SheetContentPlaceHolder_defIDChar_lblHeight')]\").text,\n",
    "        sex=driver.find_element(By.XPATH, \"//*[(@id = 'SheetContentPlaceHolder_defIDChar_lblSex')]\").text,\n",
    "        weight=driver.find_element(By.XPATH, \"//*[(@id = 'SheetContentPlaceHolder_defIDChar_lblWeight')]\").text,\n",
    "        age=driver.find_element(By.XPATH, \"//*[(@id = 'SheetContentPlaceHolder_defIDChar_lblAge')]\").text,\n",
    "        eyes=driver.find_element(By.XPATH, \"//*[(@id = 'SheetContentPlaceHolder_defIDChar_lblEyes')]\").text,\n",
    "        date_of_birth=driver.find_element(By.XPATH, \"//*[(@id = 'SheetContentPlaceHolder_defIDChar_lblDOB')]\").text,\n",
    "        hair=driver.find_element(By.XPATH, \"//*[(@id = 'SheetContentPlaceHolder_defIDChar_lblHair')]\").text,\n",
    "        )\n",
    "    # anticipates terms of service\n",
    "    db.add(defendent)\n",
    "    db.commit()\n",
    "    alias_table = get_table(case_number, header_xpath=\"//table[(@id = 'SheetContentPlaceHolder_defAlias_gvAlias')]//th\", data_xpath=\"//table[(@id = 'SheetContentPlaceHolder_defAlias_gvAlias')]//td\")\n",
    "    alias_table[\"defendant_id\"] = defendent.defendant_id\n",
    "    write_pandas_df_to_db(db, alias_table, \"alias\")\n",
    "    return driver, case_number\n",
    "\n",
    "\n",
    "def get_attorney_table(db, driver, case_number, table_data):\n",
    "    data = driver.find_elements(By.XPATH, table_data)\n",
    "    data_list = [d.text for d in data]\n",
    "    atts = [x for x in list(set(data_list)) if x.count(\"Address/Phone\") ==1 and x.count(\"Attorney Name\") ==1]\n",
    "    attorney_names = [x.split(\"\\nAddress/Phone:\")[0].replace(\"Attorney Name:\", \"\").strip() for x in atts]\n",
    "    attorney_address = [x.split(\"\\nAddress/Phone:\")[1].split(\"\\nPh:\")[0].strip() for x in atts]\n",
    "    attorney_phone = [x.split(\"\\nAddress/Phone:\")[1].split(\"\\nPh:\")[1].strip() for x in atts]\n",
    "    for n, a, p in zip(attorney_names, attorney_address, attorney_phone):\n",
    "        attorney = models.Attorney(\n",
    "            case_number=case_number,\n",
    "            name=n,\n",
    "            address=a,\n",
    "            phone=p\n",
    "        )\n",
    "        db.add(attorney)\n",
    "    db.commit()\n",
    "    return driver\n",
    "\n",
    "def fetch_attorney_info(db, driver, case_number):\n",
    "    WebDriverWait(driver, 2).until(EC.element_to_be_clickable((By.ID,\"SheetContentPlaceHolder_caseHeader_lbAttorney\"))).click()\n",
    "    driver = check_tos(driver)\n",
    "    driver = get_attorney_table(db, driver, case_number, \"//table[(@id='SheetContentPlaceHolder_attyInfo_gvAttyInfo')]//*\")\n",
    "    return driver, case_number\n"
   ]
  },
  {
   "cell_type": "code",
   "execution_count": null,
   "metadata": {},
   "outputs": [],
   "source": []
  }
 ],
 "metadata": {
  "kernelspec": {
   "display_name": "Python 3.10.0 ('.venv': venv)",
   "language": "python",
   "name": "python3"
  },
  "language_info": {
   "codemirror_mode": {
    "name": "ipython",
    "version": 3
   },
   "file_extension": ".py",
   "mimetype": "text/x-python",
   "name": "python",
   "nbconvert_exporter": "python",
   "pygments_lexer": "ipython3",
   "version": "3.10.0 (v3.10.0:b494f5935c, Oct  4 2021, 14:59:20) [Clang 12.0.5 (clang-1205.0.22.11)]"
  },
  "vscode": {
   "interpreter": {
    "hash": "da8c13c39276f1ff4ff53aa12e588860d3000a93f5dfc4cfbf5db1e4ccd5d515"
   }
  }
 },
 "nbformat": 4,
 "nbformat_minor": 4
}
