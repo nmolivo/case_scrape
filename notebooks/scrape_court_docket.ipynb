{
 "cells": [
  {
   "cell_type": "code",
   "execution_count": 45,
   "metadata": {},
   "outputs": [],
   "source": [
    "import sys"
   ]
  },
  {
   "cell_type": "code",
   "execution_count": 46,
   "metadata": {},
   "outputs": [
    {
     "name": "stdout",
     "output_type": "stream",
     "text": [
      "['/Users/nmolivo/Documents/Repos/case_scrape/notebooks', '/Library/Frameworks/Python.framework/Versions/3.10/lib/python310.zip', '/Library/Frameworks/Python.framework/Versions/3.10/lib/python3.10', '/Library/Frameworks/Python.framework/Versions/3.10/lib/python3.10/lib-dynload', '', '/Users/nmolivo/Documents/Repos/case_scrape/.venv/lib/python3.10/site-packages', '/Users/nmolivo/Documents/Repos/case_scrape']\n"
     ]
    }
   ],
   "source": [
    "print(sys.path)"
   ]
  },
  {
   "cell_type": "code",
   "execution_count": 47,
   "metadata": {},
   "outputs": [],
   "source": [
    "sys.path.append(\"/Users/nmolivo/Documents/Repos/case_scrape\")"
   ]
  },
  {
   "cell_type": "code",
   "execution_count": 48,
   "metadata": {},
   "outputs": [],
   "source": [
    "import os\n",
    "import pandas as pd\n",
    "from sqlalchemy import create_engine\n",
    "from sqlalchemy.orm import Session, sessionmaker, scoped_session\n",
    "from chromedriver_py import binary_path\n",
    "from selenium import webdriver\n",
    "from selenium.webdriver.chrome.options import Options\n",
    "from selenium.webdriver.chrome.webdriver import WebDriver\n",
    "from selenium.webdriver.common.by import By\n",
    "from selenium.webdriver.common.keys import Keys\n",
    "from selenium.webdriver.support.ui import WebDriverWait, Select\n",
    "from selenium.webdriver.support import expected_conditions as EC\n",
    "from sqlalchemy.util.compat import contextmanager\n",
    "from selenium.common.exceptions import NoSuchElementException\n",
    "import random\n",
    "from typing import Tuple\n"
   ]
  },
  {
   "cell_type": "code",
   "execution_count": 49,
   "metadata": {},
   "outputs": [],
   "source": [
    "from case_scrape.case_scrape import models"
   ]
  },
  {
   "cell_type": "code",
   "execution_count": 50,
   "metadata": {},
   "outputs": [],
   "source": [
    "from case_scrape.case_scrape.models import Base\n",
    "from case_scrape.case_scrape.db.db_config import DBConfig\n",
    "\n",
    "\n",
    "def init_db():\n",
    "\n",
    "    engine = DBConfig(\n",
    "        password=os.getenv(\"DB_PASSWORD\"),\n",
    "        user=os.getenv(\"DB_USER\")\n",
    "    ).get_engine()\n",
    "\n",
    "    Base.metadata.create_all(bind=engine)\n",
    "\n",
    "    print(\"Initialized the db\")\n",
    "\n",
    "def delete_db():\n",
    "\n",
    "    engine = DBConfig(\n",
    "        password=os.getenv(\"DB_PASSWORD\"),\n",
    "        user=os.getenv(\"DB_USER\")\n",
    "    ).get_engine()\n",
    "\n",
    "    Base.metadata.drop_all(bind=engine)\n",
    "\n",
    "    print(\"Cleared the db\")"
   ]
  },
  {
   "cell_type": "code",
   "execution_count": 80,
   "metadata": {},
   "outputs": [],
   "source": [
    "driver.close()"
   ]
  },
  {
   "cell_type": "code",
   "execution_count": 70,
   "metadata": {},
   "outputs": [
    {
     "name": "stdout",
     "output_type": "stream",
     "text": [
      "Initialized the db\n"
     ]
    }
   ],
   "source": [
    "init_db()"
   ]
  },
  {
   "cell_type": "code",
   "execution_count": 71,
   "metadata": {},
   "outputs": [],
   "source": [
    "engine = DBConfig(\n",
    "        password=os.getenv(\"DB_PASSWORD\"),\n",
    "        user=os.getenv(\"DB_USER\")\n",
    "    ).get_engine()\n",
    "\n",
    "Session = sessionmaker(bind=engine)\n",
    "session = Session()\n",
    "\n"
   ]
  },
  {
   "cell_type": "code",
   "execution_count": 72,
   "metadata": {},
   "outputs": [
    {
     "name": "stderr",
     "output_type": "stream",
     "text": [
      "/var/folders/rb/4k3rm5dn3_5gbmbfgfhgdy280000gn/T/ipykernel_43665/1583674229.py:5: DeprecationWarning: executable_path has been deprecated, please pass in a Service object\n",
      "  driver = webdriver.Chrome(options=opts, executable_path=binary_path)\n"
     ]
    }
   ],
   "source": [
    "from selenium import webdriver\n",
    "from webdriver_manager.chrome import ChromeDriverManager\n",
    "opts = Options()\n",
    "# opts.headless = True\n",
    "driver = webdriver.Chrome(options=opts, executable_path=binary_path)"
   ]
  },
  {
   "cell_type": "code",
   "execution_count": 73,
   "metadata": {},
   "outputs": [],
   "source": [
    "case_numbers = [str(x) for x in range(655656, 666532)] + \\\n",
    "[str(x) for x in range(647313, 655655)] + \\\n",
    "[str(x) for x in range(635863, 647312)] + \\\n",
    "[str(x) for x in range(624667, 635860)] + \\\n",
    "[str(x) for x in range(612912, 624666)] + \\\n",
    "[str(x) for x in range(602355, 612910)] "
   ]
  },
  {
   "cell_type": "code",
   "execution_count": 79,
   "metadata": {},
   "outputs": [
    {
     "name": "stderr",
     "output_type": "stream",
     "text": [
      "/var/folders/rb/4k3rm5dn3_5gbmbfgfhgdy280000gn/T/ipykernel_43665/3161925144.py:58: FutureWarning: The default value of regex will change from True to False in a future version. In addition, single character regular expressions will *not* be treated as literal strings when regex=True.\n",
      "  df.columns = df.columns.str.replace(\".\", \"\")\n"
     ]
    },
    {
     "ename": "TypeError",
     "evalue": "'defendent_id' is an invalid keyword argument for Defendant",
     "output_type": "error",
     "traceback": [
      "\u001b[0;31m---------------------------------------------------------------------------\u001b[0m",
      "\u001b[0;31mTypeError\u001b[0m                                 Traceback (most recent call last)",
      "Cell \u001b[0;32mIn [79], line 28\u001b[0m\n\u001b[1;32m     26\u001b[0m driver, case_number \u001b[39m=\u001b[39m fetch_docket_info(session, driver, case_number)\n\u001b[1;32m     27\u001b[0m driver, case_number \u001b[39m=\u001b[39m fetch_cost_info(session, driver, case_number)\n\u001b[0;32m---> 28\u001b[0m driver, case_number \u001b[39m=\u001b[39m fetch_defendant_info(session, driver, case_number)\n\u001b[1;32m     29\u001b[0m driver, case_number \u001b[39m=\u001b[39m fetch_attorney_info(session, driver, case_number)\n",
      "Cell \u001b[0;32mIn [75], line 134\u001b[0m, in \u001b[0;36mfetch_defendant_info\u001b[0;34m(db, driver, case_number)\u001b[0m\n\u001b[1;32m    132\u001b[0m WebDriverWait(driver, \u001b[39m2\u001b[39m)\u001b[39m.\u001b[39muntil(EC\u001b[39m.\u001b[39melement_to_be_clickable((By\u001b[39m.\u001b[39mID,\u001b[39m\"\u001b[39m\u001b[39mSheetContentPlaceHolder_caseHeader_lbDefendant\u001b[39m\u001b[39m\"\u001b[39m)))\u001b[39m.\u001b[39mclick()\n\u001b[1;32m    133\u001b[0m driver \u001b[39m=\u001b[39m check_tos(driver)\n\u001b[0;32m--> 134\u001b[0m defendent_info \u001b[39m=\u001b[39m models\u001b[39m.\u001b[39;49mDefendant(\n\u001b[1;32m    135\u001b[0m     name\u001b[39m=\u001b[39;49mdriver\u001b[39m.\u001b[39;49mfind_element(By\u001b[39m.\u001b[39;49mXPATH, \u001b[39m\"\u001b[39;49m\u001b[39m//*[(@id = \u001b[39;49m\u001b[39m'\u001b[39;49m\u001b[39mSheetContentPlaceHolder_defGeneral_lblName\u001b[39;49m\u001b[39m'\u001b[39;49m\u001b[39m)]\u001b[39;49m\u001b[39m\"\u001b[39;49m)\u001b[39m.\u001b[39;49mtext,\n\u001b[1;32m    136\u001b[0m     defendent_id\u001b[39m=\u001b[39;49mdriver\u001b[39m.\u001b[39;49mfind_element(By\u001b[39m.\u001b[39;49mXPATH, \u001b[39m\"\u001b[39;49m\u001b[39m//*[(@id = \u001b[39;49m\u001b[39m'\u001b[39;49m\u001b[39mSheetContentPlaceHolder_defGeneral_lblDefID\u001b[39;49m\u001b[39m'\u001b[39;49m\u001b[39m)]\u001b[39;49m\u001b[39m\"\u001b[39;49m)\u001b[39m.\u001b[39;49mtext,\n\u001b[1;32m    137\u001b[0m     case_number \u001b[39m=\u001b[39;49m case_number,\n\u001b[1;32m    138\u001b[0m     status\u001b[39m=\u001b[39;49mdriver\u001b[39m.\u001b[39;49mfind_element(By\u001b[39m.\u001b[39;49mXPATH, \u001b[39m\"\u001b[39;49m\u001b[39m//*[(@id = \u001b[39;49m\u001b[39m'\u001b[39;49m\u001b[39mSheetContentPlaceHolder_defGeneral_defStatus_lblDefStatus\u001b[39;49m\u001b[39m'\u001b[39;49m\u001b[39m)]\u001b[39;49m\u001b[39m\"\u001b[39;49m)\u001b[39m.\u001b[39;49mtext,\n\u001b[1;32m    139\u001b[0m     marital_status\u001b[39m=\u001b[39;49mdriver\u001b[39m.\u001b[39;49mfind_element(By\u001b[39m.\u001b[39;49mXPATH, \u001b[39m\"\u001b[39;49m\u001b[39m//*[(@id = \u001b[39;49m\u001b[39m'\u001b[39;49m\u001b[39mSheetContentPlaceHolder_defGeneral_lblMaritalStatus\u001b[39;49m\u001b[39m'\u001b[39;49m\u001b[39m)]\u001b[39;49m\u001b[39m\"\u001b[39;49m)\u001b[39m.\u001b[39;49mtext,\n\u001b[1;32m    140\u001b[0m     birth_city\u001b[39m=\u001b[39;49mdriver\u001b[39m.\u001b[39;49mfind_element(By\u001b[39m.\u001b[39;49mXPATH, \u001b[39m\"\u001b[39;49m\u001b[39m//*[(@id = \u001b[39;49m\u001b[39m'\u001b[39;49m\u001b[39mSheetContentPlaceHolder_defGeneral_lblBirthCity\u001b[39;49m\u001b[39m'\u001b[39;49m\u001b[39m)]\u001b[39;49m\u001b[39m\"\u001b[39;49m)\u001b[39m.\u001b[39;49mtext,\n\u001b[1;32m    141\u001b[0m     birth_state\u001b[39m=\u001b[39;49mdriver\u001b[39m.\u001b[39;49mfind_element(By\u001b[39m.\u001b[39;49mXPATH, \u001b[39m\"\u001b[39;49m\u001b[39m//*[(@id = \u001b[39;49m\u001b[39m'\u001b[39;49m\u001b[39mSheetContentPlaceHolder_defGeneral_lblBirthState\u001b[39;49m\u001b[39m'\u001b[39;49m\u001b[39m)]\u001b[39;49m\u001b[39m\"\u001b[39;49m)\u001b[39m.\u001b[39;49mtext,\n\u001b[1;32m    142\u001b[0m     citizenship\u001b[39m=\u001b[39;49mdriver\u001b[39m.\u001b[39;49mfind_element(By\u001b[39m.\u001b[39;49mXPATH, \u001b[39m\"\u001b[39;49m\u001b[39m//*[(@id = \u001b[39;49m\u001b[39m'\u001b[39;49m\u001b[39mSheetContentPlaceHolder_defGeneral_lblCitizenship\u001b[39;49m\u001b[39m'\u001b[39;49m\u001b[39m)]\u001b[39;49m\u001b[39m\"\u001b[39;49m)\u001b[39m.\u001b[39;49mtext,\n\u001b[1;32m    143\u001b[0m     address_1\u001b[39m=\u001b[39;49mdriver\u001b[39m.\u001b[39;49mfind_element(By\u001b[39m.\u001b[39;49mXPATH, \u001b[39m\"\u001b[39;49m\u001b[39m//*[(@id = \u001b[39;49m\u001b[39m'\u001b[39;49m\u001b[39mSheetContentPlaceHolder_defAddress_lblAddress1\u001b[39;49m\u001b[39m'\u001b[39;49m\u001b[39m)]\u001b[39;49m\u001b[39m\"\u001b[39;49m)\u001b[39m.\u001b[39;49mtext,\n\u001b[1;32m    144\u001b[0m     address_2\u001b[39m=\u001b[39;49mdriver\u001b[39m.\u001b[39;49mfind_element(By\u001b[39m.\u001b[39;49mXPATH, \u001b[39m\"\u001b[39;49m\u001b[39m//*[(@id = \u001b[39;49m\u001b[39m'\u001b[39;49m\u001b[39mSheetContentPlaceHolder_defAddress_lblAddress2\u001b[39;49m\u001b[39m'\u001b[39;49m\u001b[39m)]\u001b[39;49m\u001b[39m\"\u001b[39;49m)\u001b[39m.\u001b[39;49mtext,\n\u001b[1;32m    145\u001b[0m     \u001b[39m# address_3=driver.find_elements(By.XPATH, \"//*[(@id = 'SheetContentPlaceHolder_defAddress_lblAddress3')]\").text,\u001b[39;49;00m\n\u001b[1;32m    146\u001b[0m     city_state_zip\u001b[39m=\u001b[39;49mdriver\u001b[39m.\u001b[39;49mfind_element(By\u001b[39m.\u001b[39;49mXPATH, \u001b[39m\"\u001b[39;49m\u001b[39m//*[(@id = \u001b[39;49m\u001b[39m'\u001b[39;49m\u001b[39mSheetContentPlaceHolder_defAddress_lblCSZ\u001b[39;49m\u001b[39m'\u001b[39;49m\u001b[39m)]\u001b[39;49m\u001b[39m\"\u001b[39;49m)\u001b[39m.\u001b[39;49mtext,\n\u001b[1;32m    147\u001b[0m     race\u001b[39m=\u001b[39;49mdriver\u001b[39m.\u001b[39;49mfind_element(By\u001b[39m.\u001b[39;49mXPATH, \u001b[39m\"\u001b[39;49m\u001b[39m//*[(@id = \u001b[39;49m\u001b[39m'\u001b[39;49m\u001b[39mSheetContentPlaceHolder_defIDChar_lblRace\u001b[39;49m\u001b[39m'\u001b[39;49m\u001b[39m)]\u001b[39;49m\u001b[39m\"\u001b[39;49m)\u001b[39m.\u001b[39;49mtext,\n\u001b[1;32m    148\u001b[0m     height\u001b[39m=\u001b[39;49mdriver\u001b[39m.\u001b[39;49mfind_element(By\u001b[39m.\u001b[39;49mXPATH, \u001b[39m\"\u001b[39;49m\u001b[39m//*[(@id = \u001b[39;49m\u001b[39m'\u001b[39;49m\u001b[39mSheetContentPlaceHolder_defIDChar_lblHeight\u001b[39;49m\u001b[39m'\u001b[39;49m\u001b[39m)]\u001b[39;49m\u001b[39m\"\u001b[39;49m)\u001b[39m.\u001b[39;49mtext,\n\u001b[1;32m    149\u001b[0m     sex\u001b[39m=\u001b[39;49mdriver\u001b[39m.\u001b[39;49mfind_element(By\u001b[39m.\u001b[39;49mXPATH, \u001b[39m\"\u001b[39;49m\u001b[39m//*[(@id = \u001b[39;49m\u001b[39m'\u001b[39;49m\u001b[39mSheetContentPlaceHolder_defIDChar_lblSex\u001b[39;49m\u001b[39m'\u001b[39;49m\u001b[39m)]\u001b[39;49m\u001b[39m\"\u001b[39;49m)\u001b[39m.\u001b[39;49mtext,\n\u001b[1;32m    150\u001b[0m     weight\u001b[39m=\u001b[39;49mdriver\u001b[39m.\u001b[39;49mfind_element(By\u001b[39m.\u001b[39;49mXPATH, \u001b[39m\"\u001b[39;49m\u001b[39m//*[(@id = \u001b[39;49m\u001b[39m'\u001b[39;49m\u001b[39mSheetContentPlaceHolder_defIDChar_lblWeight\u001b[39;49m\u001b[39m'\u001b[39;49m\u001b[39m)]\u001b[39;49m\u001b[39m\"\u001b[39;49m)\u001b[39m.\u001b[39;49mtext,\n\u001b[1;32m    151\u001b[0m     age\u001b[39m=\u001b[39;49mdriver\u001b[39m.\u001b[39;49mfind_element(By\u001b[39m.\u001b[39;49mXPATH, \u001b[39m\"\u001b[39;49m\u001b[39m//*[(@id = \u001b[39;49m\u001b[39m'\u001b[39;49m\u001b[39mSheetContentPlaceHolder_defIDChar_lblAge\u001b[39;49m\u001b[39m'\u001b[39;49m\u001b[39m)]\u001b[39;49m\u001b[39m\"\u001b[39;49m)\u001b[39m.\u001b[39;49mtext,\n\u001b[1;32m    152\u001b[0m     eyes\u001b[39m=\u001b[39;49mdriver\u001b[39m.\u001b[39;49mfind_element(By\u001b[39m.\u001b[39;49mXPATH, \u001b[39m\"\u001b[39;49m\u001b[39m//*[(@id = \u001b[39;49m\u001b[39m'\u001b[39;49m\u001b[39mSheetContentPlaceHolder_defIDChar_lblEyes\u001b[39;49m\u001b[39m'\u001b[39;49m\u001b[39m)]\u001b[39;49m\u001b[39m\"\u001b[39;49m)\u001b[39m.\u001b[39;49mtext,\n\u001b[1;32m    153\u001b[0m     date_of_birth\u001b[39m=\u001b[39;49mdriver\u001b[39m.\u001b[39;49mfind_element(By\u001b[39m.\u001b[39;49mXPATH, \u001b[39m\"\u001b[39;49m\u001b[39m//*[(@id = \u001b[39;49m\u001b[39m'\u001b[39;49m\u001b[39mSheetContentPlaceHolder_defIDChar_lblDOB\u001b[39;49m\u001b[39m'\u001b[39;49m\u001b[39m)]\u001b[39;49m\u001b[39m\"\u001b[39;49m)\u001b[39m.\u001b[39;49mtext,\n\u001b[1;32m    154\u001b[0m     hair\u001b[39m=\u001b[39;49mdriver\u001b[39m.\u001b[39;49mfind_element(By\u001b[39m.\u001b[39;49mXPATH, \u001b[39m\"\u001b[39;49m\u001b[39m//*[(@id = \u001b[39;49m\u001b[39m'\u001b[39;49m\u001b[39mSheetContentPlaceHolder_defIDChar_lblHair\u001b[39;49m\u001b[39m'\u001b[39;49m\u001b[39m)]\u001b[39;49m\u001b[39m\"\u001b[39;49m)\u001b[39m.\u001b[39;49mtext,\n\u001b[1;32m    155\u001b[0m     )\n\u001b[1;32m    156\u001b[0m \u001b[39m# anticipates terms of service\u001b[39;00m\n\u001b[1;32m    157\u001b[0m db\u001b[39m.\u001b[39madd(defendent_info)\n",
      "File \u001b[0;32m<string>:4\u001b[0m, in \u001b[0;36m__init__\u001b[0;34m(self, **kwargs)\u001b[0m\n",
      "File \u001b[0;32m~/Documents/Repos/case_scrape/.venv/lib/python3.10/site-packages/sqlalchemy/orm/state.py:481\u001b[0m, in \u001b[0;36mInstanceState._initialize_instance\u001b[0;34m(*mixed, **kwargs)\u001b[0m\n\u001b[1;32m    479\u001b[0m     \u001b[39mreturn\u001b[39;00m manager\u001b[39m.\u001b[39moriginal_init(\u001b[39m*\u001b[39mmixed[\u001b[39m1\u001b[39m:], \u001b[39m*\u001b[39m\u001b[39m*\u001b[39mkwargs)\n\u001b[1;32m    480\u001b[0m \u001b[39mexcept\u001b[39;00m:\n\u001b[0;32m--> 481\u001b[0m     \u001b[39mwith\u001b[39;00m util\u001b[39m.\u001b[39msafe_reraise():\n\u001b[1;32m    482\u001b[0m         manager\u001b[39m.\u001b[39mdispatch\u001b[39m.\u001b[39minit_failure(\u001b[39mself\u001b[39m, args, kwargs)\n",
      "File \u001b[0;32m~/Documents/Repos/case_scrape/.venv/lib/python3.10/site-packages/sqlalchemy/util/langhelpers.py:70\u001b[0m, in \u001b[0;36msafe_reraise.__exit__\u001b[0;34m(self, type_, value, traceback)\u001b[0m\n\u001b[1;32m     68\u001b[0m     \u001b[39mself\u001b[39m\u001b[39m.\u001b[39m_exc_info \u001b[39m=\u001b[39m \u001b[39mNone\u001b[39;00m  \u001b[39m# remove potential circular references\u001b[39;00m\n\u001b[1;32m     69\u001b[0m     \u001b[39mif\u001b[39;00m \u001b[39mnot\u001b[39;00m \u001b[39mself\u001b[39m\u001b[39m.\u001b[39mwarn_only:\n\u001b[0;32m---> 70\u001b[0m         compat\u001b[39m.\u001b[39;49mraise_(\n\u001b[1;32m     71\u001b[0m             exc_value,\n\u001b[1;32m     72\u001b[0m             with_traceback\u001b[39m=\u001b[39;49mexc_tb,\n\u001b[1;32m     73\u001b[0m         )\n\u001b[1;32m     74\u001b[0m \u001b[39melse\u001b[39;00m:\n\u001b[1;32m     75\u001b[0m     \u001b[39mif\u001b[39;00m \u001b[39mnot\u001b[39;00m compat\u001b[39m.\u001b[39mpy3k \u001b[39mand\u001b[39;00m \u001b[39mself\u001b[39m\u001b[39m.\u001b[39m_exc_info \u001b[39mand\u001b[39;00m \u001b[39mself\u001b[39m\u001b[39m.\u001b[39m_exc_info[\u001b[39m1\u001b[39m]:\n\u001b[1;32m     76\u001b[0m         \u001b[39m# emulate Py3K's behavior of telling us when an exception\u001b[39;00m\n\u001b[1;32m     77\u001b[0m         \u001b[39m# occurs in an exception handler.\u001b[39;00m\n",
      "File \u001b[0;32m~/Documents/Repos/case_scrape/.venv/lib/python3.10/site-packages/sqlalchemy/util/compat.py:208\u001b[0m, in \u001b[0;36mraise_\u001b[0;34m(***failed resolving arguments***)\u001b[0m\n\u001b[1;32m    205\u001b[0m     exception\u001b[39m.\u001b[39m__cause__ \u001b[39m=\u001b[39m replace_context\n\u001b[1;32m    207\u001b[0m \u001b[39mtry\u001b[39;00m:\n\u001b[0;32m--> 208\u001b[0m     \u001b[39mraise\u001b[39;00m exception\n\u001b[1;32m    209\u001b[0m \u001b[39mfinally\u001b[39;00m:\n\u001b[1;32m    210\u001b[0m     \u001b[39m# credit to\u001b[39;00m\n\u001b[1;32m    211\u001b[0m     \u001b[39m# https://cosmicpercolator.com/2016/01/13/exception-leaks-in-python-2-and-3/\u001b[39;00m\n\u001b[1;32m    212\u001b[0m     \u001b[39m# as the __traceback__ object creates a cycle\u001b[39;00m\n\u001b[1;32m    213\u001b[0m     \u001b[39mdel\u001b[39;00m exception, replace_context, from_, with_traceback\n",
      "File \u001b[0;32m~/Documents/Repos/case_scrape/.venv/lib/python3.10/site-packages/sqlalchemy/orm/state.py:479\u001b[0m, in \u001b[0;36mInstanceState._initialize_instance\u001b[0;34m(*mixed, **kwargs)\u001b[0m\n\u001b[1;32m    476\u001b[0m manager\u001b[39m.\u001b[39mdispatch\u001b[39m.\u001b[39minit(\u001b[39mself\u001b[39m, args, kwargs)\n\u001b[1;32m    478\u001b[0m \u001b[39mtry\u001b[39;00m:\n\u001b[0;32m--> 479\u001b[0m     \u001b[39mreturn\u001b[39;00m manager\u001b[39m.\u001b[39;49moriginal_init(\u001b[39m*\u001b[39;49mmixed[\u001b[39m1\u001b[39;49m:], \u001b[39m*\u001b[39;49m\u001b[39m*\u001b[39;49mkwargs)\n\u001b[1;32m    480\u001b[0m \u001b[39mexcept\u001b[39;00m:\n\u001b[1;32m    481\u001b[0m     \u001b[39mwith\u001b[39;00m util\u001b[39m.\u001b[39msafe_reraise():\n",
      "File \u001b[0;32m~/Documents/Repos/case_scrape/.venv/lib/python3.10/site-packages/sqlalchemy/orm/decl_base.py:1197\u001b[0m, in \u001b[0;36m_declarative_constructor\u001b[0;34m(self, **kwargs)\u001b[0m\n\u001b[1;32m   1195\u001b[0m \u001b[39mfor\u001b[39;00m k \u001b[39min\u001b[39;00m kwargs:\n\u001b[1;32m   1196\u001b[0m     \u001b[39mif\u001b[39;00m \u001b[39mnot\u001b[39;00m \u001b[39mhasattr\u001b[39m(cls_, k):\n\u001b[0;32m-> 1197\u001b[0m         \u001b[39mraise\u001b[39;00m \u001b[39mTypeError\u001b[39;00m(\n\u001b[1;32m   1198\u001b[0m             \u001b[39m\"\u001b[39m\u001b[39m%r\u001b[39;00m\u001b[39m is an invalid keyword argument for \u001b[39m\u001b[39m%s\u001b[39;00m\u001b[39m\"\u001b[39m \u001b[39m%\u001b[39m (k, cls_\u001b[39m.\u001b[39m\u001b[39m__name__\u001b[39m)\n\u001b[1;32m   1199\u001b[0m         )\n\u001b[1;32m   1200\u001b[0m     \u001b[39msetattr\u001b[39m(\u001b[39mself\u001b[39m, k, kwargs[k])\n",
      "\u001b[0;31mTypeError\u001b[0m: 'defendent_id' is an invalid keyword argument for Defendant"
     ]
    }
   ],
   "source": [
    "for case_no_str in case_numbers:\n",
    "    driver = search_case_number(driver, case_no_str)\n",
    "    data_elems = driver.find_elements(By.XPATH, \"//*[(@id='SheetContentPlaceHolder_ctl00_gvCaseResults')]//*[@href]\")\n",
    "    if len(data_elems) > 0:\n",
    "        for i, elem in enumerate(data_elems):\n",
    "            data_elems = driver.find_elements(By.XPATH, \"//*[(@id='SheetContentPlaceHolder_ctl00_gvCaseResults')]//*[@href]\")\n",
    "            data_elems[i].click()\n",
    "            driver, case_number = fetch_case_summary(session, driver)\n",
    "            driver, case_number = fetch_case_summary_tables(session, driver, case_number)\n",
    "            driver, case_number = fetch_docket_info(session, driver, case_number)\n",
    "            driver.back()\n",
    "            driver = check_tos(driver)\n",
    "            driver, case_number = fetch_cost_info(session, driver, case_number)\n",
    "            driver.back()\n",
    "            driver = check_tos(driver)\n",
    "            driver, case_number = fetch_defendant_info(session, driver, case_number)\n",
    "            driver.back()\n",
    "            driver = check_tos(driver)\n",
    "            driver, case_number = fetch_attorney_info(session, driver, case_number)\n",
    "            driver.back()\n",
    "            driver = check_tos(driver)\n",
    "            driver.back()\n",
    "    else:\n",
    "        driver, case_number = fetch_case_summary(session, driver)\n",
    "        driver, case_number = fetch_case_summary_tables(session, driver, case_number)\n",
    "        driver, case_number = fetch_docket_info(session, driver, case_number)\n",
    "        driver, case_number = fetch_cost_info(session, driver, case_number)\n",
    "        driver, case_number = fetch_defendant_info(session, driver, case_number)\n",
    "        driver, case_number = fetch_attorney_info(session, driver, case_number)\n",
    "    \n",
    "\n",
    "    "
   ]
  },
  {
   "cell_type": "code",
   "execution_count": 77,
   "metadata": {},
   "outputs": [
    {
     "data": {
      "text/plain": [
       "[]"
      ]
     },
     "execution_count": 77,
     "metadata": {},
     "output_type": "execute_result"
    }
   ],
   "source": [
    "driver.find_elements(By.ID, \"SheetContentPlaceHolder_btnYes\")"
   ]
  },
  {
   "cell_type": "code",
   "execution_count": 75,
   "metadata": {},
   "outputs": [],
   "source": [
    "from re import I\n",
    "import sqlalchemy\n",
    "\n",
    "\n",
    "# opts = Options()\n",
    "# # opts.headless = True\n",
    "# driver = webdriver.Chrome(ChromeDriverManager().install(), options=opts)#, executable_path=binary_path)\n",
    "\n",
    "def check_tos(driver):\n",
    "    # anticipates terms of service pop up\n",
    "    if len(driver.find_elements(By.ID, \"SheetContentPlaceHolder_btnYes\")) > 0:\n",
    "        WebDriverWait(driver, 10).until(EC.element_to_be_clickable((By.ID, \"SheetContentPlaceHolder_btnYes\"))).click()\n",
    "        driver.implicitly_wait(3)\n",
    "    return driver\n",
    "\n",
    "def search_case_number(driver: WebDriver, case_number: str) -> webdriver.Chrome:\n",
    "    \"\"\"Goes to search page, upon landing on the search page, this function will navigate the agreement and then enter a case \n",
    "    number to search criminal records and click the submit button.\n",
    "    Be sure to already be on the case search page when you run this function.\"\"\"\n",
    "    driver.get(\"https://cpdocket.cp.cuyahogacounty.us/Search.aspx\") \n",
    "    driver = check_tos(driver)\n",
    "    WebDriverWait(driver, 10).until(\n",
    "        EC.element_to_be_clickable((By.XPATH, \"//*[(@id = 'SheetContentPlaceHolder_rbCrCase')]\"))).click()\n",
    "    driver.implicitly_wait(2)\n",
    "    \n",
    "    if len(driver.find_elements(By.ID, \"SheetContentPlaceHolder_btnYes\")) > 0:\n",
    "        WebDriverWait(driver, 10).until(EC.element_to_be_clickable((By.ID, \"SheetContentPlaceHolder_btnYes\"))).click()\n",
    "        WebDriverWait(driver, 10).until(EC.element_to_be_clickable((By.XPATH, \"//*[(@id = 'SheetContentPlaceHolder_rbCrCase')]\"))).click()\n",
    "        driver.implicitly_wait(3)\n",
    "    \n",
    "    # checks if searching elements are there\n",
    "    if len(driver.find_elements(By.ID, \"SheetContentPlaceHolder_ctl00_gvCaseResults\")) == 0:\n",
    "        \n",
    "        text_box = driver.find_element(By.XPATH, \"//input[(@type = 'text')]\")\n",
    "        text_box.clear()\n",
    "        text_box.send_keys(case_number)\n",
    "        WebDriverWait(driver, 10).until(EC.element_to_be_clickable((By.ID, \"SheetContentPlaceHolder_criminalCaseSearch_btnSubmitCase\"))).click()\n",
    "        driver.implicitly_wait(random.randint(4,15))\n",
    "\n",
    "    return driver\n",
    "\n",
    "def get_table(case_number: str, header_xpath: str, data_xpath: str) -> pd.DataFrame:\n",
    "    headers = driver.find_elements(By.XPATH, header_xpath)\n",
    "    data = driver.find_elements(By.XPATH, data_xpath)\n",
    "    data_list = [d.text for d in data]\n",
    "    table = {}\n",
    "    for i, h in enumerate(headers):\n",
    "        table[h.text.upper()]=data_list[i::len(headers)]\n",
    "    df = pd.DataFrame(table)\n",
    "    df[\"CASE_NUMBER\"] = case_number\n",
    "    return df\n",
    "\n",
    "def write_pandas_df_to_db(db, df: pd.DataFrame, table_to_write_to: str):\n",
    "    engine = db.get_bind()\n",
    "    df.columns = df.columns.str.replace(\" \", \"_\")\n",
    "    df.columns = df.columns.str.lower()\n",
    "    df.columns = df.columns.str.replace(\"/\",\"_\")\n",
    "    df.columns = df.columns.str.replace(\".\", \"\")\n",
    "    df.to_sql(table_to_write_to, engine, if_exists=\"append\", index=False)\n",
    "\n",
    "def fetch_case_summary(db, driver) -> str:\n",
    "    \"\"\"commits returns case_number\"\"\"\n",
    "    WebDriverWait(driver,10).until(EC.element_to_be_clickable((By.XPATH, \"//*[(@id = 'SheetContentPlaceHolder_caseSummary_lblCaseNumber')]\")))\n",
    "    case_number = driver.find_element(By.XPATH, \"//*[(@id = 'SheetContentPlaceHolder_caseSummary_lblCaseNumber')]\").text\n",
    "    case_information=models.CaseInformation(\n",
    "        case_number= case_number,\n",
    "        status=driver.find_element(By.XPATH, \"//*[(@id = 'SheetContentPlaceHolder_caseSummary_lblCaseStatus')]\").text,\n",
    "        judge_name=driver.find_element(By.XPATH, \"//*[(@id = 'SheetContentPlaceHolder_caseSummary_lblJudgeName')]\").text,\n",
    "        next_event=driver.find_element(By.XPATH, \"//*[(@id = 'SheetContentPlaceHolder_caseSummary_lblNextEvent')]\").text,\n",
    "        arrested_date=driver.find_element(By.XPATH, \"//*[(@id = 'SheetContentPlaceHolder_caseSummary_lblArrested')]\").text,\n",
    "        arresting_agency=driver.find_element(By.XPATH, \"//*[(@id = 'SheetContentPlaceHolder_caseSummary_lblArrestingAgency')]\").text,\n",
    "        arresting_agency_report=driver.find_element(By.XPATH, \"//*[(@id = 'SheetContentPlaceHolder_caseSummary_lblArestingAgencyReport')]\").text,\n",
    "        court_of_appeals_case=driver.find_element(By.XPATH, \"//*[(@id = 'SheetContentPlaceHolder_caseSummary_lblCOACase')]\").text\n",
    "    )\n",
    "    db.add(case_information)\n",
    "    defendant_info = models.DefendantInformation(\n",
    "        case_number=case_number,\n",
    "        number=driver.find_element(By.XPATH, \"//*[(@id = 'SheetContentPlaceHolder_caseSummary_lblNumber')]\").text,\n",
    "        name=driver.find_element(By.XPATH, \"//*[(@id = 'SheetContentPlaceHolder_caseSummary_lblName')]\").text,\n",
    "        status=driver.find_element(By.XPATH, \"//*[(@id = 'SheetContentPlaceHolder_caseSummary_defStatus_lblDefStatus')]\").text,\n",
    "        date_of_birth=driver.find_element(By.XPATH, \"//*[(@id = 'SheetContentPlaceHolder_caseSummary_lblDOB')]\").text,\n",
    "        race=driver.find_element(By.XPATH, \"//*[(@id = 'SheetContentPlaceHolder_caseSummary_lblRace')]\").text,\n",
    "        sex=driver.find_element(By.XPATH, \"//*[(@id = 'SheetContentPlaceHolder_caseSummary_lblSex')]\").text,\n",
    "        other_cases=driver.find_element(By.XPATH, \"//*[(@id = 'SheetContentPlaceHolder_caseSummary_otherCases_lblOtherCases')]\").text,\n",
    "        co_defendants=driver.find_element(By.XPATH, \"//*[(@id = 'SheetContentPlaceHolder_caseSummary_otherDefs_lblCoDefs')]\").text\n",
    "    ) \n",
    "    db.add(defendant_info)  \n",
    "    db.commit()\n",
    "    return driver, case_number\n",
    "\n",
    "def fetch_case_summary_tables(db, driver, case_number) -> Tuple[WebDriver, str]:\n",
    "    \"\"\"gets info from case summary page\"\"\"\n",
    "    #additional tables\n",
    "    charge_df = get_table(case_number, \n",
    "                        header_xpath=\"//table[(@id = 'SheetContentPlaceHolder_caseCharges_gvCharges')]//th\", \n",
    "                        data_xpath=\"//table[(@id = 'SheetContentPlaceHolder_caseCharges_gvCharges')]//td\")\n",
    "    write_pandas_df_to_db(db, charge_df, \"charges\")\n",
    "    \n",
    "    bond_df = get_table(case_number, \n",
    "                        header_xpath=\"//table[(@id = 'SheetContentPlaceHolder_caseBondInfo_gvBonds')]//th\", \n",
    "                        data_xpath=\"//table[(@id = 'SheetContentPlaceHolder_caseBondInfo_gvBonds')]//td\")\n",
    "    write_pandas_df_to_db(db, bond_df, \"bond_information\")\n",
    "    \n",
    "    action_df = get_table(case_number,\n",
    "                        header_xpath=\"//table[(@id = 'SheetContentPlaceHolder_caseActions_gvActions')]//th\",\n",
    "                        data_xpath=\"//table[(@id = 'SheetContentPlaceHolder_caseActions_gvActions')]//td\")\n",
    "    write_pandas_df_to_db(db, action_df, \"case_actions\")\n",
    "    return driver, case_number\n",
    "\n",
    "\n",
    "def fetch_docket_info(db, driver, case_number):\n",
    "    \"\"\"from case summary page, clicks docket, downloads information\"\"\"\n",
    "    WebDriverWait(driver, 10).until(EC.element_to_be_clickable((By.ID, \"SheetContentPlaceHolder_caseHeader_lbDocket\"))).click()\n",
    "    driver = check_tos(driver)\n",
    "    docket_table = get_table(case_number,\n",
    "    header_xpath=\"//table[(@id = 'SheetContentPlaceHolder_caseDocket_gvDocketInformation')]//th\",\n",
    "    data_xpath=\"//table[(@id = 'SheetContentPlaceHolder_caseDocket_gvDocketInformation')]//td\")\n",
    "    docket_table.drop('VIEW IMAGE', axis=1, inplace=True)\n",
    "    write_pandas_df_to_db(db, docket_table, \"docket_information\")\n",
    "    return driver, case_number\n",
    "\n",
    "def fetch_cost_info(db, driver, case_number):\n",
    "    WebDriverWait(driver, 2).until(EC.element_to_be_clickable((By.ID,\"SheetContentPlaceHolder_caseHeader_lbCosts\"))).click()\n",
    "    # anticipates terms of service\n",
    "    driver = check_tos(driver)\n",
    "    #SheetContentPlaceHolder_caseCosts_gvCosts\n",
    "    cost_table = get_table(case_number, header_xpath=\"//table[(@id = 'SheetContentPlaceHolder_caseCosts_gvCosts')]//th\", data_xpath=\"//table[(@id = 'SheetContentPlaceHolder_caseCosts_gvCosts')]//td\")\n",
    "    write_pandas_df_to_db(db, cost_table, \"cost_information\")\n",
    "    return driver, case_number\n",
    "        \n",
    "def fetch_defendant_info(db, driver, case_number):\n",
    "    WebDriverWait(driver, 2).until(EC.element_to_be_clickable((By.ID,\"SheetContentPlaceHolder_caseHeader_lbDefendant\"))).click()\n",
    "    driver = check_tos(driver)\n",
    "    defendent_info = models.Defendant(\n",
    "        name=driver.find_element(By.XPATH, \"//*[(@id = 'SheetContentPlaceHolder_defGeneral_lblName')]\").text,\n",
    "        defendant_id=driver.find_element(By.XPATH, \"//*[(@id = 'SheetContentPlaceHolder_defGeneral_lblDefID')]\").text,\n",
    "        case_number = case_number,\n",
    "        status=driver.find_element(By.XPATH, \"//*[(@id = 'SheetContentPlaceHolder_defGeneral_defStatus_lblDefStatus')]\").text,\n",
    "        marital_status=driver.find_element(By.XPATH, \"//*[(@id = 'SheetContentPlaceHolder_defGeneral_lblMaritalStatus')]\").text,\n",
    "        birth_city=driver.find_element(By.XPATH, \"//*[(@id = 'SheetContentPlaceHolder_defGeneral_lblBirthCity')]\").text,\n",
    "        birth_state=driver.find_element(By.XPATH, \"//*[(@id = 'SheetContentPlaceHolder_defGeneral_lblBirthState')]\").text,\n",
    "        citizenship=driver.find_element(By.XPATH, \"//*[(@id = 'SheetContentPlaceHolder_defGeneral_lblCitizenship')]\").text,\n",
    "        address_1=driver.find_element(By.XPATH, \"//*[(@id = 'SheetContentPlaceHolder_defAddress_lblAddress1')]\").text,\n",
    "        address_2=driver.find_element(By.XPATH, \"//*[(@id = 'SheetContentPlaceHolder_defAddress_lblAddress2')]\").text,\n",
    "        # address_3=driver.find_elements(By.XPATH, \"//*[(@id = 'SheetContentPlaceHolder_defAddress_lblAddress3')]\").text,\n",
    "        city_state_zip=driver.find_element(By.XPATH, \"//*[(@id = 'SheetContentPlaceHolder_defAddress_lblCSZ')]\").text,\n",
    "        race=driver.find_element(By.XPATH, \"//*[(@id = 'SheetContentPlaceHolder_defIDChar_lblRace')]\").text,\n",
    "        height=driver.find_element(By.XPATH, \"//*[(@id = 'SheetContentPlaceHolder_defIDChar_lblHeight')]\").text,\n",
    "        sex=driver.find_element(By.XPATH, \"//*[(@id = 'SheetContentPlaceHolder_defIDChar_lblSex')]\").text,\n",
    "        weight=driver.find_element(By.XPATH, \"//*[(@id = 'SheetContentPlaceHolder_defIDChar_lblWeight')]\").text,\n",
    "        age=driver.find_element(By.XPATH, \"//*[(@id = 'SheetContentPlaceHolder_defIDChar_lblAge')]\").text,\n",
    "        eyes=driver.find_element(By.XPATH, \"//*[(@id = 'SheetContentPlaceHolder_defIDChar_lblEyes')]\").text,\n",
    "        date_of_birth=driver.find_element(By.XPATH, \"//*[(@id = 'SheetContentPlaceHolder_defIDChar_lblDOB')]\").text,\n",
    "        hair=driver.find_element(By.XPATH, \"//*[(@id = 'SheetContentPlaceHolder_defIDChar_lblHair')]\").text,\n",
    "        )\n",
    "    # anticipates terms of service\n",
    "    db.add(defendent_info)\n",
    "    db.commit()\n",
    "    alias_table = get_table(case_number, header_xpath=\"//table[(@id = 'SheetContentPlaceHolder_defAlias_gvAlias')]//th\", data_xpath=\"//table[(@id = 'SheetContentPlaceHolder_defAlias_gvAlias')]//td\")\n",
    "    alias_table[\"defendant_id\"] = defendent_info.id\n",
    "    write_pandas_df_to_db(db, alias_table, \"alias\")\n",
    "    return driver, case_number\n",
    "\n",
    "\n",
    "def get_attorney_table(db, driver, case_number, table_data):\n",
    "    data = driver.find_elements(By.XPATH, table_data)\n",
    "    data_list = [d.text for d in data]\n",
    "    atts = [x for x in list(set(data_list)) if x.count(\"Address/Phone\") ==1 and x.count(\"Attorney Name\") ==1]\n",
    "    attorney_names = [x.split(\"\\nAddress/Phone:\")[0].replace(\"Attorney Name:\", \"\").strip() for x in atts]\n",
    "    attorney_address = [x.split(\"\\nAddress/Phone:\")[1].split(\"\\nPh:\")[0].strip() for x in atts]\n",
    "    attorney_phone = [x.split(\"\\nAddress/Phone:\")[1].split(\"\\nPh:\")[1].strip() for x in atts]\n",
    "    for n, a, p in zip(attorney_names, attorney_address, attorney_phone):\n",
    "        attorney = models.Attorney(\n",
    "            case_number=case_number,\n",
    "            name=n,\n",
    "            address=a,\n",
    "            phone=p\n",
    "        )\n",
    "        db.add(attorney)\n",
    "    db.commit()\n",
    "    return driver\n",
    "\n",
    "def fetch_attorney_info(db, driver, case_number):\n",
    "    WebDriverWait(driver, 2).until(EC.element_to_be_clickable((By.ID,\"SheetContentPlaceHolder_caseHeader_lbAttorney\"))).click()\n",
    "    driver = check_tos(driver)\n",
    "    driver = get_attorney_table(db, driver, case_number, \"//table[(@id='SheetContentPlaceHolder_attyInfo_gvAttyInfo')]//*\")\n",
    "    return driver, case_number\n",
    "\n",
    "\n",
    "\n",
    "\n",
    "        \n",
    "    \n"
   ]
  },
  {
   "cell_type": "markdown",
   "metadata": {},
   "source": [
    "# h-list"
   ]
  },
  {
   "cell_type": "code",
   "execution_count": 17,
   "metadata": {},
   "outputs": [
    {
     "ename": "NameError",
     "evalue": "name 'db' is not defined",
     "output_type": "error",
     "traceback": [
      "\u001b[0;31m---------------------------------------------------------------------------\u001b[0m",
      "\u001b[0;31mNameError\u001b[0m                                 Traceback (most recent call last)",
      "Cell \u001b[0;32mIn [17], line 1\u001b[0m\n\u001b[0;32m----> 1\u001b[0m db\n",
      "\u001b[0;31mNameError\u001b[0m: name 'db' is not defined"
     ]
    }
   ],
   "source": []
  },
  {
   "cell_type": "code",
   "execution_count": null,
   "metadata": {},
   "outputs": [
    {
     "ename": "",
     "evalue": "",
     "output_type": "error",
     "traceback": [
      "\u001b[1;31mnotebook controller is DISPOSED. \n",
      "\u001b[1;31mView Jupyter <a href='command:jupyter.viewOutput'>log</a> for further details."
     ]
    }
   ],
   "source": [
    "already_scraped = list(df[\"CASE_NUMBER\"].unique())"
   ]
  },
  {
   "cell_type": "code",
   "execution_count": null,
   "metadata": {},
   "outputs": [
    {
     "ename": "",
     "evalue": "",
     "output_type": "error",
     "traceback": [
      "\u001b[1;31mnotebook controller is DISPOSED. \n",
      "\u001b[1;31mView Jupyter <a href='command:jupyter.viewOutput'>log</a> for further details."
     ]
    }
   ],
   "source": [
    "new_cases = [\"618926\",\n",
    "\"620395\",\n",
    "\"616872\",\n",
    "\"620865\",\n",
    "\"614781\",\n",
    "\"628724\",\n",
    "\"631170\",\n",
    "\"627746\",\n",
    "\"635840\",\n",
    "\"633911\",\n",
    "\"646343\",\n",
    "\"646590\",\n",
    "\"641595\",\n",
    "\"641983\",\n",
    "\"647080\",\n",
    "\"650202\",\n",
    "\"650473\",\n",
    "\"649886\",\n",
    "\"648192\",\n",
    "\"648166\",\n",
    "\"666430\",\n",
    "\"657457\",\n",
    "\"663574\",\n",
    "\"660005\",\n",
    "\"665568\",\n",
    "\"616263\",\n",
    "\"613712\",\n",
    "\"618748\",\n",
    "\"615216\",\n",
    "\"619363\",\n",
    "\"625226\",\n",
    "\"625071\",\n",
    "\"633620\",\n",
    "\"627879\",\n",
    "\"627879\",\n",
    "\"644646\",\n",
    "\"645807\",\n",
    "\"640586\",\n",
    "\"646354\",\n",
    "\"642321\",\n",
    "\"652069\",\n",
    "\"651583\",\n",
    "\"655333\",\n",
    "\"653793\",\n",
    "\"653048\",\n",
    "\"660255\",\n",
    "\"662286\",\n",
    "\"662347\",\n",
    "\"656397\",\n",
    "\"660002\",\n",
    "\"619447\",\n",
    "\"621879\",\n",
    "\"619539\",\n",
    "\"619626\",\n",
    "\"619180\",\n",
    "\"628630\",\n",
    "\"627817\",\n",
    "\"633075\",\n",
    "\"629819\",\n",
    "\"627173\",\n",
    "\"640255\",\n",
    "\"645111\",\n",
    "\"646461\",\n",
    "\"636695\",\n",
    "\"644912\",\n",
    "\"655597\",\n",
    "\"653681\",\n",
    "\"651825\",\n",
    "\"654631\",\n",
    "\"651363\",\n",
    "\"656323\",\n",
    "\"665547\",\n",
    "\"659751\",\n",
    "\"662658\",\n",
    "\"662176\",\n",
    "\"619386\",\n",
    "\"619384\",\n",
    "\"619846\",\n",
    "\"623628\",\n",
    "\"619478\",\n",
    "\"626510\",\n",
    "\"634952\",\n",
    "\"631300\",\n",
    "\"635457\",\n",
    "\"630824\",\n",
    "\"643838\",\n",
    "\"645684\",\n",
    "\"636488\",\n",
    "\"642792\",\n",
    "\"636996\",\n",
    "\"652397\",\n",
    "\"648833\",\n",
    "\"648433\",\n",
    "\"653455\",\n",
    "\"647816\",\n",
    "\"664281\",\n",
    "\"664518\",\n",
    "\"664801\",\n",
    "\"662304\",\n",
    "\"664021\"]"
   ]
  }
 ],
 "metadata": {
  "kernelspec": {
   "display_name": "Python 3.10.0 ('.venv': venv)",
   "language": "python",
   "name": "python3"
  },
  "language_info": {
   "codemirror_mode": {
    "name": "ipython",
    "version": 3
   },
   "file_extension": ".py",
   "mimetype": "text/x-python",
   "name": "python",
   "nbconvert_exporter": "python",
   "pygments_lexer": "ipython3",
   "version": "3.10.0"
  },
  "vscode": {
   "interpreter": {
    "hash": "da8c13c39276f1ff4ff53aa12e588860d3000a93f5dfc4cfbf5db1e4ccd5d515"
   }
  }
 },
 "nbformat": 4,
 "nbformat_minor": 4
}
