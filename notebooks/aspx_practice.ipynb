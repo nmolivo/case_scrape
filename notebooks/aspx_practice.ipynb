{
 "cells": [
  {
   "cell_type": "code",
   "execution_count": 6,
   "metadata": {},
   "outputs": [],
   "source": [
    "import pandas as pd\n",
    "from sqlalchemy import create_engine\n",
    "from sqlalchemy.orm import Session, sessionmaker, scoped_session\n",
    "from chromedriver_py import binary_path\n",
    "from selenium import webdriver\n",
    "from selenium.webdriver.chrome.options import Options\n",
    "from selenium.webdriver.common.by import By\n",
    "from selenium.webdriver.common.keys import Keys\n",
    "from selenium.webdriver.support.ui import WebDriverWait, Select\n",
    "from selenium.webdriver.support import expected_conditions as EC\n",
    "from sqlalchemy.util.compat import contextmanager\n",
    "from selenium.common.exceptions import NoSuchElementException\n",
    "import random"
   ]
  },
  {
   "cell_type": "code",
   "execution_count": 8,
   "metadata": {},
   "outputs": [],
   "source": [
    "from selenium import webdriver\n",
    "from webdriver_manager.chrome import ChromeDriverManager\n",
    "opts = Options()\n",
    "# opts.headless = True\n",
    "#driver = webdriver.Chrome(options=opts, executable_path=binary_path)"
   ]
  },
  {
   "cell_type": "code",
   "execution_count": 9,
   "metadata": {},
   "outputs": [
    {
     "name": "stderr",
     "output_type": "stream",
     "text": [
      "[WDM] - Downloading: 100%|██████████| 8.04M/8.04M [00:01<00:00, 4.68MB/s]\n",
      "/var/folders/rb/4k3rm5dn3_5gbmbfgfhgdy280000gn/T/ipykernel_54228/2906633962.py:3: DeprecationWarning: executable_path has been deprecated, please pass in a Service object\n",
      "  driver = webdriver.Chrome(ChromeDriverManager().install(), options=opts)#, executable_path=binary_path)\n"
     ]
    }
   ],
   "source": [
    "opts = Options()\n",
    "# opts.headless = True\n",
    "driver = webdriver.Chrome(ChromeDriverManager().install(), options=opts)#, executable_path=binary_path)\n",
    "\n",
    "\n",
    "\n",
    "additional_cases_to_scrape = []\n",
    "\n",
    "x_case_number = []\n",
    "x_case_status = []\n",
    "x_judge_name = []\n",
    "x_next_event = []\n",
    "x_arrested_date = []\n",
    "x_arresting_agency = []\n",
    "x_arresting_agency_report = []\n",
    "x_court_of_appeals_case = []\n",
    "x_defendant_number = []\n",
    "x_defendant_name = []\n",
    "x_defendant_status = []\n",
    "x_defendant_dob = []\n",
    "x_defendant_race = []\n",
    "x_defendant_sex = []\n",
    "x_other_cases = []\n",
    "x_co_defendants = []\n",
    "charge_type = []\n",
    "charge_statute = []\n",
    "charge_desc = []\n",
    "charge_disposition = []\n",
    "bond_number = []\n",
    "bond_amount = []\n",
    "bond_type = []\n",
    "bond_date_set = []\n",
    "bond_date_posted = []\n",
    "bond_bond_company = []\n",
    "event_date = []\n",
    "event_description = []\n",
    "charge_dfs = []\n",
    "actions_dfs = []\n",
    "bonds_dfs = []\n"
   ]
  },
  {
   "cell_type": "code",
   "execution_count": 10,
   "metadata": {},
   "outputs": [],
   "source": [
    "def search_case_number(case_number):\n",
    "    \"\"\"upon landing on the search page, this function will navigate the agreement and then enter a case \n",
    "    number to search criminal records and click the submit button.\n",
    "    Be sure to already be on the case search page when you run this function.\"\"\"\n",
    "    WebDriverWait(driver, 10).until(\n",
    "        EC.element_to_be_clickable((By.XPATH, \"//*[(@id = 'SheetContentPlaceHolder_rbCrCase')]\"))).click()\n",
    "    driver.implicitly_wait(2)\n",
    "    \n",
    "    if len(driver.find_elements(By.ID, \"SheetContentPlaceHolder_btnYes\")) > 0:\n",
    "        WebDriverWait(driver, 10).until(EC.element_to_be_clickable((By.ID, \"SheetContentPlaceHolder_btnYes\"))).click()\n",
    "        WebDriverWait(driver, 10).until(EC.element_to_be_clickable((By.XPATH, \"//*[(@id = 'SheetContentPlaceHolder_rbCrCase')]\"))).click()\n",
    "        driver.implicitly_wait(3)\n",
    "\n",
    "    text_box = driver.find_element(By.XPATH, \"//input[(@type = 'text')]\")\n",
    "    text_box.clear()\n",
    "    text_box.send_keys(case_number)\n",
    "    WebDriverWait(driver, 10).until(EC.element_to_be_clickable((By.ID, \"SheetContentPlaceHolder_criminalCaseSearch_btnSubmitCase\"))).click()\n",
    "    driver.implicitly_wait(random.randint(4,15))\n",
    "    return driver\n",
    "\n",
    "def get_table(case_number: str, header_xpath: str, data_xpath: str) -> pd.DataFrame:\n",
    "    headers = driver.find_elements(By.XPATH, header_xpath)\n",
    "    data = driver.find_elements(By.XPATH, data_xpath)\n",
    "    data_list = [d.text for d in data]\n",
    "    table = {}\n",
    "    for i, h in enumerate(headers):\n",
    "        table[h.text.upper()]=data_list[i::len(headers)]\n",
    "    df = pd.DataFrame(table)\n",
    "    df[\"CASE_NUMBER\"] = case_number\n",
    "    return df"
   ]
  },
  {
   "cell_type": "code",
   "execution_count": 11,
   "metadata": {},
   "outputs": [],
   "source": [
    "driver.get(\"https://cpdocket.cp.cuyahogacounty.us/Search.aspx\") "
   ]
  },
  {
   "cell_type": "code",
   "execution_count": 1,
   "metadata": {},
   "outputs": [],
   "source": [
    "import requests\n",
    "from bs4 import BeautifulSoup"
   ]
  },
  {
   "cell_type": "code",
   "execution_count": 2,
   "metadata": {},
   "outputs": [],
   "source": [
    "referer=\"https://cpdocket.cp.cuyahogacounty.us/CR_CaseInformation_Docket.aspx?q=JGza6PovFtECU5ADsehJFA2\""
   ]
  },
  {
   "cell_type": "code",
   "execution_count": null,
   "metadata": {},
   "outputs": [],
   "source": [
    "//*[@id=\"SheetContentPlaceHolder_caseDocket_gvDocketInformation\"]/tbody/tr[3]/td[6]/a"
   ]
  },
  {
   "cell_type": "code",
   "execution_count": null,
   "metadata": {},
   "outputs": [],
   "source": [
    "<a title=\"View Docket Image\" href=\"DisplayImageList.aspx?q=b25wMZvfMXXbV3SlcWWeZlBYBEHPb5xb0\" target=\"_blank\"\n",
    "<img title=\"View Docket Image\" src=\"images/ImageSheet.png\" alt=\"View Docket Image\"></a>"
   ]
  },
  {
   "cell_type": "code",
   "execution_count": null,
   "metadata": {},
   "outputs": [],
   "source": []
  },
  {
   "cell_type": "code",
   "execution_count": 4,
   "metadata": {},
   "outputs": [],
   "source": [
    "r_obj = requests.Session()\n",
    "url = \"https://cpdocket.cp.cuyahogacounty.us/CR_CaseInformation_Docket.aspx?q=JGza6PovFtECU5ADsehJFA2\" # i.e. http://bisegrw.edu.pk/\n",
    "r_soup = r_obj.get(url)\n",
    "soup = BeautifulSoup(r_soup.content , \"lxml\")\n"
   ]
  },
  {
   "cell_type": "code",
   "execution_count": 6,
   "metadata": {},
   "outputs": [],
   "source": [
    "hidden_inputs = soup.find_all(\"input\",type=\"hidden\")"
   ]
  },
  {
   "cell_type": "code",
   "execution_count": 23,
   "metadata": {},
   "outputs": [
    {
     "data": {
      "text/plain": [
       "[]"
      ]
     },
     "execution_count": 23,
     "metadata": {},
     "output_type": "execute_result"
    }
   ],
   "source": [
    "soup.find_all(\"submitButton\")"
   ]
  },
  {
   "cell_type": "code",
   "execution_count": 24,
   "metadata": {},
   "outputs": [],
   "source": [
    "data = {\n",
    "hidden_inputs[0]['name']:hidden_inputs[0]['value'],\n",
    "hidden_inputs[1]['name']:hidden_inputs[1]['value'],\n",
    "hidden_inputs[2]['name']:hidden_inputs[2]['value'],\n",
    "'ctl00$SheetContentPlaceHolder$btnYes':'Yes'}\n",
    "\n",
    "url_needed = \"aspx_endpoint\" # i.e. http://bisegrw.edu.pk/result-card-matric.html\n",
    "final = r_obj.post(url,verify=False,data=data)\n",
    "soup1 = BeautifulSoup(final.content,\"lxml\")\n",
    "detail_tab = soup1.find_all(\"table\")"
   ]
  },
  {
   "cell_type": "code",
   "execution_count": 25,
   "metadata": {},
   "outputs": [
    {
     "data": {
      "text/plain": [
       "[<table style=\"height:100px; width:100%; padding:0px; border-spacing:0px; \">\n",
       " <tr>\n",
       " <td style=\"width:5%\"></td>\n",
       " <td style=\"width:95%; overflow:hidden;\">\n",
       " <h1 class=\"art-logo-name\" id=\"name-text\">\n",
       "                     Cuyahoga County\n",
       "                     <br/>\n",
       "                     Clerk of Courts\n",
       "                 </h1>\n",
       " </td>\n",
       " </tr>\n",
       " </table>,\n",
       " <table style=\"width:100%; height:100%; padding:0px; border-spacing:7px; \">\n",
       " <tr>\n",
       " <td style=\"text-align:right;\">\n",
       " </td>\n",
       " <td style=\"text-align:right;\">\n",
       " </td>\n",
       " </tr>\n",
       " </table>,\n",
       " <table style=\"background-color: #DCDCDC; width: 100%;\">\n",
       " <tr>\n",
       " <td style=\"text-align:center; padding:20px;\">\n",
       " <br/>\n",
       " <div id=\"SheetContentPlaceHolder_yesDiv\">\n",
       " <p>\n",
       "                                                 Welcome to the Case Records Search System of the Cuyahoga County Clerk of Courts. \n",
       "                                                 The services and/or information we provided through this Website are subject to these \n",
       "                                                 Conditions of Use. Please read these Conditions of Use carefully. If you use our \n",
       "                                                 Website, you accept these conditions.</p>\n",
       " <p>\n",
       "                                                 This Website service is offered as a convenience to the public and reflects, to the best \n",
       "                                                 of our capability, select public records maintained by the Cuyahoga County Clerk of \n",
       "                                                 Courts in performance of our statutory obligations. These documents are not the official \n",
       "                                                 public records and may not include every document filed with the Clerk of Courts. The \n",
       "                                                 actual documents upon which this service is based are physically located at the offices \n",
       "                                                 of the Cuyahoga County Clerk of Courts, 1200 Ontario Street, Cleveland, OH 44113 \n",
       "                                                 and are available for review unless such records are exempt from disclosure. We make \n",
       "                                                 every effort to ensure that all information on this service is current and accurate but do \n",
       "                                                 not guarantee this. All users of this service agree to hold the Cuyahoga County Clerk of \n",
       "                                                 Courts harmless from any and all losses, damages, liability, omissions, or claims which \n",
       "                                                 may arise directly or indirectly from information obtained from this service or use of the \n",
       "                                                 service itself.</p>\n",
       " <p>\n",
       "                                                 This Website is provided by the Cuyahoga County Clerk of Courts on an “as is” and “as \n",
       "                                                 available” basis. The Cuyahoga County Clerk of Courts makes no representations or \n",
       "                                                 warranties of any kind, express or implied, as to the operation of this Website or the \n",
       "                                                 information, content, materials, products included or services provided through this \n",
       "                                                 Website, and specifically disclaims any warranty, express, implied or statutory, including \n",
       "                                                 any warranty of merchantability or fitness for a particular purpose. You expressly agree \n",
       "                                                 that your use of this Website is at your sole risk. You expressly agree that neither the \n",
       "                                                 Cuyahoga County Clerk of Courts, including but not limited to its elected and/or \n",
       "                                                 appointed officials, employees, and agents, nor Cuyahoga County, including but not \n",
       "                                                 limited to its elected and/or appointed officials, employees, and agents, shall be \n",
       "                                                 responsible for any claim, demand, loss, damage, injury, judgment, debt, obligation, \n",
       "                                                 liability, or form of action of any kind relating directly or indirectly to the use of this \n",
       "                                                 Website, the posting of information or data on this Website, the accessing of information \n",
       "                                                 or data on this Website, and/or the acts and/or omissions of any person or entity \n",
       "                                                 accessing or using any information or data from this Website. This includes but is not \n",
       "                                                 limited to claims arising out of or incident to incorrect or incomplete data or information. \n",
       "                                                 All users are cautioned to verify independently any information or data obtained from \n",
       "                                                 this Website with the official court record information maintained by the office of the \n",
       "                                                 Cuyahoga County Clerk of Courts.</p>\n",
       " <p>\n",
       "                                                 Furthermore, users of this service understand that periodic maintenance and system \n",
       "                                                 outages, whether scheduled or unscheduled, may occur and that during such outages \n",
       "                                                 this Website may be unavailable. In the event this system is unavailable for any reason, \n",
       "                                                 including but not limited to technical difficulties, the Cuyahoga County Clerk of Court \n",
       "                                                 assumes no responsibility to restore the system within any predetermined period of \n",
       "                                                 time.</p>\n",
       " <p>\n",
       "                                                 You may not bypass the database query parsers and directly access the search \n",
       "                                                 engines or documents.  Users using, formulating or constructing their own search or \n",
       "                                                 query URLs in an attempt to bypass the database query parsers and directly access the \n",
       "                                                 database search engines or documents will be permanently denied access to the \n",
       "                                                 database without notice, as such efforts may lead to incorrectly formulated queries \n",
       "                                                 which may jeopardize proper operation of the database servers.</p>\n",
       " <p>\n",
       "                                                 The Case Records Search System is not intended as a source of information for those \n",
       "                                                 seeking copies of large quantities of records. These databases are intended for use by \n",
       "                                                 the general public. They are not intended to be a source for bulk downloads of data. \n",
       "                                                 Efforts to mine large quantities of data from the System without prior approval of the \n",
       "                                                 Clerk of Courts office are unauthorized and will be detected and stopped. </p>\n",
       " <p>\n",
       "                                                 By visiting the Website of the Cuyahoga County Clerk of Courts, you agree that the laws \n",
       "                                                 of the State of Ohio will govern these Conditions of Use and any dispute of any sort that \n",
       "                                                 might arise between you and the Cuyahoga County Clerk of Courts and/or Cuyahoga \n",
       "                                                 County.</p>\n",
       " </div>\n",
       " </td>\n",
       " </tr>\n",
       " <tr style=\"text-align:center;\">\n",
       " <td style=\"text-align:center;\">\n",
       " <br/>\n",
       " <br/>\n",
       " <strong>THE FOLLOWING QUESTION MUST BE COMPLETED BY YOU, THE USER, BEFORE YOU MAY ACCESS\n",
       "                                             THE WEBSITE OF THE CUYAHOGA COUNTY CLERK OF COURTS CASE RECORDS SEARCH SYSTEM.\n",
       "                                         </strong>\n",
       " </td>\n",
       " </tr>\n",
       " <tr style=\"text-align:center;\">\n",
       " <td>\n",
       " <br/>\n",
       " <strong>Have you read, understood, and agreed to these Conditions of Use? </strong>\n",
       " </td>\n",
       " </tr>\n",
       " <tr style=\"text-align:center;\">\n",
       " <td>\n",
       " <br/>\n",
       " <input class=\"art-button\" id=\"SheetContentPlaceHolder_btnYes\" name=\"ctl00$SheetContentPlaceHolder$btnYes\" type=\"submit\" value=\"Yes\"/>\n",
       "                                            \n",
       "                                         <input class=\"art-button\" id=\"SheetContentPlaceHolder_btnNo\" name=\"ctl00$SheetContentPlaceHolder$btnNo\" type=\"submit\" value=\"No\"/>\n",
       " </td>\n",
       " </tr>\n",
       " <tr>\n",
       " <td>\n",
       " </td>\n",
       " </tr>\n",
       " </table>]"
      ]
     },
     "execution_count": 25,
     "metadata": {},
     "output_type": "execute_result"
    }
   ],
   "source": [
    "detail_tab.pr   "
   ]
  },
  {
   "cell_type": "code",
   "execution_count": null,
   "metadata": {},
   "outputs": [],
   "source": [
    "\n",
    "\n",
    "r_obj = requests.Session()\n",
    "url = \"https://cpdocket.cp.cuyahogacounty.us/Search.aspx\" # i.e. http://bisegrw.edu.pk/\n",
    "r_soup = r_obj.get(url)\n",
    "soup = BeautifulSoup(r_soup.content , \"lxml\")\n",
    "\n",
    "hidden_inputs = soup.find_all(\"input\",type=\"hidden\")\n",
    "\n",
    "data = {\n",
    "hidden_inputs[0]['name']:hidden_inputs[0]['value'],\n",
    "hidden_inputs[1]['name']:hidden_inputs[1]['value'],\n",
    "hidden_inputs[2]['name']:hidden_inputs[2]['value'],\n",
    "'other_input':'value',  # i.e. 'rno':'487431',\n",
    "'submitButton':'submit'}\n",
    "\n",
    "url_needed = \"aspx_endpoint\" # i.e. http://bisegrw.edu.pk/result-card-matric.html\n",
    "final = r_obj.post(url_needed,verify=False,data=data)\n",
    "soup1 = BeautifulSoup(final.content,\"lxml\")\n",
    "detail_tab = soup1.find_all(\"table\")\n",
    "\n"
   ]
  },
  {
   "cell_type": "code",
   "execution_count": 12,
   "metadata": {},
   "outputs": [],
   "source": [
    "case_number=\"492405\""
   ]
  },
  {
   "cell_type": "code",
   "execution_count": 13,
   "metadata": {},
   "outputs": [],
   "source": [
    "driver = search_case_number(case_number)"
   ]
  },
  {
   "cell_type": "code",
   "execution_count": 14,
   "metadata": {},
   "outputs": [],
   "source": [
    "WebDriverWait(driver, 10).until(EC.element_to_be_clickable((By.LINK_TEXT, \"CR-07-492405-B\"))).click()"
   ]
  },
  {
   "cell_type": "code",
   "execution_count": 34,
   "metadata": {},
   "outputs": [],
   "source": [
    "first_table = driver.find_element(By.XPATH,\"//table[1]\")"
   ]
  },
  {
   "cell_type": "code",
   "execution_count": 36,
   "metadata": {},
   "outputs": [],
   "source": [
    "li = first_table.find_elements(By.TAG_NAME, \"td\")"
   ]
  },
  {
   "cell_type": "code",
   "execution_count": 41,
   "metadata": {},
   "outputs": [
    {
     "ename": "IndexError",
     "evalue": "list index out of range",
     "output_type": "error",
     "traceback": [
      "\u001b[0;31m---------------------------------------------------------------------------\u001b[0m",
      "\u001b[0;31mIndexError\u001b[0m                                Traceback (most recent call last)",
      "\u001b[1;32m/Users/nmolivo/Documents/Repos/case_scrape/notebooks/aspx_practice.ipynb Cell 11\u001b[0m in \u001b[0;36m<cell line: 1>\u001b[0;34m()\u001b[0m\n\u001b[0;32m----> <a href='vscode-notebook-cell:/Users/nmolivo/Documents/Repos/case_scrape/notebooks/aspx_practice.ipynb#X22sZmlsZQ%3D%3D?line=0'>1</a>\u001b[0m li[\u001b[39m2\u001b[39;49m]\u001b[39m.\u001b[39mtext\n",
      "\u001b[0;31mIndexError\u001b[0m: list index out of range"
     ]
    }
   ],
   "source": [
    "li[2].text"
   ]
  },
  {
   "cell_type": "code",
   "execution_count": 23,
   "metadata": {},
   "outputs": [],
   "source": [
    "hi = first_table.find_elements(By.TAG_NAME, \"td\")"
   ]
  },
  {
   "cell_type": "code",
   "execution_count": 24,
   "metadata": {},
   "outputs": [
    {
     "data": {
      "text/plain": [
       "'Number:'"
      ]
     },
     "execution_count": 24,
     "metadata": {},
     "output_type": "execute_result"
    }
   ],
   "source": [
    "hi[0].text"
   ]
  },
  {
   "cell_type": "code",
   "execution_count": 25,
   "metadata": {},
   "outputs": [
    {
     "data": {
      "text/plain": [
       "'166616'"
      ]
     },
     "execution_count": 25,
     "metadata": {},
     "output_type": "execute_result"
    }
   ],
   "source": [
    "hi[1].text"
   ]
  },
  {
   "cell_type": "code",
   "execution_count": null,
   "metadata": {},
   "outputs": [],
   "source": []
  }
 ],
 "metadata": {
  "kernelspec": {
   "display_name": "Python 3.10.0 ('.venv': venv)",
   "language": "python",
   "name": "python3"
  },
  "language_info": {
   "codemirror_mode": {
    "name": "ipython",
    "version": 3
   },
   "file_extension": ".py",
   "mimetype": "text/x-python",
   "name": "python",
   "nbconvert_exporter": "python",
   "pygments_lexer": "ipython3",
   "version": "3.10.0"
  },
  "orig_nbformat": 4,
  "vscode": {
   "interpreter": {
    "hash": "da8c13c39276f1ff4ff53aa12e588860d3000a93f5dfc4cfbf5db1e4ccd5d515"
   }
  }
 },
 "nbformat": 4,
 "nbformat_minor": 2
}
